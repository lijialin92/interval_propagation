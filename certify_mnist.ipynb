{
 "cells": [
  {
   "cell_type": "code",
   "execution_count": 1,
   "id": "9770fff0-ee3f-437b-8e7b-8136077cd29f",
   "metadata": {},
   "outputs": [
    {
     "name": "stderr",
     "output_type": "stream",
     "text": [
      "2021-11-10 10:30:18.011973: I tensorflow/compiler/jit/xla_cpu_device.cc:41] Not creating XLA devices, tf_xla_enable_xla_devices not set\n",
      "2021-11-10 10:30:18.012434: I tensorflow/core/platform/cpu_feature_guard.cc:142] This TensorFlow binary is optimized with oneAPI Deep Neural Network Library (oneDNN) to use the following CPU instructions in performance-critical operations:  SSE4.1 SSE4.2 AVX AVX2 FMA\n",
      "To enable them in other operations, rebuild TensorFlow with the appropriate compiler flags.\n",
      "2021-11-10 10:30:18.014119: I tensorflow/core/common_runtime/process_util.cc:146] Creating new thread pool with default inter op setting: 2. Tune using inter_op_parallelism_threads for best performance.\n"
     ]
    }
   ],
   "source": [
    "import keras\n",
    "import matplotlib.pyplot as plt\n",
    "import time\n",
    "# load the model \n",
    "model_1 = keras.models.load_model(\"mnist_two_layer_80%.h5\")"
   ]
  },
  {
   "cell_type": "code",
   "execution_count": 2,
   "id": "ef97aedb-7823-4557-a8e5-fdaecc1de840",
   "metadata": {},
   "outputs": [],
   "source": [
    "# need to use the functions in single_layer_interval_propagation\n",
    "%run single_layer_interval_propagation.ipynb\n",
    "%run simple_interval_propagation.ipynb"
   ]
  },
  {
   "cell_type": "code",
   "execution_count": 3,
   "id": "e89f745b-71e6-46f6-b542-a1c4e6b8e369",
   "metadata": {},
   "outputs": [
    {
     "data": {
      "image/png": "[encoded data removed]",
      "text/plain": [
       "<Figure size 432x288 with 2 Axes>"
      ]
     },
     "metadata": {
      "needs_background": "light"
     },
     "output_type": "display_data"
    }
   ],
   "source": [
    "# get the input interval/region\n",
    "# load the data\n",
    "from keras.datasets import mnist\n",
    "(x_train, y_train), (x_test, y_test)=mnist.load_data()\n",
    "#flatten\n",
    "x_train = x_train.reshape(x_train.shape[0], -1)\n",
    "\n",
    "#*******************************************get input_min and input_max*******************************************************\n",
    "input_min = x_train[0].reshape((1, -1))\n",
    "input_max = mnist_get_max(input_min, 13)\n",
    "\n",
    "#plot input_min and input_max\n",
    "mnist_0_0 = input_min.reshape(28, 28)\n",
    "mnist_0_5 = input_max.reshape(28, 28)\n",
    "\n",
    "f = plt.figure()\n",
    "f.add_subplot(1,2, 1)\n",
    "plt.imshow(mnist_0_0, cmap='gray', vmin=0, vmax=255)\n",
    "plt.title(\"original image\")\n",
    "f.add_subplot(1,2, 2)\n",
    "plt.imshow(mnist_0_5, cmap='gray', vmin=0, vmax=255)\n",
    "plt.title(\"add 5 for each non-zero pixel\")\n",
    "plt.show(block=True)"
   ]
  },
  {
   "cell_type": "code",
   "execution_count": null,
   "id": "69b6e328-b7cf-4b74-bcc2-a5be520ade29",
   "metadata": {},
   "outputs": [],
   "source": [
    "# the main for loop\n",
    "# the initial the TODO list--first in first out(large interval has priority)\n",
    "list_fifo=[]\n",
    "initial_interval = [input_min, input_max]\n",
    "list_fifo.append(initial_interval)\n",
    "counter_example_list = []\n",
    "\n",
    "# TODO list is first in first out, larger interval has priority.\n",
    "# get the start time\n",
    "start_time=time.time()\n",
    "# set the time out seconds. if this time is reached, it will stop to verify the intervals in the TODO list.\n",
    "total_seconds = 60*60*8\n",
    "\n",
    "# certify the nn model is correct within the specified interval\n",
    "while True:\n",
    "    \n",
    "    # update elapsed_time\n",
    "    elapsed_time = time.time() - start_time\n",
    "    \n",
    "    # waiting list is empty represents that all the intervals have been certified.\n",
    "    if not list_fifo:\n",
    "        print(\"the interval certification success! use \"+str(elapsed_time)+\" seconds! success!\")\n",
    "        break\n",
    "        \n",
    "    # when the eplased time has reach the total seconds that we set before \n",
    "    # and still can not certify the nn_model with the specified input interval and specification within specified loops\n",
    "    if elapsed_time > total_seconds:\n",
    "        print(\"time out! Searching the counter examples in the TODO list! \"+str(len(list_fifo))+\" intervals in TODO list!\")\n",
    "        \n",
    "        # before return time out, check if the regions in the list has counter examples?\n",
    "        counter_example_list = if_any_counter_example_model_1_small_first(model_1, list_fifo)\n",
    "        if counter_example_list:\n",
    "            print(\"found \"+str(len(counter_example_list))+\" counter examples:\")\n",
    "            for counter_example in counter_example_list:\n",
    "                print(counter_example)\n",
    "            break\n",
    "        else:\n",
    "            # if can not find any counter example, print fail notification\n",
    "            print(\"Fail to certify the nn model with the given region and specification! use \"+str(elapsed_time)+\" seconds! And cannot found counter example!\")\n",
    "            break\n",
    "    \n",
    "    # pop up the first interval in the waiting list, check if the output interval is satisfy the specification. if not, split into two subintervals\n",
    "    input_interval = list_fifo.pop(0)\n",
    "    input_min = input_interval[0]\n",
    "    input_max = input_interval[1]\n",
    "    # get the output interval\n",
    "    output_min, output_max = simple_interval_propagation_model(model_1, input_min, input_max)\n",
    "    # verify according to the specification\n",
    "    if not check_specification_model_1(output_min, output_max):# if not satisfy the specification, split into two subintervals and add them to waiting list\n",
    "        subinterval1, subinterval2 = split_2(input_min, input_max)\n",
    "        list_fifo.append(subinterval1)\n",
    "        list_fifo.append(subinterval2)"
   ]
  },
  {
   "cell_type": "code",
   "execution_count": 37,
   "id": "d6670664-2854-4a77-baaf-a82213f4f68c",
   "metadata": {},
   "outputs": [
    {
     "name": "stdout",
     "output_type": "stream",
     "text": [
      "time out! Searching the counter examples in the TODO list! 278 intervals in TODO list!\n",
      "Fail to certify the nn model with the given region and specification! use 7224.027765035629 seconds! And cannot found counter example!\n"
     ]
    }
   ],
   "source": [
    "# the main for loop\n",
    "# the initial the TODO list--last in first out(small interval has priority)\n",
    "list_lifo=[]\n",
    "initial_interval = [input_min, input_max]\n",
    "list_lifo.append(initial_interval)\n",
    "counter_example_list = []\n",
    "\n",
    "# TODO list is first in first out, larger interval has priority.\n",
    "# get the start time\n",
    "start_time=time.time()\n",
    "# set the time out seconds. if this time is reached, it will stop to verify the intervals in the TODO list.\n",
    "total_seconds = 60*60*2\n",
    "\n",
    "# certify the nn model is correct within the specified interval\n",
    "while True:\n",
    "    \n",
    "    # update elapsed_time\n",
    "    elapsed_time = time.time() - start_time\n",
    "    \n",
    "    # waiting list is empty represents that all the intervals have been certified.\n",
    "    if not list_lifo:\n",
    "        print(\"the interval certification success! use \"+str(elapsed_time)+\" seconds! success!\")\n",
    "        break\n",
    "        \n",
    "    # when the eplased time has reach the total seconds that we set before \n",
    "    # and still can not certify the nn_model with the specified input interval and specification within specified loops\n",
    "    if elapsed_time > total_seconds:\n",
    "        print(\"time out! Searching the counter examples in the TODO list! \"+str(len(list_lifo))+\" intervals in TODO list!\")\n",
    "        \n",
    "        # before return time out, check if the regions in the list has counter examples?\n",
    "        counter_example_list = if_any_counter_example_model_1_small_first(model_1, list_lifo)\n",
    "        total_used_time = time.time() - start_time\n",
    "        if counter_example_list:\n",
    "            print(\"use \"+str(total_used_time)+\" seconds! found \"+str(len(counter_example_list))+\" counter examples:\")\n",
    "            for counter_example in counter_example_list:\n",
    "                print(counter_example)\n",
    "            break\n",
    "        else:\n",
    "            # if can not find any counter example, print fail notification\n",
    "            print(\"Fail to certify the nn model with the given region and specification! use \"+str(total_used_time)+\" seconds! And cannot found counter example!\")\n",
    "            break\n",
    "    \n",
    "    # pop up the first interval in the waiting list, check if the output interval is satisfy the specification. if not, split into two subintervals\n",
    "    input_interval = list_lifo.pop(len(list_lifo)-1)\n",
    "    input_min = input_interval[0]\n",
    "    input_max = input_interval[1]\n",
    "    # get the output interval\n",
    "    output_min, output_max = simple_interval_propagation_model(model_1, input_min, input_max)\n",
    "    # verify according to the specification\n",
    "    if not check_specification_model_1(output_min, output_max):# if not satisfy the specification, split into two subintervals and add them to waiting list\n",
    "        subinterval1, subinterval2 = split_2(input_min, input_max)\n",
    "        list_lifo.append(subinterval1)\n",
    "        list_lifo.append(subinterval2)"
   ]
  },
  {
   "cell_type": "code",
   "execution_count": null,
   "id": "c87ec0ad-a1a1-4d61-9c13-7a11bccd4090",
   "metadata": {},
   "outputs": [],
   "source": []
  }
 ],
 "metadata": {
  "kernelspec": {
   "display_name": "Python [conda env:root] *",
   "language": "python",
   "name": "conda-root-py"
  },
  "language_info": {
   "codemirror_mode": {
    "name": "ipython",
    "version": 3
   },
   "file_extension": ".py",
   "mimetype": "text/x-python",
   "name": "python",
   "nbconvert_exporter": "python",
   "pygments_lexer": "ipython3",
   "version": "3.8.8"
  }
 },
 "nbformat": 4,
 "nbformat_minor": 5
}
