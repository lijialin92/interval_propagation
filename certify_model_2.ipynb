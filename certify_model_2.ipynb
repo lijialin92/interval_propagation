{
 "cells": [
  {
   "cell_type": "code",
   "execution_count": 3,
   "id": "53571943-4468-4c79-b2c1-30776e29732b",
   "metadata": {},
   "outputs": [],
   "source": [
    "import numpy as np\n",
    "import keras\n",
    "from keras.layers import Dense\n",
    "from keras.models import Sequential\n",
    "from matplotlib import pyplot as plt\n",
    "import time"
   ]
  },
  {
   "cell_type": "code",
   "execution_count": 76,
   "id": "125a0683-2c07-424a-8837-92f3e0c1df14",
   "metadata": {},
   "outputs": [
    {
     "data": {
      "image/png": "[encoded data removed]",
      "text/plain": [
       "<Figure size 432x288 with 1 Axes>"
      ]
     },
     "metadata": {
      "needs_background": "light"
     },
     "output_type": "display_data"
    },
    {
     "name": "stdout",
     "output_type": "stream",
     "text": [
      "Accuracy: 84.00\n"
     ]
    }
   ],
   "source": [
    "# generate a simple model for test. \n",
    "# the model is a 3 layers neural network, the 1st layer is 12 neurons, relu is the activation function\n",
    "# the second layer is 8 neurons, relu is the activation functioin\n",
    "# the third layer is 1 neurons, sigmoid is the activation function \n",
    "# prepare the data set X is a numpy array strore the x1 and x2, Y store the classes for X. x2>=x1 is class 1, x2<x1 is class 2\n",
    "np.random.seed(0)\n",
    "X = np.random.uniform(0. , 100., [700,2])\n",
    "Y = np.zeros((700, 1))\n",
    "\n",
    "for row in range(700):\n",
    "    if X[row][0] <= X[row][1]:\n",
    "        Y[row] = 1\n",
    "    else:\n",
    "        Y[row] = 0\n",
    "# divide into train and test data set\n",
    "X_train = X[:600]\n",
    "X_test = X[600:]\n",
    "Y_train = Y[:600]\n",
    "Y_test = Y[600:]\n",
    "\n",
    "model = Sequential()\n",
    "\n",
    "model.add(Dense(units=12, activation=\"relu\", input_dim=2))\n",
    "model.add(Dense(units=8, activation=\"relu\"))\n",
    "model.add(Dense(units=1, activation=\"sigmoid\"))\n",
    "\n",
    "# plot the losses\n",
    "model.compile(optimizer=\"adam\", loss=\"binary_crossentropy\", metrics=[\"accuracy\"])\n",
    "history=model.fit(X_train, Y_train, batch_size=100,epochs=5, verbose=0, validation_split=.1)\n",
    "loss, accuracy = model.evaluate(X_test, Y_test, verbose=0)\n",
    "plt.plot(history.history['accuracy'])\n",
    "plt.plot(history.history[\"val_accuracy\"])\n",
    "plt.title('model accuracy')\n",
    "plt.ylabel('accuracy')\n",
    "plt.xlabel('epoch')\n",
    "plt.legend(['training', 'validation'], loc='best')\n",
    "plt.show()\n",
    "print('Accuracy: %.2f' % (accuracy*100))\n"
   ]
  },
  {
   "cell_type": "code",
   "execution_count": 2,
   "id": "77146376-bffe-4eb0-aeb3-b97eef59d907",
   "metadata": {},
   "outputs": [
    {
     "ename": "NameError",
     "evalue": "name 'model' is not defined",
     "output_type": "error",
     "traceback": [
      "\u001b[0;31m---------------------------------------------------------------------------\u001b[0m",
      "\u001b[0;31mNameError\u001b[0m                                 Traceback (most recent call last)",
      "\u001b[0;32m/tmp/ipykernel_4835/453727217.py\u001b[0m in \u001b[0;36m<module>\u001b[0;34m\u001b[0m\n\u001b[1;32m      1\u001b[0m \u001b[0;31m# save model\u001b[0m\u001b[0;34m\u001b[0m\u001b[0;34m\u001b[0m\u001b[0;34m\u001b[0m\u001b[0m\n\u001b[0;32m----> 2\u001b[0;31m \u001b[0mmodel\u001b[0m\u001b[0;34m.\u001b[0m\u001b[0msave\u001b[0m\u001b[0;34m(\u001b[0m\u001b[0;34m\"x1_smaller_than_x2.h5\"\u001b[0m\u001b[0;34m)\u001b[0m\u001b[0;34m\u001b[0m\u001b[0;34m\u001b[0m\u001b[0m\n\u001b[0m",
      "\u001b[0;31mNameError\u001b[0m: name 'model' is not defined"
     ]
    }
   ],
   "source": [
    "# save model\n",
    "model.save(\"x1_smaller_than_x2.h5\")"
   ]
  },
  {
   "cell_type": "code",
   "execution_count": 64,
   "id": "1b371fd3-0ea2-4696-8bfc-68ecae2d489b",
   "metadata": {},
   "outputs": [
    {
     "name": "stdout",
     "output_type": "stream",
     "text": [
      "[[43.59949021  2.59262318]\n",
      " [54.96624779 43.53223926]\n",
      " [42.03678021 33.0334821 ]\n",
      " [20.4648634  61.92709664]\n",
      " [29.96546737 26.68272751]\n",
      " [62.11338328 52.91420943]\n",
      " [13.45799453 51.35781213]\n",
      " [18.44398656 78.53351478]\n",
      " [85.39752926 49.42368374]\n",
      " [84.65614854  7.9645477 ]]\n",
      "[[4.0590763e-04]\n",
      " [2.3622215e-02]\n",
      " [5.1071316e-02]\n",
      " [9.9547446e-01]\n",
      " [2.5383249e-01]\n",
      " [4.6455026e-02]\n",
      " [9.8709702e-01]\n",
      " [9.9846488e-01]\n",
      " [9.9760000e-06]\n",
      " [1.4067783e-07]]\n"
     ]
    }
   ],
   "source": [
    "# check the output is the probability that x1 is less than x2\n",
    "np.random.seed(2)\n",
    "xx = np.random.uniform(0., 100., [10,2])\n",
    "yy = model_2.predict(xx)\n",
    "print(xx)\n",
    "print(yy)"
   ]
  },
  {
   "cell_type": "code",
   "execution_count": 94,
   "id": "169ecbed-43b3-4bb9-90b9-ec579b22e277",
   "metadata": {},
   "outputs": [
    {
     "name": "stdout",
     "output_type": "stream",
     "text": [
      "[[ 6.    6.23]\n",
      " [ 2.    2.2 ]\n",
      " [20.   20.  ]\n",
      " [ 1.    1.  ]\n",
      " [45.   45.1 ]\n",
      " [36.   36.44]\n",
      " [90.    8.  ]]\n",
      "[[6.7096126e-01]\n",
      " [5.5006206e-01]\n",
      " [9.2012209e-01]\n",
      " [5.0975156e-01]\n",
      " [9.9651408e-01]\n",
      " [9.8956823e-01]\n",
      " [7.5516091e-08]]\n"
     ]
    }
   ],
   "source": [
    "# try to find out that when x1 is really close to x2 then the output is really near to 0.5\n",
    "np.random.seed(2)\n",
    "xx2 = np.ones((7,2))\n",
    "xx2[0] = [6.,6.23]\n",
    "xx2[1] = [2.,2.2]\n",
    "xx2[2] = [20.,20.]\n",
    "xx2[4] = [45.,45.1]\n",
    "xx2[5] = [36.,36.44]\n",
    "xx2[6] = [90., 8.]\n",
    "print(xx2)\n",
    "\n",
    "yy2 = model_2.predict(xx2)\n",
    "print(yy2)"
   ]
  },
  {
   "cell_type": "code",
   "execution_count": 7,
   "id": "1c972697-2c0f-43c6-a170-3f22c835e02b",
   "metadata": {},
   "outputs": [],
   "source": [
    "# load the model \n",
    "model_2 = keras.models.load_model(\"x1_smaller_than_x2_83%.h5\")"
   ]
  },
  {
   "cell_type": "code",
   "execution_count": 17,
   "id": "7833ef8f-078e-4f4d-9982-f48cb37fc45a",
   "metadata": {},
   "outputs": [],
   "source": [
    "# prepare the required parameters and load the functions need to be used\n",
    "%run single_layer_interval_propagation.ipynb\n",
    "%run simple_interval_propagation.ipynb\n",
    "# the output should be all less than 0.5 because all the x1 is larger than x2 in this interval. each valus in maximum vector should less than 0,5\n",
    "# set the initial input region\n",
    "min_vec = np.array([[50., 0.1]])\n",
    "max_vec = np.array([[900., 49.]])\n",
    "initial_region = [min_vec, max_vec]"
   ]
  },
  {
   "cell_type": "code",
   "execution_count": 18,
   "id": "ad0a40aa-485b-4799-8c22-bbdb4c720587",
   "metadata": {},
   "outputs": [
    {
     "name": "stdout",
     "output_type": "stream",
     "text": [
      "time out! Searching the counter examples in the TODO list! 1220 intervals in TODO list!\n",
      "Found 1 counter examples: \n",
      "[[50.62255859 40.78632812]]\n"
     ]
    }
   ],
   "source": [
    "# TODO list is first in first out, larger interval has priority.\n",
    "# get the start time\n",
    "start_time=time.time()\n",
    "# set the time out seconds. if this time is reached, it will stop to verify the intervals in the TODO list.\n",
    "total_seconds = 2\n",
    "\n",
    "# initial a first-in-first-out list, it only has the first region we want to check. \n",
    "list_fifo = []\n",
    "list_fifo.append(initial_region)\n",
    "list_fifo_log=[]\n",
    "list_fifo_log.append(initial_region)\n",
    "# list to store all counter examples\n",
    "counter_examples = []\n",
    "\n",
    "while True:\n",
    "    \n",
    "    # update elapsed_time\n",
    "    elapsed_time = time.time() - start_time\n",
    "    \n",
    "    #check if the list_fifo is empty, if it is empty, all intervals have passed the check\n",
    "    if not list_fifo:\n",
    "        print(\"the interval certification success! use \"+str(elapsed_time)+\" seconds! success!\")\n",
    "        break # break the main loop\n",
    "        \n",
    "    if elapsed_time > total_seconds:\n",
    "        print(\"time out! Searching the counter examples in the TODO list! \"+str(len(list_fifo))+\" intervals in TODO list!\")\n",
    "        # before return time out, check if the regions in the list has counter examples?\n",
    "        counter_examples = if_any_counter_example_model_2_large_first(model_2, list_fifo)\n",
    "        if counter_examples:\n",
    "            # if there is counter examples, print counter examples\n",
    "            print(\"Found \"+str(len(counter_examples))+\" counter examples: \")\n",
    "            for example in counter_examples:\n",
    "                print(str(example))\n",
    "            break\n",
    "        else:\n",
    "            # if can not found counter examples, print failed notification\n",
    "            print(\"Fail to certify the nn model with the given region and specification! use \"+str(elapsed_time)+\" seconds! And cannot found counter example!\")\n",
    "            break\n",
    "    \n",
    "    \n",
    "    input_region = list_fifo.pop(0)\n",
    "    input_min = input_region[0]\n",
    "    input_max = input_region[1]\n",
    "    \n",
    "    outputMin, outputMax = simple_interval_propagation_model(model_2, input_min, input_max)\n",
    "    \n",
    "    # check if the output(outputMin,outputMax) is satisfy the specification\n",
    "    # for this example is all values in outputMax is less than 0.5\n",
    "    if not check_specification_model_2(outputMax):\n",
    "        # split into two intervals, and add these two intervals into list_fifo\n",
    "        region1=[]\n",
    "        region2=[]\n",
    "        region1, region2 = split_2(input_min, input_max)\n",
    "        list_fifo.append(region1)\n",
    "        list_fifo.append(region2)\n",
    "        list_fifo_log.append(region1)\n",
    "        list_fifo_log.append(region2)"
   ]
  },
  {
   "cell_type": "code",
   "execution_count": 55,
   "id": "ef85001e-daaa-4cdb-ad66-ce56a2c7928a",
   "metadata": {},
   "outputs": [
    {
     "name": "stdout",
     "output_type": "stream",
     "text": [
      "11\n",
      "[[array([[50. ,  0.1]]), array([[900.,  49.]])], [array([[50. ,  0.1]]), array([[475.,  49.]])], [array([[4.75e+02, 1.00e-01]]), array([[900.,  49.]])], [array([[50. ,  0.1]]), array([[262.5,  49. ]])], [array([[2.625e+02, 1.000e-01]]), array([[475.,  49.]])], [array([[4.75e+02, 1.00e-01]]), array([[687.5,  49. ]])], [array([[6.875e+02, 1.000e-01]]), array([[900.,  49.]])], [array([[50. ,  0.1]]), array([[156.25,  49.  ]])], [array([[1.5625e+02, 1.0000e-01]]), array([[262.5,  49. ]])], [array([[2.625e+02, 1.000e-01]]), array([[368.75,  49.  ]])], [array([[3.6875e+02, 1.0000e-01]]), array([[475.,  49.]])]]\n",
      "[[1.]]\n",
      "[[1.]]\n",
      "[[1.]]\n",
      "[[1.]]\n",
      "[[1.]]\n",
      "[[1.]]\n",
      "[[1.]]\n",
      "[[1.]]\n",
      "[[1.]]\n",
      "[[1.]]\n",
      "[[1.]]\n"
     ]
    }
   ],
   "source": [
    "print(len(list_fifo_log))\n",
    "print(list_fifo_log)\n",
    "for region in list_fifo_log:\n",
    "    input_min = input_region[0]\n",
    "    input_max = input_region[1]\n",
    "    outputMin, outputMax = simple_interval_propagation_model(model_2, input_min, input_max)\n",
    "    print(outputMax)"
   ]
  },
  {
   "cell_type": "code",
   "execution_count": 22,
   "id": "88a47abb-f9b2-4f46-a1d0-3d4823ff88d5",
   "metadata": {},
   "outputs": [
    {
     "name": "stdout",
     "output_type": "stream",
     "text": [
      "[[1.51758515e-13]]\n",
      "[[0.99043261]]\n",
      "[[6.57964252e-12]]\n",
      "[[0.26144672]]\n",
      "[[2.92889482e-13]]\n",
      "[[0.0694856]]\n"
     ]
    }
   ],
   "source": [
    "# ouput the 4 round in main for loop, actually it is 3 round.\n",
    "# first is to check min(70, 7), max(90, 20)，because the output maximum value is 0.99. \n",
    "# then split the region into two part region1[min(70, 7); max(80,20)]; region2[min(80,7);max(90,20)]\n",
    "# these two regions' output maximum value are both smaller than 0.5\n",
    "min_vec = np.array([[70., 7.]])\n",
    "max_vec = np.array([[90., 20.]])\n",
    "outputMin, outputMax = simple_interval_propagation_model(model_2, min_vec, max_vec)\n",
    "print(outputMin)\n",
    "print(outputMax)\n",
    "min_vec = np.array([[70.], [7.]])\n",
    "max_vec = np.array([[80.], [20.]])\n",
    "outputMin, outputMax = simple_interval_propagation_model(model_2, min_vec, max_vec)\n",
    "print(outputMin)\n",
    "print(outputMax)\n",
    "min_vec = np.array([[80.], [7.]])\n",
    "max_vec = np.array([[90.], [20.]])\n",
    "outputMin, outputMax = simple_interval_propagation_model(model_2, min_vec, max_vec)\n",
    "print(outputMin)\n",
    "print(outputMax)"
   ]
  },
  {
   "cell_type": "code",
   "execution_count": 12,
   "id": "184ed448-15af-4171-afd9-025c765bc02e",
   "metadata": {},
   "outputs": [
    {
     "name": "stdout",
     "output_type": "stream",
     "text": [
      "time out! Searching the counter examples in the TODO list! 83 intervals in TODO list!\n",
      "Found 1 counter examples: \n",
      "[[70.96574605 49.        ]]\n"
     ]
    },
    {
     "name": "stderr",
     "output_type": "stream",
     "text": [
      "2021-11-08 18:14:48.387055: I tensorflow/compiler/mlir/mlir_graph_optimization_pass.cc:116] None of the MLIR optimization passes are enabled (registered 2)\n",
      "2021-11-08 18:14:48.403805: I tensorflow/core/platform/profile_utils/cpu_utils.cc:112] CPU Frequency: 3193825000 Hz\n"
     ]
    }
   ],
   "source": [
    "# TODO list is last in first out, smaller interval have prioruty \n",
    "# get the start time\n",
    "start_time=time.time()\n",
    "# set the time out seconds. if this time is reached, it will stop to verify the intervals in the TODO list.\n",
    "total_seconds = 2\n",
    "\n",
    "# initial a first-in-first-out list, it only has the first region we want to check. \n",
    "list_lifo = []\n",
    "list_lifo.append(initial_region)\n",
    "# list to store all counter examples\n",
    "counter_examples = []\n",
    "\n",
    "while True:\n",
    "    \n",
    "    # update elapsed_time\n",
    "    elapsed_time = time.time() - start_time\n",
    "    \n",
    "    #check if the list_lifo is empty, if it is empty, all intervals have passed the check\n",
    "    if not list_lifo:\n",
    "        print(\"the interval certification success! use \"+str(elapsed_time)+\" seconds! success!\")\n",
    "        break # break the main loop\n",
    "        \n",
    "    if elapsed_time > total_seconds:\n",
    "        print(\"time out! Searching the counter examples in the TODO list! \"+str(len(list_lifo))+\" intervals in TODO list!\")\n",
    "        # before return time out, check if the regions in the list has counter examples?\n",
    "        counter_examples = if_any_counter_example_model_2_small_first(model_2, list_lifo)\n",
    "        if counter_examples:\n",
    "            # if there is counter examples, print counter examples\n",
    "            print(\"Found \"+str(len(counter_examples))+\" counter examples: \")\n",
    "            for example in counter_examples:\n",
    "                print(str(example))\n",
    "            break\n",
    "        else:\n",
    "            # if can not found counter examples, print failed notification\n",
    "            print(\"Fail to certify the nn model with the given region and specification! use \"+str(elapsed_time)+\" seconds! And cannot found counter example!\")\n",
    "            break\n",
    "    \n",
    "    \n",
    "    input_region = list_lifo.pop(len(list_lifo)-1)\n",
    "    input_min = input_region[0]\n",
    "    input_max = input_region[1]\n",
    "    \n",
    "    outputMin, outputMax = simple_interval_propagation_model(model_2, input_min, input_max)\n",
    "    \n",
    "    # check if the output(outputMin,outputMax) is satisfy the specification\n",
    "    # for this example is all values in outputMax is less than 0.5\n",
    "    if not check_specification_model_2(outputMax):\n",
    "        # split into two intervals, and add these two intervals into list_lifo\n",
    "        region1=[]\n",
    "        region2=[]\n",
    "        region1, region2 = split_2(input_min, input_max)\n",
    "        list_lifo.append(region1)\n",
    "        list_lifo.append(region2)"
   ]
  },
  {
   "cell_type": "code",
   "execution_count": 16,
   "id": "668fa263-68c4-453f-a329-b692639f2060",
   "metadata": {},
   "outputs": [
    {
     "name": "stdout",
     "output_type": "stream",
     "text": [
      "[[0.9442816]]\n"
     ]
    }
   ],
   "source": [
    "print(model_2.predict(counter_examples[0]))"
   ]
  },
  {
   "cell_type": "code",
   "execution_count": null,
   "id": "001be1e6-6ec7-4e68-b1d6-1daa13d195b8",
   "metadata": {},
   "outputs": [],
   "source": []
  }
 ],
 "metadata": {
  "kernelspec": {
   "display_name": "Python [conda env:root] *",
   "language": "python",
   "name": "conda-root-py"
  },
  "language_info": {
   "codemirror_mode": {
    "name": "ipython",
    "version": 3
   },
   "file_extension": ".py",
   "mimetype": "text/x-python",
   "name": "python",
   "nbconvert_exporter": "python",
   "pygments_lexer": "ipython3",
   "version": "3.8.8"
  }
 },
 "nbformat": 4,
 "nbformat_minor": 5
}
