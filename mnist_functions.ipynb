{
 "cells": [
  {
   "cell_type": "code",
   "execution_count": 1,
   "id": "d98d2254-0cfb-4443-9609-808ac8d4db90",
   "metadata": {},
   "outputs": [],
   "source": [
    "def mnist_get_l_infinity_interval(image, perturbation):\n",
    "    assert(perturbation >= 0)\n",
    "    image_min = image.copy()\n",
    "    image_max = image.copy()\n",
    "    temp_num = 255 - perturbation\n",
    "    temp_num_2 = perturbation - 1\n",
    "    num_pixels = image.shape[0]\n",
    "    \n",
    "    for row in range(num_pixels):\n",
    "        if image[row] >= temp_num:\n",
    "            image_max[row] = 255\n",
    "        else:\n",
    "            image_max[row] = image[row] + perturbation\n",
    "            \n",
    "    for row in range(num_pixels):\n",
    "        if image[row] <= temp_num_2:\n",
    "            image_min[row] = 0\n",
    "        else:\n",
    "            image_min[row] = image[row] - perturbation\n",
    "    interval = [image_min, image_max]\n",
    "    return interval"
   ]
  },
  {
   "cell_type": "code",
   "execution_count": 4,
   "id": "aa7af1ec-e254-4597-bfef-f7335257ff6f",
   "metadata": {},
   "outputs": [],
   "source": [
    "def mnist_get_l_infinity_interval_list(image_list, perturbation):\n",
    "    assert(perturbation >= 0)\n",
    "    interval_list=[]\n",
    "    for image in image_list:\n",
    "        image_interval = mnist_get_l_infinity_interval(image, perturbation)\n",
    "        interval_list.append(image_interval)\n",
    "    return interval_list"
   ]
  },
  {
   "cell_type": "code",
   "execution_count": null,
   "id": "a88cab96-46b8-4b29-91d6-124f889d37ef",
   "metadata": {},
   "outputs": [],
   "source": []
  }
 ],
 "metadata": {
  "kernelspec": {
   "display_name": "Python [conda env:root] *",
   "language": "python",
   "name": "conda-root-py"
  },
  "language_info": {
   "codemirror_mode": {
    "name": "ipython",
    "version": 3
   },
   "file_extension": ".py",
   "mimetype": "text/x-python",
   "name": "python",
   "nbconvert_exporter": "python",
   "pygments_lexer": "ipython3",
   "version": "3.8.8"
  }
 },
 "nbformat": 4,
 "nbformat_minor": 5
}
