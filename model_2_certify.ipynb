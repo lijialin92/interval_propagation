{
 "cells": [
  {
   "cell_type": "code",
   "execution_count": 3,
   "id": "53571943-4468-4c79-b2c1-30776e29732b",
   "metadata": {},
   "outputs": [],
   "source": [
    "import numpy as np\n",
    "import keras\n",
    "from keras.layers import Dense\n",
    "from keras.models import Sequential\n",
    "from matplotlib import pyplot as plt\n",
    "import time"
   ]
  },
  {
   "cell_type": "code",
   "execution_count": 4,
   "id": "1c972697-2c0f-43c6-a170-3f22c835e02b",
   "metadata": {},
   "outputs": [
    {
     "name": "stderr",
     "output_type": "stream",
     "text": [
      "2021-12-01 13:50:30.769788: I tensorflow/compiler/jit/xla_cpu_device.cc:41] Not creating XLA devices, tf_xla_enable_xla_devices not set\n",
      "2021-12-01 13:50:30.770306: I tensorflow/core/platform/cpu_feature_guard.cc:142] This TensorFlow binary is optimized with oneAPI Deep Neural Network Library (oneDNN) to use the following CPU instructions in performance-critical operations:  SSE4.1 SSE4.2 AVX AVX2 FMA\n",
      "To enable them in other operations, rebuild TensorFlow with the appropriate compiler flags.\n",
      "2021-12-01 13:50:30.774359: I tensorflow/core/common_runtime/process_util.cc:146] Creating new thread pool with default inter op setting: 2. Tune using inter_op_parallelism_threads for best performance.\n"
     ]
    }
   ],
   "source": [
    "# load the model \n",
    "model_2 = keras.models.load_model(\"x1_smaller_than_x2.h5\")"
   ]
  },
  {
   "cell_type": "code",
   "execution_count": 23,
   "id": "7833ef8f-078e-4f4d-9982-f48cb37fc45a",
   "metadata": {},
   "outputs": [],
   "source": [
    "# prepare the required parameters and load the functions need to be used\n",
    "%run single_layer_interval_propagation.ipynb\n",
    "%run simple_interval_propagation.ipynb\n",
    "%run model_2_functions.ipynb\n",
    "# the output should be all less than 0.5 because all the x1 is larger than x2 in this interval. each valus in maximum vector should less than 0,5\n",
    "# set the initial input region\n",
    "min_vec = np.array([[50., 0.1]])\n",
    "max_vec = np.array([[90., 49.]])\n",
    "initial_region = [min_vec, max_vec]"
   ]
  },
  {
   "cell_type": "code",
   "execution_count": 18,
   "id": "ad0a40aa-485b-4799-8c22-bbdb4c720587",
   "metadata": {},
   "outputs": [
    {
     "name": "stdout",
     "output_type": "stream",
     "text": [
      "time out! Searching the counter examples in the TODO list! 1220 intervals in TODO list!\n",
      "Found 1 counter examples: \n",
      "[[50.62255859 40.78632812]]\n"
     ]
    }
   ],
   "source": [
    "# TODO list is first in first out, larger interval has priority.\n",
    "# get the start time\n",
    "start_time=time.time()\n",
    "# set the time out seconds. if this time is reached, it will stop to verify the intervals in the TODO list.\n",
    "total_seconds = 2\n",
    "\n",
    "# initial a first-in-first-out list, it only has the first region we want to check. \n",
    "list_fifo = []\n",
    "list_fifo.append(initial_region)\n",
    "list_fifo_log=[]\n",
    "list_fifo_log.append(initial_region)\n",
    "# list to store all counter examples\n",
    "counter_examples = []\n",
    "\n",
    "while True:\n",
    "    \n",
    "    # update elapsed_time\n",
    "    elapsed_time = time.time() - start_time\n",
    "    \n",
    "    #check if the list_fifo is empty, if it is empty, all intervals have passed the check\n",
    "    if not list_fifo:\n",
    "        print(\"the interval certification success! use \"+str(elapsed_time)+\" seconds! success!\")\n",
    "        break # break the main loop\n",
    "        \n",
    "    if elapsed_time > total_seconds:\n",
    "        print(\"time out! Searching the counter examples in the TODO list! \"+str(len(list_fifo))+\" intervals in TODO list!\")\n",
    "        # before return time out, check if the regions in the list has counter examples?\n",
    "        counter_examples = if_any_counter_example_model_2_large_first(model_2, list_fifo)\n",
    "        if counter_examples:\n",
    "            # if there is counter examples, print counter examples\n",
    "            print(\"Found \"+str(len(counter_examples))+\" counter examples: \")\n",
    "            for example in counter_examples:\n",
    "                print(str(example))\n",
    "            break\n",
    "        else:\n",
    "            # if can not found counter examples, print failed notification\n",
    "            print(\"Fail to certify the nn model with the given region and specification! use \"+str(elapsed_time)+\" seconds! And cannot found counter example!\")\n",
    "            break\n",
    "    \n",
    "    \n",
    "    input_region = list_fifo.pop(0)\n",
    "    input_min = input_region[0]\n",
    "    input_max = input_region[1]\n",
    "    \n",
    "    outputMin, outputMax = simple_interval_propagation_model(model_2, input_min, input_max)\n",
    "    \n",
    "    # check if the output(outputMin,outputMax) is satisfy the specification\n",
    "    # for this example is all values in outputMax is less than 0.5\n",
    "    if not check_specification_model_2(outputMax):\n",
    "        # split into two intervals, and add these two intervals into list_fifo\n",
    "        region1=[]\n",
    "        region2=[]\n",
    "        region1, region2 = split_2(input_min, input_max)\n",
    "        list_fifo.append(region1)\n",
    "        list_fifo.append(region2)\n",
    "        list_fifo_log.append(region1)\n",
    "        list_fifo_log.append(region2)\n",
    "print(len(list_fifo_log))\n",
    "print(list_fifo_log)\n",
    "for region in list_fifo_log:\n",
    "    input_min = input_region[0]\n",
    "    input_max = input_region[1]\n",
    "    outputMin, outputMax = simple_interval_propagation_model(model_2, input_min, input_max)\n",
    "    print(outputMax)"
   ]
  },
  {
   "cell_type": "code",
   "execution_count": 22,
   "id": "88a47abb-f9b2-4f46-a1d0-3d4823ff88d5",
   "metadata": {},
   "outputs": [
    {
     "name": "stdout",
     "output_type": "stream",
     "text": [
      "[[1.51758515e-13]]\n",
      "[[0.99043261]]\n",
      "[[6.57964252e-12]]\n",
      "[[0.26144672]]\n",
      "[[2.92889482e-13]]\n",
      "[[0.0694856]]\n"
     ]
    }
   ],
   "source": [
    "# ouput the 4 round in main for loop, actually it is 3 round.\n",
    "# first is to check min(70, 7), max(90, 20)，because the output maximum value is 0.99. \n",
    "# then split the region into two part region1[min(70, 7); max(80,20)]; region2[min(80,7);max(90,20)]\n",
    "# these two regions' output maximum value are both smaller than 0.5\n",
    "min_vec = np.array([[70., 7.]])\n",
    "max_vec = np.array([[90., 20.]])\n",
    "outputMin, outputMax = simple_interval_propagation_model(model_2, min_vec, max_vec)\n",
    "print(outputMin)\n",
    "print(outputMax)\n",
    "min_vec = np.array([[70.], [7.]])\n",
    "max_vec = np.array([[80.], [20.]])\n",
    "outputMin, outputMax = simple_interval_propagation_model(model_2, min_vec, max_vec)\n",
    "print(outputMin)\n",
    "print(outputMax)\n",
    "min_vec = np.array([[80.], [7.]])\n",
    "max_vec = np.array([[90.], [20.]])\n",
    "outputMin, outputMax = simple_interval_propagation_model(model_2, min_vec, max_vec)\n",
    "print(outputMin)\n",
    "print(outputMax)"
   ]
  },
  {
   "cell_type": "code",
   "execution_count": 12,
   "id": "184ed448-15af-4171-afd9-025c765bc02e",
   "metadata": {},
   "outputs": [
    {
     "name": "stdout",
     "output_type": "stream",
     "text": [
      "time out! Searching the counter examples in the TODO list! 83 intervals in TODO list!\n",
      "Found 1 counter examples: \n",
      "[[70.96574605 49.        ]]\n"
     ]
    },
    {
     "name": "stderr",
     "output_type": "stream",
     "text": [
      "2021-11-08 18:14:48.387055: I tensorflow/compiler/mlir/mlir_graph_optimization_pass.cc:116] None of the MLIR optimization passes are enabled (registered 2)\n",
      "2021-11-08 18:14:48.403805: I tensorflow/core/platform/profile_utils/cpu_utils.cc:112] CPU Frequency: 3193825000 Hz\n"
     ]
    }
   ],
   "source": [
    "# TODO list is last in first out, smaller interval have prioruty \n",
    "# get the start time\n",
    "start_time=time.time()\n",
    "# set the time out seconds. if this time is reached, it will stop to verify the intervals in the TODO list.\n",
    "total_seconds = 2\n",
    "\n",
    "# initial a first-in-first-out list, it only has the first region we want to check. \n",
    "list_lifo = []\n",
    "list_lifo.append(initial_region)\n",
    "# list to store all counter examples\n",
    "counter_examples = []\n",
    "\n",
    "while True:\n",
    "    \n",
    "    # update elapsed_time\n",
    "    elapsed_time = time.time() - start_time\n",
    "    \n",
    "    #check if the list_lifo is empty, if it is empty, all intervals have passed the check\n",
    "    if not list_lifo:\n",
    "        print(\"the interval certification success! use \"+str(elapsed_time)+\" seconds! success!\")\n",
    "        break # break the main loop\n",
    "        \n",
    "    if elapsed_time > total_seconds:\n",
    "        print(\"time out! Searching the counter examples in the TODO list! \"+str(len(list_lifo))+\" intervals in TODO list!\")\n",
    "        # before return time out, check if the regions in the list has counter examples?\n",
    "        counter_examples = if_any_counter_example_model_2_small_first(model_2, list_lifo)\n",
    "        if counter_examples:\n",
    "            # if there is counter examples, print counter examples\n",
    "            print(\"Found \"+str(len(counter_examples))+\" counter examples: \")\n",
    "            for example in counter_examples:\n",
    "                print(str(example))\n",
    "            break\n",
    "        else:\n",
    "            # if can not found counter examples, print failed notification\n",
    "            print(\"Fail to certify the nn model with the given region and specification! use \"+str(elapsed_time)+\" seconds! And cannot found counter example!\")\n",
    "            break\n",
    "    \n",
    "    \n",
    "    input_region = list_lifo.pop(len(list_lifo)-1)\n",
    "    input_min = input_region[0]\n",
    "    input_max = input_region[1]\n",
    "    \n",
    "    outputMin, outputMax = simple_interval_propagation_model(model_2, input_min, input_max)\n",
    "    \n",
    "    # check if the output(outputMin,outputMax) is satisfy the specification\n",
    "    # for this example is all values in outputMax is less than 0.5\n",
    "    if not check_specification_model_2(outputMax):\n",
    "        # split into two intervals, and add these two intervals into list_lifo\n",
    "        region1=[]\n",
    "        region2=[]\n",
    "        region1, region2 = split_2(input_min, input_max)\n",
    "        list_lifo.append(region1)\n",
    "        list_lifo.append(region2)"
   ]
  },
  {
   "cell_type": "code",
   "execution_count": 16,
   "id": "668fa263-68c4-453f-a329-b692639f2060",
   "metadata": {},
   "outputs": [
    {
     "name": "stdout",
     "output_type": "stream",
     "text": [
      "[[0.9442816]]\n"
     ]
    }
   ],
   "source": [
    "print(model_2.predict(counter_examples[0]))"
   ]
  },
  {
   "cell_type": "code",
   "execution_count": 14,
   "id": "e9f960a0-21a7-4cc4-a299-fc66ef08d774",
   "metadata": {},
   "outputs": [],
   "source": [
    "# prepare the required parameters and load the functions need to be used\n",
    "%run single_layer_interval_propagation.ipynb\n",
    "%run simple_interval_propagation.ipynb\n",
    "%run model_2_functions.ipynb"
   ]
  },
  {
   "cell_type": "code",
   "execution_count": 8,
   "id": "1973634d-4970-4379-83ac-def77184e955",
   "metadata": {},
   "outputs": [],
   "source": [
    "# in 5 intervals,each interval get 200 random points. l infinity perturbation to get 1000 intervals. \n",
    "# how many intervals can pass the certification, when l infinity norm is 0.5, 1.0, 1.5, 2.0, 2.5\n",
    "min_vec_1 = [50., 7.]\n",
    "max_vec_1 = [70., 20.]\n",
    "check_interval_1 = [min_vec_1, max_vec_1]\n",
    "orig_points_1 = get_point_list_model_2(200, check_interval_1)\n",
    "\n",
    "min_vec_2 = [80., 1.]\n",
    "max_vec_2 = [97., 77.]\n",
    "check_interval_2 = [min_vec_2, max_vec_2]\n",
    "orig_points_2 = get_point_list_model_2(200, check_interval_2)\n",
    "\n",
    "min_vec_3 = [10., 2.]\n",
    "max_vec_3 = [47., 7.]\n",
    "check_interval_3 = [min_vec_3, max_vec_3]\n",
    "orig_points_3 = get_point_list_model_2(200, check_interval_3)\n",
    "\n",
    "# y_true == 1\n",
    "min_vec_4 = [1., 70.]\n",
    "max_vec_4 = [67., 90.]\n",
    "check_interval_4 = [min_vec_4, max_vec_4]\n",
    "orig_points_4 = get_point_list_model_2(200, check_interval_4)\n",
    "\n",
    "min_vec_5 = [1., 40.]\n",
    "max_vec_5 = [30., 60.]\n",
    "check_interval_5 = [min_vec_5, max_vec_5]\n",
    "orig_points_5 = get_point_list_model_2(200, check_interval_5)\n",
    "\n",
    "orig_point_list_600 = orig_points_1 + orig_points_2 + orig_points_3\n",
    "orig_points_list_400 = orig_points_4 + orig_points_5"
   ]
  },
  {
   "cell_type": "code",
   "execution_count": 38,
   "id": "a65e34c2-ee2d-452e-b8c9-d1098d641f70",
   "metadata": {},
   "outputs": [
    {
     "name": "stdout",
     "output_type": "stream",
     "text": [
      "1.183225393295288\n",
      "{'sat_num': 0, 'counter_interval_list': [], 'counter_examples': []}\n",
      "{'sat_num': 0, 'counter_interval_list': [], 'counter_examples': []}\n"
     ]
    }
   ],
   "source": [
    "# 0.5 perturbation\n",
    "# get the 1000 intervals by using l infinity\n",
    "perturbation = 0.5\n",
    "orig_interval_list_600 = get_l_infinity_list(orig_point_list_600, perturbation)\n",
    "orig_interval_list_400 = get_l_infinity_list(orig_points_list_400, perturbation)\n",
    "\n",
    "s_time = time.time()\n",
    "results_600 = certify_model_2_larger_interval_pri_with_100_intervals(orig_interval_list_600, 0, 10)\n",
    "results_400 = certify_model_2_larger_interval_pri_with_100_intervals(orig_interval_list_400, 1, 10)\n",
    "used_time=time.time() - s_time\n",
    "print(used_time)\n",
    "print(results_600)\n",
    "print(results_400)"
   ]
  },
  {
   "cell_type": "code",
   "execution_count": 39,
   "id": "41d3c664-8515-4583-ab98-90f7cca83565",
   "metadata": {},
   "outputs": [
    {
     "name": "stdout",
     "output_type": "stream",
     "text": [
      "1.2229838371276855\n",
      "{'sat_num': 0, 'counter_interval_list': [], 'counter_examples': []}\n",
      "{'sat_num': 0, 'counter_interval_list': [], 'counter_examples': []}\n"
     ]
    }
   ],
   "source": [
    "# 1.0 perturbation\n",
    "# get the 1000 intervals by using l infinity\n",
    "perturbation = 1.\n",
    "orig_interval_list_600 = get_l_infinity_list(orig_point_list_600, perturbation)\n",
    "orig_interval_list_400 = get_l_infinity_list(orig_points_list_400, perturbation)\n",
    "\n",
    "s_time = time.time()\n",
    "results_600 = certify_model_2_larger_interval_pri_with_100_intervals(orig_interval_list_600, 0, 10)\n",
    "results_400 = certify_model_2_larger_interval_pri_with_100_intervals(orig_interval_list_400, 1, 10)\n",
    "used_time=time.time() - s_time\n",
    "print(used_time)\n",
    "print(results_600)\n",
    "print(results_400)"
   ]
  },
  {
   "cell_type": "code",
   "execution_count": 40,
   "id": "9f11a96a-9575-41c3-8d17-78861b362b8f",
   "metadata": {},
   "outputs": [
    {
     "name": "stdout",
     "output_type": "stream",
     "text": [
      "21.511252641677856\n",
      "{'sat_num': 2, 'counter_interval_list': [[array([[78.50683442, 73.73369533]]), array([[81.50683442, 76.73369533]])], [array([[8.51487492, 5.38379575]]), array([[11.51487492,  8.38379575]])]], 'counter_examples': [[array([[78.65038911, 76.2473672 ]])], [array([[8.5778632 , 8.02930356]])]]}\n",
      "{'sat_num': 0, 'counter_interval_list': [], 'counter_examples': []}\n"
     ]
    }
   ],
   "source": [
    "# 1.5 perturbation\n",
    "# get the 1000 intervals by using l infinity\n",
    "perturbation = 1.5\n",
    "orig_interval_list_600 = get_l_infinity_list(orig_point_list_600, perturbation)\n",
    "orig_interval_list_400 = get_l_infinity_list(orig_points_list_400, perturbation)\n",
    "\n",
    "s_time = time.time()\n",
    "results_600 = certify_model_2_larger_interval_pri_with_100_intervals(orig_interval_list_600, 0, 10)\n",
    "results_400 = certify_model_2_larger_interval_pri_with_100_intervals(orig_interval_list_400, 1, 10)\n",
    "used_time=time.time() - s_time\n",
    "print(used_time)\n",
    "print(results_600)\n",
    "print(results_400)"
   ]
  },
  {
   "cell_type": "code",
   "execution_count": 43,
   "id": "e095ef3d-5c7b-4920-a72c-0a7655a9e22c",
   "metadata": {},
   "outputs": [
    {
     "name": "stdout",
     "output_type": "stream",
     "text": [
      "[[0.50030744]]\n",
      "[[0.5410635]]\n"
     ]
    }
   ],
   "source": [
    "for i in results_600[\"counter_examples\"]:\n",
    "    print(model_2.predict(i))"
   ]
  },
  {
   "cell_type": "code",
   "execution_count": 41,
   "id": "a21a3cb3-7abb-4394-96f7-ff9df2530565",
   "metadata": {},
   "outputs": [
    {
     "name": "stdout",
     "output_type": "stream",
     "text": [
      "52.52793073654175\n",
      "{'sat_num': 5, 'counter_interval_list': [[array([[79.22356275, 72.51300108]]), array([[83.22356275, 76.51300108]])], [array([[78.00683442, 73.23369533]]), array([[82.00683442, 77.23369533]])], [array([[8.58538599, 4.64718617]]), array([[12.58538599,  8.64718617]])], [array([[8.7964178 , 4.73985106]]), array([[12.7964178 ,  8.73985106]])], [array([[8.01487492, 4.88379575]]), array([[12.01487492,  8.88379575]])]], 'counter_examples': [[array([[79.23412184, 76.51092588]])], [array([[79.51464692, 77.15557033]])], [array([[9.26116724, 8.63546742]])], [array([[8.84524592, 8.69688231]])], [array([[8.67893742, 8.18848325]])]]}\n",
      "{'sat_num': 0, 'counter_interval_list': [], 'counter_examples': []}\n"
     ]
    }
   ],
   "source": [
    "# 2.0 perturbation\n",
    "# get the 1000 intervals by using l infinity\n",
    "perturbation = 2.0\n",
    "orig_interval_list_600 = get_l_infinity_list(orig_point_list_600, perturbation)\n",
    "orig_interval_list_400 = get_l_infinity_list(orig_points_list_400, perturbation)\n",
    "\n",
    "s_time = time.time()\n",
    "results_600 = certify_model_2_larger_interval_pri_with_100_intervals(orig_interval_list_600, 0, 10)\n",
    "results_400 = certify_model_2_larger_interval_pri_with_100_intervals(orig_interval_list_400, 1, 10)\n",
    "used_time=time.time() - s_time\n",
    "print(used_time)\n",
    "print(results_600)\n",
    "print(results_400)"
   ]
  },
  {
   "cell_type": "code",
   "execution_count": 45,
   "id": "60f65b92-46c6-40f2-b7b0-bfc942a7eb14",
   "metadata": {},
   "outputs": [
    {
     "name": "stdout",
     "output_type": "stream",
     "text": [
      "[[0.50030744]]\n",
      "[[0.5410635]]\n",
      "[[0.50066483]]\n",
      "[[0.54997545]]\n",
      "[[0.5135811]]\n"
     ]
    }
   ],
   "source": [
    "for i in results_600[\"counter_examples\"]:\n",
    "    print(model_2.predict(i))"
   ]
  },
  {
   "cell_type": "code",
   "execution_count": 46,
   "id": "b3f66235-b449-4717-8859-4c177fead186",
   "metadata": {},
   "outputs": [
    {
     "name": "stdout",
     "output_type": "stream",
     "text": [
      "93.20939946174622\n",
      "{'sat_num': 9, 'counter_interval_list': [[array([[78.72356275, 72.01300108]]), array([[83.72356275, 77.01300108]])], [array([[77.86592169, 70.54573605]]), array([[82.86592169, 75.54573605]])], [array([[77.50683442, 72.73369533]]), array([[82.50683442, 77.73369533]])], [array([[8.17666626, 3.25072157]]), array([[13.17666626,  8.25072157]])], [array([[8.21657744, 2.89417766]]), array([[13.21657744,  7.89417766]])], [array([[7.6062021 , 2.58572457]]), array([[12.6062021 ,  7.58572457]])], [array([[8.08538599, 4.14718617]]), array([[13.08538599,  9.14718617]])], [array([[8.2964178 , 4.23985106]]), array([[13.2964178 ,  9.23985106]])], [array([[7.51487492, 4.38379575]]), array([[12.51487492,  9.38379575]])]], 'counter_examples': [[array([[78.86516432, 76.98858702]])], [array([[77.89643927, 75.40169308]])], [array([[77.79003755, 76.97197658]])], [array([[8.42324829, 7.99193251]])], [array([[8.23488799, 7.72205852]])], [array([[7.66723726, 7.24148629]])], [array([[8.14886255, 7.67257679]])], [array([[8.60403498, 8.39024168]])], [array([[9.2238593, 9.0517645]])]]}\n",
      "{'sat_num': 0, 'counter_interval_list': [], 'counter_examples': []}\n"
     ]
    }
   ],
   "source": [
    "# 2.5 perturbation\n",
    "# get the 1000 intervals by using l infinity\n",
    "perturbation = 2.5\n",
    "orig_interval_list_600 = get_l_infinity_list(orig_point_list_600, perturbation)\n",
    "orig_interval_list_400 = get_l_infinity_list(orig_points_list_400, perturbation)\n",
    "\n",
    "s_time = time.time()\n",
    "results_600 = certify_model_2_larger_interval_pri_with_100_intervals(orig_interval_list_600, 0, 10)\n",
    "results_400 = certify_model_2_larger_interval_pri_with_100_intervals(orig_interval_list_400, 1, 10)\n",
    "used_time=time.time() - s_time\n",
    "print(used_time)\n",
    "print(results_600)\n",
    "print(results_400)"
   ]
  },
  {
   "cell_type": "code",
   "execution_count": 47,
   "id": "915a74c7-28ec-4bf5-bf3d-dc71dd9a2f2f",
   "metadata": {},
   "outputs": [
    {
     "name": "stdout",
     "output_type": "stream",
     "text": [
      "[[0.5849297]]\n",
      "[[0.5209565]]\n",
      "[[0.6460297]]\n",
      "[[0.51922053]]\n",
      "[[0.5096723]]\n",
      "[[0.51735216]]\n",
      "[[0.51339513]]\n",
      "[[0.5435649]]\n",
      "[[0.5492661]]\n"
     ]
    }
   ],
   "source": [
    "for i in results_600[\"counter_examples\"]:\n",
    "    print(model_2.predict(i))"
   ]
  },
  {
   "cell_type": "code",
   "execution_count": 9,
   "id": "bee57a3c-7ab9-46e8-ba47-2e477097982a",
   "metadata": {},
   "outputs": [
    {
     "name": "stderr",
     "output_type": "stream",
     "text": [
      "2021-12-01 13:52:26.735030: I tensorflow/compiler/mlir/mlir_graph_optimization_pass.cc:116] None of the MLIR optimization passes are enabled (registered 2)\n",
      "2021-12-01 13:52:26.754515: I tensorflow/core/platform/profile_utils/cpu_utils.cc:112] CPU Frequency: 3194025000 Hz\n"
     ]
    },
    {
     "name": "stdout",
     "output_type": "stream",
     "text": [
      "144.88659858703613\n",
      "{'sat_num': 14, 'counter_interval_list': [[array([[77.27896113, 68.64722976]]), array([[83.25896113, 74.62722976]])], [array([[78.23356275, 71.52300108]]), array([[84.21356275, 77.50300108]])], [array([[77.37592169, 70.05573605]]), array([[83.35592169, 76.03573605]])], [array([[77.01683442, 72.24369533]]), array([[82.99683442, 78.22369533]])], [array([[7.01423187, 0.52166286]]), array([[12.99423187,  6.50166286]])], [array([[8.02334095, 2.36233755]]), array([[14.00334095,  8.34233755]])], [array([[7.68666626, 2.76072157]]), array([[13.66666626,  8.74072157]])], [array([[7.72657744, 2.40417766]]), array([[13.70657744,  8.38417766]])], [array([[7.1162021 , 2.09572457]]), array([[13.0962021 ,  8.07572457]])], [array([[7.59538599, 3.65718617]]), array([[13.57538599,  9.63718617]])], [array([[9.67304835, 3.84638165]]), array([[15.65304835,  9.82638165]])], [array([[7.8064178 , 3.74985106]]), array([[13.7864178 ,  9.72985106]])], [array([[7.5847312 , 1.97740704]]), array([[13.5647312 ,  7.95740704]])], [array([[7.02487492, 3.89379575]]), array([[13.00487492,  9.87379575]])]], 'counter_examples': [[array([[77.28671717, 74.62056869]])], [array([[79.17961744, 77.18764952]])], [array([[78.24605841, 76.02405637]])], [array([[78.67535005, 77.8733047 ]])], [array([[7.02353912, 6.48961819]])], [array([[8.25109485, 7.73207388]])], [array([[7.80930298, 8.51880751]])], [array([[7.82585478, 7.82939251]])], [array([[7.57754976, 8.06404488]])], [array([[8.02753442, 7.71003773]])], [array([[9.90956202, 9.59862774]])], [array([[8.16848811, 8.52684324]])], [array([[8.36143041, 7.7646922 ]])], [array([[7.37526555, 8.48391293]])]]}\n",
      "{'sat_num': 0, 'counter_interval_list': [], 'counter_examples': []}\n"
     ]
    }
   ],
   "source": [
    "# 3.0 perturbation\n",
    "# get the 1000 intervals by using l infinity\n",
    "perturbation = 2.99\n",
    "orig_interval_list_600 = get_l_infinity_list(orig_point_list_600, perturbation)\n",
    "orig_interval_list_400 = get_l_infinity_list(orig_points_list_400, perturbation)\n",
    "\n",
    "s_time = time.time()\n",
    "results_600 = certify_model_2_larger_interval_pri_with_100_intervals(orig_interval_list_600, 0, 10)\n",
    "results_400 = certify_model_2_larger_interval_pri_with_100_intervals(orig_interval_list_400, 1, 10)\n",
    "used_time=time.time() - s_time\n",
    "print(used_time)\n",
    "print(results_600)\n",
    "print(results_400)"
   ]
  },
  {
   "cell_type": "code",
   "execution_count": null,
   "id": "66fe329b-9a52-41c8-be17-c98c33473380",
   "metadata": {},
   "outputs": [],
   "source": [
    "for i in results_600[\"counter_examples\"]:\n",
    "    print(model_2.predict(i))"
   ]
  },
  {
   "cell_type": "code",
   "execution_count": 33,
   "id": "655ddb84-6d54-4142-b0ff-98a1c8c9a733",
   "metadata": {},
   "outputs": [],
   "source": [
    "# prepare the required parameters and load the functions need to be used\n",
    "%run single_layer_interval_propagation.ipynb\n",
    "%run simple_interval_propagation.ipynb\n",
    "%run model_2_functions.ipynb"
   ]
  },
  {
   "cell_type": "code",
   "execution_count": 34,
   "id": "b66ebcb6-592f-48de-bb4c-cf7fc738bd8c",
   "metadata": {},
   "outputs": [
    {
     "name": "stdout",
     "output_type": "stream",
     "text": [
      "1.2640185356140137\n",
      "{'sat_num': 0, 'counter_interval_list': [], 'counter_examples': []}\n",
      "{'sat_num': 0, 'counter_interval_list': [], 'counter_examples': []}\n"
     ]
    }
   ],
   "source": [
    "#***************************************************larger pri search smaller**********************************************************\n",
    "# 0.5 perturbation\n",
    "# get the 1000 intervals by using l infinity\n",
    "perturbation = 0.5\n",
    "orig_interval_list_600 = get_l_infinity_list(orig_point_list_600, perturbation)\n",
    "orig_interval_list_400 = get_l_infinity_list(orig_points_list_400, perturbation)\n",
    "\n",
    "s_time = time.time()\n",
    "results_600 = certify_model_2_larger_interval_pri_search_smaller_pri_with_1000_intervals(orig_interval_list_600, 0, 10)\n",
    "results_400 = certify_model_2_larger_interval_pri_search_smaller_pri_with_1000_intervals(orig_interval_list_400, 1, 10)\n",
    "used_time=time.time() - s_time\n",
    "print(used_time)\n",
    "print(results_600)\n",
    "print(results_400)\n",
    "for i in results_600[\"counter_examples\"]:\n",
    "    print(model_2.predict(i))\n",
    "for i in results_400[\"counter_examples\"]:\n",
    "    print(model_2.predict(i))"
   ]
  },
  {
   "cell_type": "code",
   "execution_count": 35,
   "id": "adbf1d4e-2fbf-420a-9c3f-144be2259484",
   "metadata": {},
   "outputs": [
    {
     "name": "stdout",
     "output_type": "stream",
     "text": [
      "1.3308134078979492\n",
      "{'sat_num': 0, 'counter_interval_list': [], 'counter_examples': []}\n",
      "{'sat_num': 0, 'counter_interval_list': [], 'counter_examples': []}\n"
     ]
    }
   ],
   "source": [
    "# 1.0 perturbation\n",
    "# get the 1000 intervals by using l infinity\n",
    "perturbation = 1.0\n",
    "orig_interval_list_600 = get_l_infinity_list(orig_point_list_600, perturbation)\n",
    "orig_interval_list_400 = get_l_infinity_list(orig_points_list_400, perturbation)\n",
    "\n",
    "s_time = time.time()\n",
    "results_600 = certify_model_2_larger_interval_pri_search_smaller_pri_with_1000_intervals(orig_interval_list_600, 0, 10)\n",
    "results_400 = certify_model_2_larger_interval_pri_search_smaller_pri_with_1000_intervals(orig_interval_list_400, 1, 10)\n",
    "used_time=time.time() - s_time\n",
    "print(used_time)\n",
    "print(results_600)\n",
    "print(results_400)\n",
    "for i in results_600[\"counter_examples\"]:\n",
    "    print(model_2.predict(i))\n",
    "for i in results_400[\"counter_examples\"]:\n",
    "    print(model_2.predict(i))"
   ]
  },
  {
   "cell_type": "code",
   "execution_count": 36,
   "id": "0ad97b8b-f257-4daf-b271-520c20197216",
   "metadata": {},
   "outputs": [
    {
     "name": "stdout",
     "output_type": "stream",
     "text": [
      "21.64688992500305\n",
      "{'sat_num': 2, 'counter_interval_list': [[array([[78.50683442, 73.73369533]]), array([[81.50683442, 76.73369533]])], [array([[8.51487492, 5.38379575]]), array([[11.51487492,  8.38379575]])]], 'counter_examples': [[array([[79.13671724, 76.6223672 ]])], [array([[8.8591132 , 8.33985043]])]]}\n",
      "{'sat_num': 0, 'counter_interval_list': [], 'counter_examples': []}\n",
      "[[0.52287304]]\n",
      "[[0.51101494]]\n"
     ]
    }
   ],
   "source": [
    "# 1.5 perturbation\n",
    "# get the 1000 intervals by using l infinity\n",
    "perturbation = 1.5\n",
    "orig_interval_list_600 = get_l_infinity_list(orig_point_list_600, perturbation)\n",
    "orig_interval_list_400 = get_l_infinity_list(orig_points_list_400, perturbation)\n",
    "\n",
    "s_time = time.time()\n",
    "results_600 = certify_model_2_larger_interval_pri_search_smaller_pri_with_1000_intervals(orig_interval_list_600, 0, 10)\n",
    "results_400 = certify_model_2_larger_interval_pri_search_smaller_pri_with_1000_intervals(orig_interval_list_400, 1, 10)\n",
    "used_time=time.time() - s_time\n",
    "print(used_time)\n",
    "print(results_600)\n",
    "print(results_400)\n",
    "for i in results_600[\"counter_examples\"]:\n",
    "    print(model_2.predict(i))\n",
    "for i in results_400[\"counter_examples\"]:\n",
    "    print(model_2.predict(i))"
   ]
  },
  {
   "cell_type": "code",
   "execution_count": 37,
   "id": "cca2b0e3-9a83-495c-9cc5-e7c0ace4c2a5",
   "metadata": {},
   "outputs": [
    {
     "name": "stdout",
     "output_type": "stream",
     "text": [
      "52.39330816268921\n",
      "{'sat_num': 5, 'counter_interval_list': [[array([[79.22356275, 72.51300108]]), array([[83.22356275, 76.51300108]])], [array([[78.00683442, 73.23369533]]), array([[82.00683442, 77.23369533]])], [array([[8.58538599, 4.64718617]]), array([[12.58538599,  8.64718617]])], [array([[8.7964178 , 4.73985106]]), array([[12.7964178 ,  8.73985106]])], [array([[8.01487492, 4.88379575]]), array([[12.01487492,  8.88379575]])]], 'counter_examples': [[array([[79.22911695, 76.5126959 ]])], [array([[79.01464692, 76.69463283]])], [array([[8.95062036, 8.64327992]])], [array([[9.04055842, 8.41758543]])], [array([[8.35471867, 8.82910825]])]]}\n",
      "{'sat_num': 0, 'counter_interval_list': [], 'counter_examples': []}\n",
      "[[0.5010346]]\n",
      "[[0.5436866]]\n",
      "[[0.53450024]]\n",
      "[[0.50023973]]\n",
      "[[0.58755785]]\n"
     ]
    }
   ],
   "source": [
    "# 2.0 perturbation\n",
    "# get the 1000 intervals by using l infinity\n",
    "perturbation = 2.0\n",
    "orig_interval_list_600 = get_l_infinity_list(orig_point_list_600, perturbation)\n",
    "orig_interval_list_400 = get_l_infinity_list(orig_points_list_400, perturbation)\n",
    "\n",
    "s_time = time.time()\n",
    "results_600 = certify_model_2_larger_interval_pri_search_smaller_pri_with_1000_intervals(orig_interval_list_600, 0, 10)\n",
    "results_400 = certify_model_2_larger_interval_pri_search_smaller_pri_with_1000_intervals(orig_interval_list_400, 1, 10)\n",
    "used_time=time.time() - s_time\n",
    "print(used_time)\n",
    "print(results_600)\n",
    "print(results_400)\n",
    "for i in results_600[\"counter_examples\"]:\n",
    "    print(model_2.predict(i))\n",
    "for i in results_400[\"counter_examples\"]:\n",
    "    print(model_2.predict(i))"
   ]
  },
  {
   "cell_type": "code",
   "execution_count": 38,
   "id": "2c24e530-c77c-4b97-8975-70945df01655",
   "metadata": {},
   "outputs": [
    {
     "name": "stdout",
     "output_type": "stream",
     "text": [
      "93.60594153404236\n",
      "{'sat_num': 9, 'counter_interval_list': [[array([[78.72356275, 72.01300108]]), array([[83.72356275, 77.01300108]])], [array([[77.86592169, 70.54573605]]), array([[82.86592169, 75.54573605]])], [array([[77.50683442, 72.73369533]]), array([[82.50683442, 77.73369533]])], [array([[8.17666626, 3.25072157]]), array([[13.17666626,  8.25072157]])], [array([[8.21657744, 2.89417766]]), array([[13.21657744,  7.89417766]])], [array([[7.6062021 , 2.58572457]]), array([[12.6062021 ,  7.58572457]])], [array([[8.08538599, 4.14718617]]), array([[13.08538599,  9.14718617]])], [array([[8.2964178 , 4.23985106]]), array([[13.2964178 ,  9.23985106]])], [array([[7.51487492, 4.38379575]]), array([[12.51487492,  9.38379575]])]], 'counter_examples': [[array([[78.92619947, 76.51007139]])], [array([[77.94038458, 75.34432004]])], [array([[78.1611313, 75.7708047]])], [array([[8.32559204, 8.09203017]])], [array([[8.23305693, 7.65614056]])], [array([[7.61474702, 7.0901191 ]])], [array([[9.11565942, 8.64913929]])], [array([[8.38919123, 7.86778074]])], [array([[8.5597968 , 9.02246762]])]]}\n",
      "{'sat_num': 0, 'counter_interval_list': [], 'counter_examples': []}\n",
      "[[0.5329207]]\n",
      "[[0.51000214]]\n",
      "[[0.53323835]]\n",
      "[[0.5405053]]\n",
      "[[0.5026399]]\n",
      "[[0.5063442]]\n",
      "[[0.51763475]]\n",
      "[[0.5092379]]\n",
      "[[0.58725125]]\n"
     ]
    }
   ],
   "source": [
    "# 2.5 perturbation\n",
    "# get the 1000 intervals by using l infinity\n",
    "perturbation = 2.5\n",
    "orig_interval_list_600 = get_l_infinity_list(orig_point_list_600, perturbation)\n",
    "orig_interval_list_400 = get_l_infinity_list(orig_points_list_400, perturbation)\n",
    "\n",
    "s_time = time.time()\n",
    "results_600 = certify_model_2_larger_interval_pri_search_smaller_pri_with_1000_intervals(orig_interval_list_600, 0, 10)\n",
    "results_400 = certify_model_2_larger_interval_pri_search_smaller_pri_with_1000_intervals(orig_interval_list_400, 1, 10)\n",
    "used_time=time.time() - s_time\n",
    "print(used_time)\n",
    "print(results_600)\n",
    "print(results_400)\n",
    "for i in results_600[\"counter_examples\"]:\n",
    "    print(model_2.predict(i))\n",
    "for i in results_400[\"counter_examples\"]:\n",
    "    print(model_2.predict(i))"
   ]
  },
  {
   "cell_type": "code",
   "execution_count": 39,
   "id": "977de5fc-e4a5-4b11-8828-b6fc690b6df9",
   "metadata": {},
   "outputs": [
    {
     "name": "stdout",
     "output_type": "stream",
     "text": [
      "146.38183903694153\n",
      "{'sat_num': 14, 'counter_interval_list': [[array([[77.26896113, 68.63722976]]), array([[83.26896113, 74.63722976]])], [array([[78.22356275, 71.51300108]]), array([[84.22356275, 77.51300108]])], [array([[77.36592169, 70.04573605]]), array([[83.36592169, 76.04573605]])], [array([[77.00683442, 72.23369533]]), array([[83.00683442, 78.23369533]])], [array([[7.00423187, 0.51166286]]), array([[13.00423187,  6.51166286]])], [array([[8.01334095, 2.35233755]]), array([[14.01334095,  8.35233755]])], [array([[7.67666626, 2.75072157]]), array([[13.67666626,  8.75072157]])], [array([[7.71657744, 2.39417766]]), array([[13.71657744,  8.39417766]])], [array([[7.1062021 , 2.08572457]]), array([[13.1062021 ,  8.08572457]])], [array([[7.58538599, 3.64718617]]), array([[13.58538599,  9.64718617]])], [array([[9.66304835, 3.83638165]]), array([[15.66304835,  9.83638165]])], [array([[7.7964178 , 3.73985106]]), array([[13.7964178 ,  9.73985106]])], [array([[7.5747312 , 1.96740704]]), array([[13.5747312 ,  7.96740704]])], [array([[7.01487492, 3.88379575]]), array([[13.01487492,  9.88379575]])]], 'counter_examples': [[array([[77.27253169, 74.63301834]])], [array([[79.53020338, 76.82159483]])], [array([[78.55537481, 75.85237668]])], [array([[79.62011567, 77.50713283]])], [array([[7.00771087, 6.46808376]])], [array([[8.53775501, 8.28788443]])], [array([[7.96377564, 7.5964247 ]])], [array([[8.64821807, 8.38831829]])], [array([[7.35815523, 6.86111519]])], [array([[8.51116724, 8.46359242]])], [array([[10.36324366,  9.76020978]])], [array([[8.95657405, 8.93125731]])], [array([[7.74758276, 7.71545392]])], [array([[8.73753117, 9.29785825]])]]}\n",
      "{'sat_num': 0, 'counter_interval_list': [], 'counter_examples': []}\n",
      "[[0.5030469]]\n",
      "[[0.5028795]]\n",
      "[[0.500296]]\n",
      "[[0.5680629]]\n",
      "[[0.5027076]]\n",
      "[[0.53942025]]\n",
      "[[0.5247159]]\n",
      "[[0.5386875]]\n",
      "[[0.5085267]]\n",
      "[[0.5555885]]\n",
      "[[0.50676674]]\n",
      "[[0.5578854]]\n",
      "[[0.55499256]]\n",
      "[[0.5935743]]\n"
     ]
    }
   ],
   "source": [
    "# 3.0 perturbation\n",
    "# get the 1000 intervals by using l infinity\n",
    "perturbation = 3.0\n",
    "orig_interval_list_600 = get_l_infinity_list(orig_point_list_600, perturbation)\n",
    "orig_interval_list_400 = get_l_infinity_list(orig_points_list_400, perturbation)\n",
    "\n",
    "s_time = time.time()\n",
    "results_600 = certify_model_2_larger_interval_pri_search_smaller_pri_with_1000_intervals(orig_interval_list_600, 0, 10)\n",
    "results_400 = certify_model_2_larger_interval_pri_search_smaller_pri_with_1000_intervals(orig_interval_list_400, 1, 10)\n",
    "used_time=time.time() - s_time\n",
    "print(used_time)\n",
    "print(results_600)\n",
    "print(results_400)\n",
    "for i in results_600[\"counter_examples\"]:\n",
    "    print(model_2.predict(i))\n",
    "for i in results_400[\"counter_examples\"]:\n",
    "    print(model_2.predict(i))"
   ]
  },
  {
   "cell_type": "code",
   "execution_count": 17,
   "id": "a6ea9b73-7427-4728-b909-d1857f449a2b",
   "metadata": {},
   "outputs": [],
   "source": [
    "# prepare the required parameters and load the functions need to be used\n",
    "%run single_layer_interval_propagation.ipynb\n",
    "%run simple_interval_propagation.ipynb\n",
    "%run model_2_functions.ipynb"
   ]
  },
  {
   "cell_type": "code",
   "execution_count": 18,
   "id": "a61ab67f-856b-4975-80bc-a4283983f1a4",
   "metadata": {},
   "outputs": [
    {
     "name": "stdout",
     "output_type": "stream",
     "text": [
      "1.2973687648773193\n",
      "{'sat_num': 0, 'counter_interval_list': [], 'counter_examples': []}\n",
      "{'sat_num': 0, 'counter_interval_list': [], 'counter_examples': []}\n"
     ]
    }
   ],
   "source": [
    "#***************************************************smaller pri search larger**********************************************************\n",
    "# 0.5 perturbation\n",
    "# get the 1000 intervals by using l infinity\n",
    "perturbation = 0.5\n",
    "orig_interval_list_600 = get_l_infinity_list(orig_point_list_600, perturbation)\n",
    "orig_interval_list_400 = get_l_infinity_list(orig_points_list_400, perturbation)\n",
    "\n",
    "s_time = time.time()\n",
    "results_600 = certify_model_2_larger_interval_pri_search_smaller_pri_with_1000_intervals(orig_interval_list_600, 0, 10)\n",
    "results_400 = certify_model_2_larger_interval_pri_search_smaller_pri_with_1000_intervals(orig_interval_list_400, 1, 10)\n",
    "used_time=time.time() - s_time\n",
    "print(used_time)\n",
    "print(results_600)\n",
    "print(results_400)"
   ]
  },
  {
   "cell_type": "code",
   "execution_count": 19,
   "id": "9c96844a-a3bd-43ea-9e3e-4e16247a43d6",
   "metadata": {},
   "outputs": [
    {
     "name": "stdout",
     "output_type": "stream",
     "text": [
      "1.384643793106079\n",
      "{'sat_num': 0, 'counter_interval_list': [], 'counter_examples': []}\n",
      "{'sat_num': 0, 'counter_interval_list': [], 'counter_examples': []}\n"
     ]
    }
   ],
   "source": [
    "# 1.0 perturbation\n",
    "# get the 1000 intervals by using l infinity\n",
    "perturbation = 1.0\n",
    "orig_interval_list_600 = get_l_infinity_list(orig_point_list_600, perturbation)\n",
    "orig_interval_list_400 = get_l_infinity_list(orig_points_list_400, perturbation)\n",
    "\n",
    "s_time = time.time()\n",
    "results_600 = certify_model_2_smaller_interval_pri_with_1000_intervals(orig_interval_list_600, 0, 10)\n",
    "results_400 = certify_model_2_smaller_interval_pri_with_1000_intervals(orig_interval_list_400, 1, 10)\n",
    "used_time=time.time() - s_time\n",
    "print(used_time)\n",
    "print(results_600)\n",
    "print(results_400)"
   ]
  },
  {
   "cell_type": "code",
   "execution_count": 22,
   "id": "ee1e90c3-f1cf-42b6-a758-46c1e518955a",
   "metadata": {},
   "outputs": [
    {
     "name": "stdout",
     "output_type": "stream",
     "text": [
      "23.449251413345337\n",
      "{'sat_num': 2, 'counter_interval_list': [[array([[78.50683442, 73.73369533]]), array([[81.50683442, 76.73369533]])], [array([[8.51487492, 5.38379575]]), array([[11.51487492,  8.38379575]])]], 'counter_examples': [[array([[79.4501938 , 76.72197658]])], [array([[9.00798099, 8.38379539]])]]}\n",
      "{'sat_num': 0, 'counter_interval_list': [], 'counter_examples': []}\n",
      "[[0.50046766]]\n",
      "[[0.5000001]]\n"
     ]
    }
   ],
   "source": [
    "# 1.5 perturbation\n",
    "# get the 1000 intervals by using l infinity\n",
    "perturbation = 1.5\n",
    "orig_interval_list_600 = get_l_infinity_list(orig_point_list_600, perturbation)\n",
    "orig_interval_list_400 = get_l_infinity_list(orig_points_list_400, perturbation)\n",
    "\n",
    "s_time = time.time()\n",
    "results_600 = certify_model_2_smaller_interval_pri_with_1000_intervals(orig_interval_list_600, 0, 10)\n",
    "results_400 = certify_model_2_smaller_interval_pri_with_1000_intervals(orig_interval_list_400, 1, 10)\n",
    "used_time=time.time() - s_time\n",
    "print(used_time)\n",
    "print(results_600)\n",
    "print(results_400)\n",
    "for i in results_600[\"counter_examples\"]:\n",
    "    print(model_2.predict(i))\n",
    "for i in results_400[\"counter_examples\"]:\n",
    "    print(model_2.predict(i))"
   ]
  },
  {
   "cell_type": "code",
   "execution_count": 23,
   "id": "5de4b475-7747-43ed-8b3c-6f7776026f88",
   "metadata": {},
   "outputs": [
    {
     "name": "stdout",
     "output_type": "stream",
     "text": [
      "55.04617428779602\n",
      "{'sat_num': 5, 'counter_interval_list': [[array([[79.22356275, 72.51300108]]), array([[83.22356275, 76.51300108]])], [array([[78.00683442, 73.23369533]]), array([[82.00683442, 77.23369533]])], [array([[8.58538599, 4.64718617]]), array([[12.58538599,  8.64718617]])], [array([[8.7964178 , 4.73985106]]), array([[12.7964178 ,  8.73985106]])], [array([[8.01487492, 4.88379575]]), array([[12.01487492,  8.88379575]])]], 'counter_examples': [[array([[79.227469  , 76.50518858]])], [array([[78.50683442, 76.23369533]])], [array([[9.14788599, 8.52218617]])], [array([[9.37466487, 8.73960692]])], [array([[9.52323674, 8.88367367]])]]}\n",
      "{'sat_num': 0, 'counter_interval_list': [], 'counter_examples': []}\n",
      "[[0.50038517]]\n",
      "[[0.5471318]]\n",
      "[[0.5002931]]\n",
      "[[0.5000111]]\n",
      "[[0.5000048]]\n"
     ]
    }
   ],
   "source": [
    "# 2.0 perturbation\n",
    "# get the 1000 intervals by using l infinity\n",
    "perturbation = 2.0\n",
    "orig_interval_list_600 = get_l_infinity_list(orig_point_list_600, perturbation)\n",
    "orig_interval_list_400 = get_l_infinity_list(orig_points_list_400, perturbation)\n",
    "\n",
    "s_time = time.time()\n",
    "results_600 = certify_model_2_smaller_interval_pri_with_1000_intervals(orig_interval_list_600, 0, 10)\n",
    "results_400 = certify_model_2_smaller_interval_pri_with_1000_intervals(orig_interval_list_400, 1, 10)\n",
    "used_time=time.time() - s_time\n",
    "print(used_time)\n",
    "print(results_600)\n",
    "print(results_400)\n",
    "for i in results_600[\"counter_examples\"]:\n",
    "    print(model_2.predict(i))\n",
    "for i in results_400[\"counter_examples\"]:\n",
    "    print(model_2.predict(i))"
   ]
  },
  {
   "cell_type": "code",
   "execution_count": 24,
   "id": "cc615b81-95a9-4de7-823b-b9221e020a29",
   "metadata": {},
   "outputs": [
    {
     "name": "stdout",
     "output_type": "stream",
     "text": [
      "96.3099057674408\n",
      "{'sat_num': 9, 'counter_interval_list': [[array([[78.72356275, 72.01300108]]), array([[83.72356275, 77.01300108]])], [array([[77.86592169, 70.54573605]]), array([[82.86592169, 75.54573605]])], [array([[77.50683442, 72.73369533]]), array([[82.50683442, 77.73369533]])], [array([[8.17666626, 3.25072157]]), array([[13.17666626,  8.25072157]])], [array([[8.21657744, 2.89417766]]), array([[13.21657744,  7.89417766]])], [array([[7.6062021 , 2.58572457]]), array([[12.6062021 ,  7.58572457]])], [array([[8.08538599, 4.14718617]]), array([[13.08538599,  9.14718617]])], [array([[8.2964178 , 4.23985106]]), array([[13.2964178 ,  9.23985106]])], [array([[7.51487492, 4.38379575]]), array([[12.51487492,  9.38379575]])]], 'counter_examples': [[array([[79.03606275, 76.38800108]])], [array([[78.19795294, 75.50667355]])], [array([[80.16308442, 77.42119533]])], [array([[8.82119751, 8.21165907]])], [array([[8.29470244, 7.73792766]])], [array([[7.7624521 , 7.27322457]])], [array([[9.68694849, 9.06906117]])], [array([[9.86868342, 9.22031981]])], [array([[10.03562687,  9.38135434]])]]}\n",
      "{'sat_num': 0, 'counter_interval_list': [], 'counter_examples': []}\n",
      "[[0.5078961]]\n",
      "[[0.50040805]]\n",
      "[[0.50130785]]\n",
      "[[0.5009932]]\n",
      "[[0.50505084]]\n",
      "[[0.51070946]]\n",
      "[[0.5029188]]\n",
      "[[0.50017333]]\n",
      "[[0.5000734]]\n"
     ]
    }
   ],
   "source": [
    "# 2.5 perturbation\n",
    "# get the 1000 intervals by using l infinity\n",
    "perturbation = 2.5\n",
    "orig_interval_list_600 = get_l_infinity_list(orig_point_list_600, perturbation)\n",
    "orig_interval_list_400 = get_l_infinity_list(orig_points_list_400, perturbation)\n",
    "\n",
    "s_time = time.time()\n",
    "results_600 = certify_model_2_smaller_interval_pri_with_1000_intervals(orig_interval_list_600, 0, 10)\n",
    "results_400 = certify_model_2_smaller_interval_pri_with_1000_intervals(orig_interval_list_400, 1, 10)\n",
    "used_time=time.time() - s_time\n",
    "print(used_time)\n",
    "print(results_600)\n",
    "print(results_400)\n",
    "for i in results_600[\"counter_examples\"]:\n",
    "    print(model_2.predict(i))\n",
    "for i in results_400[\"counter_examples\"]:\n",
    "    print(model_2.predict(i))"
   ]
  },
  {
   "cell_type": "code",
   "execution_count": 25,
   "id": "f4811350-2eac-4067-8d3e-ee86937dec9d",
   "metadata": {},
   "outputs": [
    {
     "name": "stdout",
     "output_type": "stream",
     "text": [
      "151.06812262535095\n",
      "{'sat_num': 14, 'counter_interval_list': [[array([[77.26896113, 68.63722976]]), array([[83.26896113, 74.63722976]])], [array([[78.22356275, 71.51300108]]), array([[84.22356275, 77.51300108]])], [array([[77.36592169, 70.04573605]]), array([[83.36592169, 76.04573605]])], [array([[77.00683442, 72.23369533]]), array([[83.00683442, 78.23369533]])], [array([[7.00423187, 0.51166286]]), array([[13.00423187,  6.51166286]])], [array([[8.01334095, 2.35233755]]), array([[14.01334095,  8.35233755]])], [array([[7.67666626, 2.75072157]]), array([[13.67666626,  8.75072157]])], [array([[7.71657744, 2.39417766]]), array([[13.71657744,  8.39417766]])], [array([[7.1062021 , 2.08572457]]), array([[13.1062021 ,  8.08572457]])], [array([[7.58538599, 3.64718617]]), array([[13.58538599,  9.64718617]])], [array([[9.66304835, 3.83638165]]), array([[15.66304835,  9.83638165]])], [array([[7.7964178 , 3.73985106]]), array([[13.7964178 ,  9.73985106]])], [array([[7.5747312 , 1.96740704]]), array([[13.5747312 ,  7.96740704]])], [array([[7.01487492, 3.88379575]]), array([[13.01487492,  9.88379575]])]], 'counter_examples': [[array([[77.28067988, 74.61379226]])], [array([[80.14543775, 77.41925108]])], [array([[77.74092169, 75.29573605]])], [array([[80.9970688 , 78.22197658]])], [array([[7.02766937, 6.46478786]])], [array([[8.97464466, 8.35160513]])], [array([[9.37002564, 8.73900282]])], [array([[8.09157744, 7.64417766]])], [array([[8.70071358, 8.08572439]])], [array([[8.33538599, 8.14718617]])], [array([[10.43648585,  9.78950665]])], [array([[8.5464178 , 8.23985106]])], [array([[8.56496557, 7.95568829]])], [array([[10.43674992,  9.79004575]])]]}\n",
      "{'sat_num': 0, 'counter_interval_list': [], 'counter_examples': []}\n",
      "[[0.5000714]]\n",
      "[[0.5029706]]\n",
      "[[0.525869]]\n",
      "[[0.5004028]]\n",
      "[[0.50022316]]\n",
      "[[0.5000162]]\n",
      "[[0.50043845]]\n",
      "[[0.51637197]]\n",
      "[[0.5000001]]\n",
      "[[0.54547447]]\n",
      "[[0.5021886]]\n",
      "[[0.53326434]]\n",
      "[[0.5001808]]\n",
      "[[0.5022199]]\n"
     ]
    }
   ],
   "source": [
    "# 3.0 perturbation\n",
    "# get the 1000 intervals by using l infinity\n",
    "perturbation = 3.0\n",
    "orig_interval_list_600 = get_l_infinity_list(orig_point_list_600, perturbation)\n",
    "orig_interval_list_400 = get_l_infinity_list(orig_points_list_400, perturbation)\n",
    "\n",
    "s_time = time.time()\n",
    "results_600 = certify_model_2_smaller_interval_pri_with_1000_intervals(orig_interval_list_600, 0, 10)\n",
    "results_400 = certify_model_2_smaller_interval_pri_with_1000_intervals(orig_interval_list_400, 1, 10)\n",
    "used_time=time.time() - s_time\n",
    "print(used_time)\n",
    "print(results_600)\n",
    "print(results_400)\n",
    "for i in results_600[\"counter_examples\"]:\n",
    "    print(model_2.predict(i))\n",
    "for i in results_400[\"counter_examples\"]:\n",
    "    print(model_2.predict(i))"
   ]
  },
  {
   "cell_type": "code",
   "execution_count": 42,
   "id": "452d07d8-b020-4ccb-801b-a951a59cb3c9",
   "metadata": {},
   "outputs": [
    {
     "name": "stdout",
     "output_type": "stream",
     "text": [
      "1.329483985900879\n",
      "{'sat_num': 0, 'counter_interval_list': [], 'counter_examples': []}\n",
      "{'sat_num': 0, 'counter_interval_list': [], 'counter_examples': []}\n"
     ]
    }
   ],
   "source": [
    "#***************************************************smaller pri search smaller**********************************************************\n",
    "# 0.5 perturbation\n",
    "# get the 1000 intervals by using l infinity\n",
    "perturbation = 0.5\n",
    "orig_interval_list_600 = get_l_infinity_list(orig_point_list_600, perturbation)\n",
    "orig_interval_list_400 = get_l_infinity_list(orig_points_list_400, perturbation)\n",
    "\n",
    "s_time = time.time()\n",
    "results_600 = certify_model_2_smaller_interval_pri_search_smaller_pri_with_1000_intervals(orig_interval_list_600, 0, 10)\n",
    "results_400 = certify_model_2_smaller_interval_pri_search_smaller_pri_with_1000_intervals(orig_interval_list_400, 1, 10)\n",
    "used_time=time.time() - s_time\n",
    "print(used_time)\n",
    "print(results_600)\n",
    "print(results_400)\n",
    "for i in results_600[\"counter_examples\"]:\n",
    "    print(model_2.predict(i))\n",
    "for i in results_400[\"counter_examples\"]:\n",
    "    print(model_2.predict(i))"
   ]
  },
  {
   "cell_type": "code",
   "execution_count": 43,
   "id": "d5645e34-ea0b-498c-936a-cadb8146e42c",
   "metadata": {},
   "outputs": [
    {
     "name": "stdout",
     "output_type": "stream",
     "text": [
      "1.3320348262786865\n",
      "{'sat_num': 0, 'counter_interval_list': [], 'counter_examples': []}\n",
      "{'sat_num': 0, 'counter_interval_list': [], 'counter_examples': []}\n"
     ]
    }
   ],
   "source": [
    "# 1.0 perturbation\n",
    "# get the 1000 intervals by using l infinity\n",
    "perturbation = 1.0\n",
    "orig_interval_list_600 = get_l_infinity_list(orig_point_list_600, perturbation)\n",
    "orig_interval_list_400 = get_l_infinity_list(orig_points_list_400, perturbation)\n",
    "\n",
    "s_time = time.time()\n",
    "results_600 = certify_model_2_smaller_interval_pri_search_smaller_pri_with_1000_intervals(orig_interval_list_600, 0, 10)\n",
    "results_400 = certify_model_2_smaller_interval_pri_search_smaller_pri_with_1000_intervals(orig_interval_list_400, 1, 10)\n",
    "used_time=time.time() - s_time\n",
    "print(used_time)\n",
    "print(results_600)\n",
    "print(results_400)\n",
    "for i in results_600[\"counter_examples\"]:\n",
    "    print(model_2.predict(i))\n",
    "for i in results_400[\"counter_examples\"]:\n",
    "    print(model_2.predict(i))"
   ]
  },
  {
   "cell_type": "code",
   "execution_count": 44,
   "id": "f492476e-59f3-475b-b932-75edf6c3f537",
   "metadata": {},
   "outputs": [
    {
     "name": "stdout",
     "output_type": "stream",
     "text": [
      "21.931832313537598\n",
      "{'sat_num': 2, 'counter_interval_list': [[array([[78.50683442, 73.73369533]]), array([[81.50683442, 76.73369533]])], [array([[8.51487492, 5.38379575]]), array([[11.51487492,  8.38379575]])]], 'counter_examples': [[array([[79.46665566, 76.73369533]])], [array([[9.00798122, 8.38379575]])]]}\n",
      "{'sat_num': 0, 'counter_interval_list': [], 'counter_examples': []}\n",
      "[[0.50000036]]\n",
      "[[0.5000001]]\n"
     ]
    }
   ],
   "source": [
    "# 1.5 perturbation\n",
    "# get the 1000 intervals by using l infinity\n",
    "perturbation = 1.5\n",
    "orig_interval_list_600 = get_l_infinity_list(orig_point_list_600, perturbation)\n",
    "orig_interval_list_400 = get_l_infinity_list(orig_points_list_400, perturbation)\n",
    "\n",
    "s_time = time.time()\n",
    "results_600 = certify_model_2_smaller_interval_pri_search_smaller_pri_with_1000_intervals(orig_interval_list_600, 0, 10)\n",
    "results_400 = certify_model_2_smaller_interval_pri_search_smaller_pri_with_1000_intervals(orig_interval_list_400, 1, 10)\n",
    "used_time=time.time() - s_time\n",
    "print(used_time)\n",
    "print(results_600)\n",
    "print(results_400)\n",
    "for i in results_600[\"counter_examples\"]:\n",
    "    print(model_2.predict(i))\n",
    "for i in results_400[\"counter_examples\"]:\n",
    "    print(model_2.predict(i))"
   ]
  },
  {
   "cell_type": "code",
   "execution_count": 46,
   "id": "70caf80f-7216-4aed-9904-2553dec3ee43",
   "metadata": {},
   "outputs": [
    {
     "name": "stdout",
     "output_type": "stream",
     "text": [
      "763.3913819789886\n",
      "{'sat_num': 5, 'counter_interval_list': [[array([[79.22356275, 72.51300108]]), array([[83.22356275, 76.51300108]])], [array([[78.00683442, 73.23369533]]), array([[82.00683442, 77.23369533]])], [array([[8.58538599, 4.64718617]]), array([[12.58538599,  8.64718617]])], [array([[8.7964178 , 4.73985106]]), array([[12.7964178 ,  8.73985106]])], [array([[8.01487492, 4.88379575]]), array([[12.01487492,  8.88379575]])]], 'counter_examples': [[array([[79.23914579, 76.51299345]])], [array([[79.98208198, 77.23369533]])], [array([[9.27949733, 8.64718522]])], [array([[9.3749853 , 8.73982054]])], [array([[9.52340754, 8.88379575]])]]}\n",
      "{'sat_num': 0, 'counter_interval_list': [], 'counter_examples': []}\n",
      "[[0.50000036]]\n",
      "[[0.50000083]]\n",
      "[[0.5]]\n",
      "[[0.50000054]]\n",
      "[[0.5]]\n"
     ]
    }
   ],
   "source": [
    "# 2.0 perturbation\n",
    "# get the 1000 intervals by using l infinity\n",
    "perturbation = 2.0\n",
    "orig_interval_list_600 = get_l_infinity_list(orig_point_list_600, perturbation)\n",
    "orig_interval_list_400 = get_l_infinity_list(orig_points_list_400, perturbation)\n",
    "\n",
    "s_time = time.time()\n",
    "results_600 = certify_model_2_smaller_interval_pri_search_smaller_pri_with_1000_intervals(orig_interval_list_600, 0, 10)\n",
    "results_400 = certify_model_2_smaller_interval_pri_search_smaller_pri_with_1000_intervals(orig_interval_list_400, 1, 10)\n",
    "used_time=time.time() - s_time\n",
    "print(used_time)\n",
    "print(results_600)\n",
    "print(results_400)\n",
    "for i in results_600[\"counter_examples\"]:\n",
    "    print(model_2.predict(i))\n",
    "for i in results_400[\"counter_examples\"]:\n",
    "    print(model_2.predict(i))"
   ]
  },
  {
   "cell_type": "code",
   "execution_count": 47,
   "id": "2a121ae4-a127-43ce-acdf-8ecd06db85d9",
   "metadata": {},
   "outputs": [
    {
     "name": "stdout",
     "output_type": "stream",
     "text": [
      "101.93953037261963\n",
      "{'sat_num': 9, 'counter_interval_list': [[array([[78.72356275, 72.01300108]]), array([[83.72356275, 77.01300108]])], [array([[77.86592169, 70.54573605]]), array([[82.86592169, 75.54573605]])], [array([[77.50683442, 72.73369533]]), array([[82.50683442, 77.73369533]])], [array([[8.17666626, 3.25072157]]), array([[13.17666626,  8.25072157]])], [array([[8.21657744, 2.89417766]]), array([[13.21657744,  7.89417766]])], [array([[7.6062021 , 2.58572457]]), array([[12.6062021 ,  7.58572457]])], [array([[8.08538599, 4.14718617]]), array([[13.08538599,  9.14718617]])], [array([[8.2964178 , 4.23985106]]), array([[13.2964178 ,  9.23985106]])], [array([[7.51487492, 4.38379575]]), array([[12.51487492,  9.38379575]])]], 'counter_examples': [[array([[79.75457873, 77.01300108]])], [array([[78.24204471, 75.54573605]])], [array([[80.4975083 , 77.73369533]])], [array([[8.87080136, 8.25072157]])], [array([[8.50317565, 7.89410137]])], [array([[8.18528715, 7.58572367]])], [array([[9.79492426, 9.14718617]])], [array([[9.89044807, 9.23985102]])], [array([[10.03883241,  9.38379336]])]]}\n",
      "{'sat_num': 0, 'counter_interval_list': [], 'counter_examples': []}\n",
      "[[0.50000083]]\n",
      "[[0.5000013]]\n",
      "[[0.50000083]]\n",
      "[[0.50000006]]\n",
      "[[0.50000024]]\n",
      "[[0.5]]\n",
      "[[0.5]]\n",
      "[[0.5]]\n",
      "[[0.5]]\n"
     ]
    }
   ],
   "source": [
    "# 2.5 perturbation\n",
    "# get the 1000 intervals by using l infinity\n",
    "perturbation = 2.5\n",
    "orig_interval_list_600 = get_l_infinity_list(orig_point_list_600, perturbation)\n",
    "orig_interval_list_400 = get_l_infinity_list(orig_points_list_400, perturbation)\n",
    "\n",
    "s_time = time.time()\n",
    "results_600 = certify_model_2_smaller_interval_pri_search_smaller_pri_with_1000_intervals(orig_interval_list_600, 0, 10)\n",
    "results_400 = certify_model_2_smaller_interval_pri_search_smaller_pri_with_1000_intervals(orig_interval_list_400, 1, 10)\n",
    "used_time=time.time() - s_time\n",
    "print(used_time)\n",
    "print(results_600)\n",
    "print(results_400)\n",
    "for i in results_600[\"counter_examples\"]:\n",
    "    print(model_2.predict(i))\n",
    "for i in results_400[\"counter_examples\"]:\n",
    "    print(model_2.predict(i))"
   ]
  },
  {
   "cell_type": "code",
   "execution_count": 48,
   "id": "2998a9c5-d437-4da1-aad7-c2a70b65e017",
   "metadata": {},
   "outputs": [
    {
     "name": "stdout",
     "output_type": "stream",
     "text": [
      "498.31285309791565\n",
      "{'sat_num': 14, 'counter_interval_list': [[array([[77.26896113, 68.63722976]]), array([[83.26896113, 74.63722976]])], [array([[78.22356275, 71.51300108]]), array([[84.22356275, 77.51300108]])], [array([[77.36592169, 70.04573605]]), array([[83.36592169, 76.04573605]])], [array([[77.00683442, 72.23369533]]), array([[83.00683442, 78.23369533]])], [array([[7.00423187, 0.51166286]]), array([[13.00423187,  6.51166286]])], [array([[8.01334095, 2.35233755]]), array([[14.01334095,  8.35233755]])], [array([[7.67666626, 2.75072157]]), array([[13.67666626,  8.75072157]])], [array([[7.71657744, 2.39417766]]), array([[13.71657744,  8.39417766]])], [array([[7.1062021 , 2.08572457]]), array([[13.1062021 ,  8.08572457]])], [array([[7.58538599, 3.64718617]]), array([[13.58538599,  9.64718617]])], [array([[9.66304835, 3.83638165]]), array([[15.66304835,  9.83638165]])], [array([[7.7964178 , 3.73985106]]), array([[13.7964178 ,  9.73985106]])], [array([[7.5747312 , 1.96740704]]), array([[13.5747312 ,  7.96740704]])], [array([[7.01487492, 3.88379575]]), array([[13.01487492,  9.88379575]])]], 'counter_examples': [[array([[77.3055086 , 74.63722976]])], [array([[80.27000505, 77.51300108]])], [array([[78.75747103, 76.04573605]])], [array([[81.01293462, 78.23369533]])], [array([[7.0780881 , 6.51166286]])], [array([[8.97555246, 8.35233755]])], [array([[9.38622768, 8.75072157]])], [array([[9.01868345, 8.39417766]])], [array([[8.70071376, 8.08572457]])], [array([[10.31035058,  9.64718617]])], [array([[10.50538324,  9.83638165]])], [array([[10.40587442,  9.73985106]])], [array([[8.57874583, 7.96740704]])], [array([[10.55425964,  9.88379503]])]]}\n",
      "{'sat_num': 0, 'counter_interval_list': [], 'counter_examples': []}\n",
      "[[0.50000036]]\n",
      "[[0.50000083]]\n",
      "[[0.50000083]]\n",
      "[[0.5000013]]\n",
      "[[0.50000006]]\n",
      "[[0.5]]\n",
      "[[0.5000002]]\n",
      "[[0.50000006]]\n",
      "[[0.50000006]]\n",
      "[[0.5]]\n",
      "[[0.5]]\n",
      "[[0.5000001]]\n",
      "[[0.50000006]]\n",
      "[[0.5]]\n"
     ]
    }
   ],
   "source": [
    "# 3.0 perturbation\n",
    "# get the 1000 intervals by using l infinity\n",
    "perturbation = 3.0\n",
    "orig_interval_list_600 = get_l_infinity_list(orig_point_list_600, perturbation)\n",
    "orig_interval_list_400 = get_l_infinity_list(orig_points_list_400, perturbation)\n",
    "\n",
    "s_time = time.time()\n",
    "results_600 = certify_model_2_smaller_interval_pri_search_smaller_pri_with_1000_intervals(orig_interval_list_600, 0, 10)\n",
    "results_400 = certify_model_2_smaller_interval_pri_search_smaller_pri_with_1000_intervals(orig_interval_list_400, 1, 10)\n",
    "used_time=time.time() - s_time\n",
    "print(used_time)\n",
    "print(results_600)\n",
    "print(results_400)\n",
    "for i in results_600[\"counter_examples\"]:\n",
    "    print(model_2.predict(i))\n",
    "for i in results_400[\"counter_examples\"]:\n",
    "    print(model_2.predict(i))"
   ]
  },
  {
   "cell_type": "code",
   "execution_count": 59,
   "id": "44935d7d-6c63-4f4b-ac7e-a4e7dd5cb50a",
   "metadata": {},
   "outputs": [],
   "source": [
    "# prepare the required parameters and load the functions need to be used\n",
    "%run single_layer_interval_propagation.ipynb\n",
    "%run simple_interval_propagation.ipynb\n",
    "%run model_2_functions.ipynb"
   ]
  },
  {
   "cell_type": "code",
   "execution_count": 60,
   "id": "24460fc7-25e1-4955-9684-a15f0d3512cb",
   "metadata": {},
   "outputs": [
    {
     "name": "stdout",
     "output_type": "stream",
     "text": [
      "1.315119981765747\n",
      "{'sat_num': 1, 'counter_interval_list': [[array([[79.50683442, 74.73369533]]), array([[80.50683442, 75.73369533]])]], 'counter_examples': []}\n",
      "{'sat_num': 0, 'counter_interval_list': [], 'counter_examples': []}\n"
     ]
    }
   ],
   "source": [
    "# 0.5 perturbation\n",
    "# get the 1000 intervals by using l infinity\n",
    "perturbation = 0.5\n",
    "orig_interval_list_600 = get_l_infinity_list(orig_point_list_600, perturbation)\n",
    "orig_interval_list_400 = get_l_infinity_list(orig_points_list_400, perturbation)\n",
    "\n",
    "s_time = time.time()\n",
    "results_600 = certify_model_2_with_1000_intervals_plain_interval_propagation(orig_interval_list_600, 0)\n",
    "results_400 = certify_model_2_with_1000_intervals_plain_interval_propagation(orig_interval_list_400, 1)\n",
    "used_time=time.time() - s_time\n",
    "print(used_time)\n",
    "print(results_600)\n",
    "print(results_400)"
   ]
  },
  {
   "cell_type": "code",
   "execution_count": 61,
   "id": "7dd1b16e-a4ae-41cb-a63b-bb9d05e1c7fc",
   "metadata": {},
   "outputs": [
    {
     "name": "stdout",
     "output_type": "stream",
     "text": [
      "1.215898036956787\n",
      "{'sat_num': 5, 'counter_interval_list': [[array([[80.22356275, 73.51300108]]), array([[82.22356275, 75.51300108]])], [array([[79.00683442, 74.23369533]]), array([[81.00683442, 76.23369533]])], [array([[9.58538599, 5.64718617]]), array([[11.58538599,  7.64718617]])], [array([[9.7964178 , 5.73985106]]), array([[11.7964178 ,  7.73985106]])], [array([[9.01487492, 5.88379575]]), array([[11.01487492,  7.88379575]])]], 'counter_examples': []}\n",
      "{'sat_num': 0, 'counter_interval_list': [], 'counter_examples': []}\n"
     ]
    }
   ],
   "source": [
    "# 1.0 perturbation\n",
    "# get the 1000 intervals by using l infinity\n",
    "perturbation = 1.0\n",
    "orig_interval_list_600 = get_l_infinity_list(orig_point_list_600, perturbation)\n",
    "orig_interval_list_400 = get_l_infinity_list(orig_points_list_400, perturbation)\n",
    "\n",
    "s_time = time.time()\n",
    "results_600 = certify_model_2_with_1000_intervals_plain_interval_propagation(orig_interval_list_600, 0)\n",
    "results_400 = certify_model_2_with_1000_intervals_plain_interval_propagation(orig_interval_list_400, 1)\n",
    "used_time=time.time() - s_time\n",
    "print(used_time)\n",
    "print(results_600)\n",
    "print(results_400)"
   ]
  },
  {
   "cell_type": "code",
   "execution_count": 62,
   "id": "ba3aaae4-5f97-41b3-990f-835b7fae84e6",
   "metadata": {},
   "outputs": [
    {
     "name": "stdout",
     "output_type": "stream",
     "text": [
      "1.2455148696899414\n",
      "{'sat_num': 21, 'counter_interval_list': [[array([[80.45068154, 71.66118366]]), array([[83.45068154, 74.66118366]])], [array([[78.76896113, 70.13722976]]), array([[81.76896113, 73.13722976]])], [array([[79.72356275, 73.01300108]]), array([[82.72356275, 76.01300108]])], [array([[83.89516096, 74.63482774]]), array([[86.89516096, 77.63482774]])], [array([[78.86592169, 71.54573605]]), array([[81.86592169, 74.54573605]])], [array([[78.50683442, 73.73369533]]), array([[81.50683442, 76.73369533]])], [array([[8.50423187, 2.01166286]]), array([[11.50423187,  5.01166286]])], [array([[9.51334095, 3.85233755]]), array([[12.51334095,  6.85233755]])], [array([[9.17666626, 4.25072157]]), array([[12.17666626,  7.25072157]])], [array([[9.21657744, 3.89417766]]), array([[12.21657744,  6.89417766]])], [array([[8.6062021 , 3.58572457]]), array([[11.6062021 ,  6.58572457]])], [array([[9.08538599, 5.14718617]]), array([[12.08538599,  8.14718617]])], [array([[10.94200639,  4.27731526]]), array([[13.94200639,  7.27731526]])], [array([[9.23556495, 0.63105493]]), array([[12.23556495,  3.63105493]])], [array([[9.54734006, 1.73105534]]), array([[12.54734006,  4.73105534]])], [array([[11.16304835,  5.33638165]]), array([[14.16304835,  8.33638165]])], [array([[9.0162082 , 1.67181043]]), array([[12.0162082 ,  4.67181043]])], [array([[9.2964178 , 5.23985106]]), array([[12.2964178 ,  8.23985106]])], [array([[9.0747312 , 3.46740704]]), array([[12.0747312 ,  6.46740704]])], [array([[8.51487492, 5.38379575]]), array([[11.51487492,  8.38379575]])], [array([[9.62478853, 2.33271549]]), array([[12.62478853,  5.33271549]])]], 'counter_examples': []}\n",
      "{'sat_num': 3, 'counter_interval_list': [[array([[59.12452641, 71.24949408]]), array([[62.12452641, 74.24949408]])], [array([[64.36592951, 72.13225703]]), array([[67.36592951, 75.13225703]])], [array([[64.82361271, 72.5781245 ]]), array([[67.82361271, 75.5781245 ]])]], 'counter_examples': []}\n"
     ]
    }
   ],
   "source": [
    "# 1.5 perturbation\n",
    "# get the 1000 intervals by using l infinity\n",
    "perturbation = 1.5\n",
    "orig_interval_list_600 = get_l_infinity_list(orig_point_list_600, perturbation)\n",
    "orig_interval_list_400 = get_l_infinity_list(orig_points_list_400, perturbation)\n",
    "\n",
    "s_time = time.time()\n",
    "results_600 = certify_model_2_with_1000_intervals_plain_interval_propagation(orig_interval_list_600, 0)\n",
    "results_400 = certify_model_2_with_1000_intervals_plain_interval_propagation(orig_interval_list_400, 1)\n",
    "used_time=time.time() - s_time\n",
    "print(used_time)\n",
    "print(results_600)\n",
    "print(results_400)"
   ]
  },
  {
   "cell_type": "code",
   "execution_count": 63,
   "id": "4ecd6c01-b72d-4b05-920e-55aefa016830",
   "metadata": {},
   "outputs": [
    {
     "name": "stdout",
     "output_type": "stream",
     "text": [
      "1.1847591400146484\n",
      "{'sat_num': 39, 'counter_interval_list': [[array([[79.95068154, 71.16118366]]), array([[83.95068154, 75.16118366]])], [array([[78.26896113, 69.63722976]]), array([[82.26896113, 73.63722976]])], [array([[79.22356275, 72.51300108]]), array([[83.22356275, 76.51300108]])], [array([[83.39516096, 74.13482774]]), array([[87.39516096, 78.13482774]])], [array([[78.36592169, 71.04573605]]), array([[82.36592169, 75.04573605]])], [array([[78.00683442, 73.23369533]]), array([[82.00683442, 77.23369533]])], [array([[84.40186535, 73.00754892]]), array([[88.40186535, 77.00754892]])], [array([[8.00423187, 1.51166286]]), array([[12.00423187,  5.51166286]])], [array([[9.01334095, 3.35233755]]), array([[13.01334095,  7.35233755]])], [array([[11.14663582,  0.19527392]]), array([[15.14663582,  4.19527392]])], [array([[11.63883285,  2.10553813]]), array([[15.63883285,  6.10553813]])], [array([[8.67666626, 3.75072157]]), array([[12.67666626,  7.75072157]])], [array([[11.81936224,  2.23946763]]), array([[15.81936224,  6.23946763]])], [array([[8.71657744, 3.39417766]]), array([[12.71657744,  7.39417766]])], [array([[11.78637387,  2.07027994]]), array([[15.78637387,  6.07027994]])], [array([[9.84827798, 2.67948203]]), array([[13.84827798,  6.67948203]])], [array([[13.15322485,  4.03695644]]), array([[17.15322485,  8.03695644]])], [array([[12.245601  ,  4.74744629]]), array([[16.245601  ,  8.74744629]])], [array([[8.1062021 , 3.08572457]]), array([[12.1062021 ,  7.08572457]])], [array([[8.58538599, 4.64718617]]), array([[12.58538599,  8.64718617]])], [array([[10.44200639,  3.77731526]]), array([[14.44200639,  7.77731526]])], [array([[8.73556495, 0.13105493]]), array([[12.73556495,  4.13105493]])], [array([[9.04734006, 1.23105534]]), array([[13.04734006,  5.23105534]])], [array([[12.59441266,  1.3959184 ]]), array([[16.59441266,  5.3959184 ]])], [array([[10.21695451,  0.60671728]]), array([[14.21695451,  4.60671728]])], [array([[9.64841951, 0.53747065]]), array([[13.64841951,  4.53747065]])], [array([[10.66304835,  4.83638165]]), array([[14.66304835,  8.83638165]])], [array([[10.59081932,  2.43172555]]), array([[14.59081932,  6.43172555]])], [array([[10.45438887,  1.85042099]]), array([[14.45438887,  5.85042099]])], [array([[8.5162082 , 1.17181043]]), array([[12.5162082 ,  5.17181043]])], [array([[12.99792885,  2.52831083]]), array([[16.99792885,  6.52831083]])], [array([[8.7964178 , 4.73985106]]), array([[12.7964178 ,  8.73985106]])], [array([[12.84688326,  4.04745346]]), array([[16.84688326,  8.04745346]])], [array([[8.5747312 , 2.96740704]]), array([[12.5747312 ,  6.96740704]])], [array([[9.99464307, 2.1009684 ]]), array([[13.99464307,  6.1009684 ]])], [array([[8.01487492, 4.88379575]]), array([[12.01487492,  8.88379575]])], [array([[11.65350587,  3.25652166]]), array([[15.65350587,  7.25652166]])], [array([[9.12478853, 1.83271549]]), array([[13.12478853,  5.83271549]])], [array([[10.10638922,  2.5425812 ]]), array([[14.10638922,  6.5425812 ]])]], 'counter_examples': []}\n",
      "{'sat_num': 124, 'counter_interval_list': [[array([[62.22070899, 78.6633057 ]]), array([[66.22070899, 82.6633057 ]])], [array([[58.9673032 , 73.87228297]]), array([[62.9673032 , 77.87228297]])], [array([[58.62452641, 70.74949408]]), array([[62.62452641, 74.74949408]])], [array([[60.21556631, 74.95531719]]), array([[64.21556631, 78.95531719]])], [array([[57.47217855, 75.1453952 ]]), array([[61.47217855, 79.1453952 ]])], [array([[61.71162387, 79.13306376]]), array([[65.71162387, 83.13306376]])], [array([[53.5896211 , 68.30037961]]), array([[57.5896211 , 72.30037961]])], [array([[63.86592951, 71.63225703]]), array([[67.86592951, 75.63225703]])], [array([[50.82953786, 68.44660856]]), array([[54.82953786, 72.44660856]])], [array([[51.77460727, 68.6914244 ]]), array([[55.77460727, 72.6914244 ]])], [array([[63.33286448, 80.732088  ]]), array([[67.33286448, 84.732088  ]])], [array([[64.59825962, 78.92141608]]), array([[68.59825962, 82.92141608]])], [array([[64.32361271, 72.0781245 ]]), array([[68.32361271, 76.0781245 ]])], [array([[-0.99668313, 44.04665145]]), array([[ 3.00331687, 48.04665145]])], [array([[ 3.25592083, 39.8467719 ]]), array([[ 7.25592083, 43.8467719 ]])], [array([[ 4.40154613, 44.91121454]]), array([[ 8.40154613, 48.91121454]])], [array([[10.50625675, 48.77633468]]), array([[14.50625675, 52.77633468]])], [array([[11.10183927, 49.17379657]]), array([[15.10183927, 53.17379657]])], [array([[ 3.07122122, 41.96202978]]), array([[ 7.07122122, 45.96202978]])], [array([[ 1.46628213, 38.78109566]]), array([[ 5.46628213, 42.78109566]])], [array([[ 1.85205818, 46.4221525 ]]), array([[ 5.85205818, 50.4221525 ]])], [array([[19.0644363 , 44.31031262]]), array([[23.0644363 , 48.31031262]])], [array([[ 1.99355419, 46.95787052]]), array([[ 5.99355419, 50.95787052]])], [array([[25.34926959, 43.87228297]]), array([[29.34926959, 47.87228297]])], [array([[ 7.34548482, 40.60057144]]), array([[11.34548482, 44.60057144]])], [array([[ 5.13721536, 43.31093319]]), array([[ 9.13721536, 47.31093319]])], [array([[13.25562162, 39.0672509 ]]), array([[17.25562162, 43.0672509 ]])], [array([[15.64941056, 40.9345715 ]]), array([[19.64941056, 44.9345715 ]])], [array([[ 1.96769844, 46.28111976]]), array([[ 5.96769844, 50.28111976]])], [array([[19.13760457, 46.28358539]]), array([[23.13760457, 50.28358539]])], [array([[18.25004471, 48.29778224]]), array([[22.25004471, 52.29778224]])], [array([[26.39324792, 49.73110081]]), array([[30.39324792, 53.73110081]])], [array([[25.19865554, 40.74949408]]), array([[29.19865554, 44.74949408]])], [array([[10.53262827, 41.30708394]]), array([[14.53262827, 45.30708394]])], [array([[24.61587664, 50.47344414]]), array([[28.61587664, 54.47344414]])], [array([[20.77733059, 44.97796684]]), array([[24.77733059, 48.97796684]])], [array([[12.04745187, 49.56779229]]), array([[16.04745187, 53.56779229]])], [array([[10.83596728, 42.7405396 ]]), array([[14.83596728, 46.7405396 ]])], [array([[25.1980061 , 49.47358973]]), array([[29.1980061 , 53.47358973]])], [array([[ 8.47270215, 48.54116205]]), array([[12.47270215, 52.54116205]])], [array([[24.69232088, 45.1453952 ]]), array([[28.69232088, 49.1453952 ]])], [array([[25.34751938, 50.46720232]]), array([[29.34751938, 54.46720232]])], [array([[ 3.99787474, 40.74271499]]), array([[ 7.99787474, 44.74271499]])], [array([[26.04526843, 51.93636323]]), array([[30.04526843, 55.93636323]])], [array([[19.634218  , 40.48541924]]), array([[23.634218  , 44.48541924]])], [array([[-0.42347612, 38.52421974]]), array([[ 3.57652388, 42.52421974]])], [array([[-0.17911185, 42.92422135]]), array([[ 3.82088815, 46.92422135]])], [array([[23.94081051, 48.77662129]]), array([[27.94081051, 52.77662129]])], [array([[ 2.60102614, 43.58367358]]), array([[ 6.60102614, 47.58367358]])], [array([[15.26987636, 38.37294579]]), array([[19.26987636, 42.37294579]])], [array([[22.21834751, 42.65948548]]), array([[26.21834751, 46.65948548]])], [array([[22.40605067, 45.75721288]]), array([[26.40605067, 49.75721288]])], [array([[15.13096679, 40.72910451]]), array([[19.13096679, 44.72910451]])], [array([[ 0.737613  , 40.42686911]]), array([[ 4.737613  , 44.42686911]])], [array([[ 0.29200448, 40.14988258]]), array([[ 4.29200448, 44.14988258]])], [array([[15.23179248, 38.2511196 ]]), array([[19.23179248, 42.2511196 ]])], [array([[15.4749134 , 42.06586469]]), array([[19.4749134 , 46.06586469]])], [array([[ 4.66745495, 49.62717855]]), array([[ 8.66745495, 53.62717855]])], [array([[27.13057968, 54.93657603]]), array([[31.13057968, 58.93657603]])], [array([[ 5.95558502, 47.87539429]]), array([[ 9.95558502, 51.87539429]])], [array([[ 3.54695044, 38.37152404]]), array([[ 7.54695044, 42.37152404]])], [array([[16.58355439, 49.37702874]]), array([[20.58355439, 53.37702874]])], [array([[15.81261136, 45.60282345]]), array([[19.81261136, 49.60282345]])], [array([[18.40775391, 43.29839115]]), array([[22.40775391, 47.29839115]])], [array([[ 0.9237102 , 45.40168396]]), array([[ 4.9237102 , 49.40168396]])], [array([[17.2618077, 42.2034802]]), array([[21.2618077, 46.2034802]])], [array([[20.82991106, 39.33072963]]), array([[24.82991106, 43.33072963]])], [array([[ 6.63560634, 39.31922181]]), array([[10.63560634, 43.31922181]])], [array([[-0.59540438, 42.68724172]]), array([[ 3.40459562, 46.68724172]])], [array([[25.55258414, 50.83132418]]), array([[29.55258414, 54.83132418]])], [array([[10.31022371, 47.71981334]]), array([[14.31022371, 51.71981334]])], [array([[16.525004  , 48.99095843]]), array([[20.525004  , 52.99095843]])], [array([[ 4.04471433, 40.52659039]]), array([[ 8.04471433, 44.52659039]])], [array([[ 2.91729558, 48.11324331]]), array([[ 6.91729558, 52.11324331]])], [array([[22.98634866, 38.30037961]]), array([[26.98634866, 42.30037961]])], [array([[ 4.10969141, 44.64127149]]), array([[ 8.10969141, 48.64127149]])], [array([[12.33652771, 48.92693632]]), array([[16.33652771, 52.92693632]])], [array([[22.15950414, 43.71437703]]), array([[26.15950414, 47.71437703]])], [array([[13.21735216, 49.98220615]]), array([[17.21735216, 53.98220615]])], [array([[15.75785924, 41.68020403]]), array([[19.75785924, 45.68020403]])], [array([[21.84994778, 50.24062354]]), array([[25.84994778, 54.24062354]])], [array([[ 0.56336889, 46.4038736 ]]), array([[ 4.56336889, 50.4038736 ]])], [array([[ 7.28171217, 49.73666681]]), array([[11.28171217, 53.73666681]])], [array([[24.06990347, 44.45361994]]), array([[28.06990347, 48.45361994]])], [array([[18.45287493, 47.01747873]]), array([[22.45287493, 51.01747873]])], [array([[10.08097981, 46.216227  ]]), array([[14.08097981, 50.216227  ]])], [array([[10.64290792, 44.34767892]]), array([[14.64290792, 48.34767892]])], [array([[17.03566167, 46.60494542]]), array([[21.03566167, 50.60494542]])], [array([[ 4.75852676, 46.53402019]]), array([[ 8.75852676, 50.53402019]])], [array([[18.21887456, 43.40416524]]), array([[22.21887456, 47.40416524]])], [array([[15.49688173, 47.31419757]]), array([[19.49688173, 51.31419757]])], [array([[ 8.93797833, 39.36418697]]), array([[12.93797833, 43.36418697]])], [array([[ 9.9598012 , 39.59252155]]), array([[13.9598012 , 43.59252155]])], [array([[27.5016963 , 41.63225703]]), array([[31.5016963 , 45.63225703]])], [array([[18.96398432, 49.38988825]]), array([[22.96398432, 53.38988825]])], [array([[ 3.66817167, 47.33760046]]), array([[ 7.66817167, 51.33760046]])], [array([[ 9.00998948, 42.50079916]]), array([[13.00998948, 46.50079916]])], [array([[16.18284419, 44.24539675]]), array([[20.18284419, 48.24539675]])], [array([[ 6.45643052, 40.21782601]]), array([[10.45643052, 44.21782601]])], [array([[ 4.59591923, 47.99168341]]), array([[ 8.59591923, 51.99168341]])], [array([[20.12898437, 42.16388877]]), array([[24.12898437, 46.16388877]])], [array([[11.05961283, 50.33370134]]), array([[15.05961283, 54.33370134]])], [array([[ 5.77631804, 40.03934519]]), array([[ 9.77631804, 44.03934519]])], [array([[13.95985349, 47.54281974]]), array([[17.95985349, 51.54281974]])], [array([[ 5.43942505, 48.38703649]]), array([[ 9.43942505, 52.38703649]])], [array([[21.77358482, 38.44660856]]), array([[25.77358482, 42.44660856]])], [array([[23.49657862, 48.76881185]]), array([[27.49657862, 52.76881185]])], [array([[22.18884259, 38.6914244 ]]), array([[26.18884259, 42.6914244 ]])], [array([[ 6.53125341, 43.14138598]]), array([[10.53125341, 47.14138598]])], [array([[17.33679621, 44.90594923]]), array([[21.33679621, 48.90594923]])], [array([[22.10107166, 46.92292464]]), array([[26.10107166, 50.92292464]])], [array([[ 7.70720185, 40.86011657]]), array([[11.70720185, 44.86011657]])], [array([[25.13794465, 48.83118758]]), array([[29.13794465, 52.83118758]])], [array([[14.26635208, 40.70855806]]), array([[18.26635208, 44.70855806]])], [array([[ 9.31544996, 38.52437135]]), array([[13.31544996, 42.52437135]])], [array([[-0.11840899, 45.33086194]]), array([[ 3.88159101, 49.33086194]])], [array([[24.00804133, 51.85355435]]), array([[28.00804133, 55.85355435]])], [array([[19.03732212, 41.77273602]]), array([[23.03732212, 45.77273602]])], [array([[11.81522414, 49.63154815]]), array([[15.81522414, 53.63154815]])], [array([[27.70279952, 42.0781245 ]]), array([[31.70279952, 46.0781245 ]])], [array([[ 6.18425415, 43.24346168]]), array([[10.18425415, 47.24346168]])], [array([[20.75499999, 47.13950655]]), array([[24.75499999, 51.13950655]])], [array([[ 7.62261006, 38.55212024]]), array([[11.62261006, 42.55212024]])], [array([[13.82310287, 48.8190361 ]]), array([[17.82310287, 52.8190361 ]])]], 'counter_examples': []}\n"
     ]
    }
   ],
   "source": [
    "# 2.0 perturbation\n",
    "# get the 1000 intervals by using l infinity\n",
    "perturbation = 2.0\n",
    "orig_interval_list_600 = get_l_infinity_list(orig_point_list_600, perturbation)\n",
    "orig_interval_list_400 = get_l_infinity_list(orig_points_list_400, perturbation)\n",
    "\n",
    "s_time = time.time()\n",
    "results_600 = certify_model_2_with_1000_intervals_plain_interval_propagation(orig_interval_list_600, 0)\n",
    "results_400 = certify_model_2_with_1000_intervals_plain_interval_propagation(orig_interval_list_400, 1)\n",
    "used_time=time.time() - s_time\n",
    "print(used_time)\n",
    "print(results_600)\n",
    "print(results_400)"
   ]
  },
  {
   "cell_type": "code",
   "execution_count": 64,
   "id": "09f2da66-ef5f-499c-bcd2-6ac9eb0b7609",
   "metadata": {},
   "outputs": [
    {
     "name": "stdout",
     "output_type": "stream",
     "text": [
      "1.2095022201538086\n",
      "{'sat_num': 63, 'counter_interval_list': [[array([[84.77755023, 71.82784358]]), array([[89.77755023, 76.82784358]])], [array([[79.45068154, 70.66118366]]), array([[84.45068154, 75.66118366]])], [array([[77.76896113, 69.13722976]]), array([[82.76896113, 74.13722976]])], [array([[78.72356275, 72.01300108]]), array([[83.72356275, 77.01300108]])], [array([[82.89516096, 73.63482774]]), array([[87.89516096, 78.63482774]])], [array([[84.21288542, 71.70795216]]), array([[89.21288542, 76.70795216]])], [array([[77.86592169, 70.54573605]]), array([[82.86592169, 75.54573605]])], [array([[83.3605231 , 69.94816866]]), array([[88.3605231 , 74.94816866]])], [array([[77.50683442, 72.73369533]]), array([[82.50683442, 77.73369533]])], [array([[83.90186535, 72.50754892]]), array([[88.90186535, 77.50754892]])], [array([[7.50423187, 1.01166286]]), array([[12.50423187,  6.01166286]])], [array([[12.92996796, -0.03830703]]), array([[17.92996796,  4.96169297]])], [array([[14.39162782,  1.22780364]]), array([[19.39162782,  6.22780364]])], [array([[15.06473324,  3.89058718]]), array([[20.06473324,  8.89058718]])], [array([[8.51334095, 2.85233755]]), array([[13.51334095,  7.85233755]])], [array([[12.69431673,  0.49050745]]), array([[17.69431673,  5.49050745]])], [array([[10.64663582, -0.30472608]]), array([[15.64663582,  4.69527392]])], [array([[13.78372552,  3.89071252]]), array([[18.78372552,  8.89071252]])], [array([[11.13883285,  1.60553813]]), array([[16.13883285,  6.60553813]])], [array([[8.17666626, 3.25072157]]), array([[13.17666626,  8.25072157]])], [array([[11.31936224,  1.73946763]]), array([[16.31936224,  6.73946763]])], [array([[8.21657744, 2.89417766]]), array([[13.21657744,  7.89417766]])], [array([[15.33024029,  0.8277333 ]]), array([[20.33024029,  5.8277333 ]])], [array([[11.28637387,  1.57027994]]), array([[16.28637387,  6.57027994]])], [array([[9.34827798, 2.17948203]]), array([[14.34827798,  7.17948203]])], [array([[12.65322485,  3.53695644]]), array([[17.65322485,  8.53695644]])], [array([[11.745601  ,  4.24744629]]), array([[16.745601  ,  9.24744629]])], [array([[7.6062021 , 2.58572457]]), array([[12.6062021 ,  7.58572457]])], [array([[8.08538599, 4.14718617]]), array([[13.08538599,  9.14718617]])], [array([[13.87659881,  0.18567875]]), array([[18.87659881,  5.18567875]])], [array([[9.94200639, 3.27731526]]), array([[14.94200639,  8.27731526]])], [array([[ 8.23556495, -0.36894507]]), array([[13.23556495,  4.63105493]])], [array([[8.54734006, 0.73105534]]), array([[13.54734006,  5.73105534]])], [array([[12.09441266,  0.8959184 ]]), array([[17.09441266,  5.8959184 ]])], [array([[9.71695451, 0.10671728]]), array([[14.71695451,  5.10671728]])], [array([[9.14841951, 0.03747065]]), array([[14.14841951,  5.03747065]])], [array([[15.85124553,  3.0649449 ]]), array([[20.85124553,  8.0649449 ]])], [array([[10.16304835,  4.33638165]]), array([[15.16304835,  9.33638165]])], [array([[14.7308908 ,  2.40679464]]), array([[19.7308908 ,  7.40679464]])], [array([[13.3012816 , -0.40711899]]), array([[18.3012816 ,  4.59288101]])], [array([[10.09081932,  1.93172555]]), array([[15.09081932,  6.93172555]])], [array([[9.95438887, 1.35042099]]), array([[14.95438887,  6.35042099]])], [array([[14.65706846,  2.6973044 ]]), array([[19.65706846,  7.6973044 ]])], [array([[8.0162082 , 0.67181043]]), array([[13.0162082 ,  5.67181043]])], [array([[13.93635967,  0.1316476 ]]), array([[18.93635967,  5.1316476 ]])], [array([[12.49792885,  2.02831083]]), array([[17.49792885,  7.02831083]])], [array([[8.2964178 , 4.23985106]]), array([[13.2964178 ,  9.23985106]])], [array([[14.01926146,  1.16031787]]), array([[19.01926146,  6.16031787]])], [array([[12.34688326,  3.54745346]]), array([[17.34688326,  8.54745346]])], [array([[8.0747312 , 2.46740704]]), array([[13.0747312 ,  7.46740704]])], [array([[9.49464307, 1.6009684 ]]), array([[14.49464307,  6.6009684 ]])], [array([[7.51487492, 4.38379575]]), array([[12.51487492,  9.38379575]])], [array([[14.84708587,  1.63350505]]), array([[19.84708587,  6.63350505]])], [array([[13.45594316,  1.83440011]]), array([[18.45594316,  6.83440011]])], [array([[14.63962108,  1.99792085]]), array([[19.63962108,  6.99792085]])], [array([[13.14885083,  2.60903116]]), array([[18.14885083,  7.60903116]])], [array([[12.84818498,  3.25763909]]), array([[17.84818498,  8.25763909]])], [array([[15.71581817,  2.09675912]]), array([[20.71581817,  7.09675912]])], [array([[11.15350587,  2.75652166]]), array([[16.15350587,  7.75652166]])], [array([[13.43462164,  3.22818596]]), array([[18.43462164,  8.22818596]])], [array([[8.62478853, 1.33271549]]), array([[13.62478853,  6.33271549]])], [array([[9.60638922, 2.0425812 ]]), array([[14.60638922,  7.0425812 ]])], [array([[15.34252609,  3.49302122]]), array([[20.34252609,  8.49302122]])]], 'counter_examples': []}\n",
      "{'sat_num': 226, 'counter_interval_list': [[array([[61.72070899, 78.1633057 ]]), array([[66.72070899, 83.1633057 ]])], [array([[63.76483187, 82.46331309]]), array([[68.76483187, 87.46331309]])], [array([[58.4673032 , 73.37228297]]), array([[63.4673032 , 78.37228297]])], [array([[60.8432539 , 79.23110081]]), array([[65.8432539 , 84.23110081]])], [array([[58.12452641, 70.24949408]]), array([[63.12452641, 75.24949408]])], [array([[59.71556631, 74.45531719]]), array([[64.71556631, 79.45531719]])], [array([[58.12304836, 78.97358973]]), array([[63.12304836, 83.97358973]])], [array([[56.97217855, 74.6453952 ]]), array([[61.97217855, 79.6453952 ]])], [array([[58.46331996, 79.96720232]]), array([[63.46331996, 84.96720232]])], [array([[60.05130056, 81.43636323]]), array([[65.05130056, 86.43636323]])], [array([[51.3417564 , 72.15948548]]), array([[56.3417564 , 77.15948548]])], [array([[62.52131928, 84.43657603]]), array([[67.52131928, 89.43657603]])], [array([[48.18186655, 68.83072963]]), array([[53.18186655, 73.83072963]])], [array([[61.21162387, 78.63306376]]), array([[66.21162387, 83.63306376]])], [array([[58.93001908, 80.33132418]]), array([[63.93001908, 85.33132418]])], [array([[53.0896211 , 67.80037961]]), array([[58.0896211 , 72.80037961]])], [array([[51.20783702, 73.21437703]]), array([[56.20783702, 78.21437703]])], [array([[55.55564238, 73.95361994]]), array([[60.55564238, 78.95361994]])], [array([[62.77093714, 81.05601783]]), array([[67.77093714, 86.05601783]])], [array([[63.36592951, 71.13225703]]), array([[68.36592951, 76.13225703]])], [array([[50.32953786, 67.94660856]]), array([[55.32953786, 72.94660856]])], [array([[51.27460727, 68.1914244 ]]), array([[56.27460727, 73.1914244 ]])], [array([[57.9863568 , 78.33118758]]), array([[62.9863568 , 83.33118758]])], [array([[62.83286448, 80.232088  ]]), array([[67.83286448, 85.232088  ]])], [array([[64.09825962, 78.42141608]]), array([[69.09825962, 83.42141608]])], [array([[63.82361271, 71.5781245 ]]), array([[68.82361271, 76.5781245 ]])], [array([[10.59363814, 51.90648987]]), array([[15.59363814, 56.90648987]])], [array([[-1.49668313, 43.54665145]]), array([[ 3.50331687, 48.54665145]])], [array([[ 2.75592083, 39.3467719 ]]), array([[ 7.75592083, 44.3467719 ]])], [array([[ 3.90154613, 44.41121454]]), array([[ 8.90154613, 49.41121454]])], [array([[10.00625675, 48.27633468]]), array([[15.00625675, 53.27633468]])], [array([[10.65664092, 51.20439001]]), array([[15.65664092, 56.20439001]])], [array([[ 4.42911524, 55.06234873]]), array([[ 9.42911524, 60.06234873]])], [array([[-0.7057598, 50.9093502]]), array([[ 4.2942402, 55.9093502]])], [array([[10.60183927, 48.67379657]]), array([[15.60183927, 53.67379657]])], [array([[ 2.57122122, 41.46202978]]), array([[ 7.57122122, 46.46202978]])], [array([[21.72159249, 56.86523151]]), array([[26.72159249, 61.86523151]])], [array([[ 7.58930117, 51.34645231]]), array([[12.58930117, 56.34645231]])], [array([[23.91528542, 55.39213327]]), array([[28.91528542, 60.39213327]])], [array([[ 0.96628213, 38.28109566]]), array([[ 5.96628213, 43.28109566]])], [array([[ 3.42508217, 55.06285007]]), array([[ 8.42508217, 60.06285007]])], [array([[ 1.35205818, 45.9221525 ]]), array([[ 6.35205818, 50.9221525 ]])], [array([[26.27879637, 48.1633057 ]]), array([[31.27879637, 53.1633057 ]])], [array([[18.5644363 , 43.81031262]]), array([[23.5644363 , 48.81031262]])], [array([[18.4085269 , 54.19251344]]), array([[23.4085269 , 59.19251344]])], [array([[-0.96963996, 52.5028863 ]]), array([[ 4.03036004, 57.5028863 ]])], [array([[27.17697158, 52.46331309]]), array([[32.17697158, 57.46331309]])], [array([[ 6.63287577, 53.28558657]]), array([[11.63287577, 58.28558657]])], [array([[ 1.49355419, 46.45787052]]), array([[ 6.49355419, 51.45787052]])], [array([[24.84926959, 43.37228297]]), array([[29.84926959, 48.37228297]])], [array([[ 6.84548482, 40.10057144]]), array([[11.84548482, 45.10057144]])], [array([[-0.93835822, 51.07671066]]), array([[ 4.06164178, 56.07671066]])], [array([[ 4.63721536, 42.81093319]]), array([[ 9.63721536, 47.81093319]])], [array([[12.75562162, 38.5672509 ]]), array([[17.75562162, 43.5672509 ]])], [array([[15.14941056, 40.4345715 ]]), array([[20.14941056, 45.4345715 ]])], [array([[15.58986057, 51.4951672 ]]), array([[20.58986057, 56.4951672 ]])], [array([[ 1.46769844, 45.78111976]]), array([[ 6.46769844, 50.78111976]])], [array([[18.63760457, 45.78358539]]), array([[23.63760457, 50.78358539]])], [array([[-0.05134969, 48.21792812]]), array([[ 4.94865031, 53.21792812]])], [array([[17.75004471, 47.79778224]]), array([[22.75004471, 52.79778224]])], [array([[25.89324792, 49.23110081]]), array([[30.89324792, 54.23110081]])], [array([[24.69865554, 40.24949408]]), array([[29.69865554, 45.24949408]])], [array([[ 2.53901407, 53.64782577]]), array([[ 7.53901407, 58.64782577]])], [array([[10.03262827, 40.80708394]]), array([[15.03262827, 45.80708394]])], [array([[25.39774883, 44.45531719]]), array([[30.39774883, 49.45531719]])], [array([[20.27355099, 52.01995971]]), array([[25.27355099, 57.01995971]])], [array([[24.11587664, 49.97344414]]), array([[29.11587664, 54.97344414]])], [array([[20.27733059, 44.47796684]]), array([[25.27733059, 49.47796684]])], [array([[ 6.32790886, 55.41772436]]), array([[11.32790886, 60.41772436]])], [array([[10.91464451, 56.79680094]]), array([[15.91464451, 61.79680094]])], [array([[17.73980344, 49.9339144 ]]), array([[22.73980344, 54.9339144 ]])], [array([[ 1.82763322, 56.48978517]]), array([[ 6.82763322, 61.48978517]])], [array([[11.54745187, 49.06779229]]), array([[16.54745187, 54.06779229]])], [array([[10.33596728, 42.2405396 ]]), array([[15.33596728, 47.2405396 ]])], [array([[24.6980061 , 48.97358973]]), array([[29.6980061 , 53.97358973]])], [array([[-1.41676052, 49.84289827]]), array([[ 3.58323948, 54.84289827]])], [array([[ 7.97270215, 48.04116205]]), array([[12.97270215, 53.04116205]])], [array([[24.19232088, 44.6453952 ]]), array([[29.19232088, 49.6453952 ]])], [array([[24.84751938, 49.96720232]]), array([[29.84751938, 54.96720232]])], [array([[-1.04118396, 56.08874467]]), array([[ 3.95881604, 61.08874467]])], [array([[18.53601061, 57.44645701]]), array([[23.53601061, 62.44645701]])], [array([[ 3.49787474, 40.24271499]]), array([[ 8.49787474, 45.24271499]])], [array([[25.54526843, 51.43636323]]), array([[30.54526843, 56.43636323]])], [array([[ 0.41400501, 52.60926105]]), array([[ 5.41400501, 57.60926105]])], [array([[20.36240947, 55.96049071]]), array([[25.36240947, 60.96049071]])], [array([[19.134218  , 39.98541924]]), array([[24.134218  , 44.98541924]])], [array([[-0.92347612, 38.02421974]]), array([[ 4.07652388, 43.02421974]])], [array([[-0.67911185, 42.42422135]]), array([[ 4.32088815, 47.42422135]])], [array([[23.44081051, 48.27662129]]), array([[28.44081051, 53.27662129]])], [array([[14.53183738, 54.34061785]]), array([[19.53183738, 59.34061785]])], [array([[ 2.10102614, 43.08367358]]), array([[ 7.10102614, 48.08367358]])], [array([[15.48701887, 56.89191497]]), array([[20.48701887, 61.89191497]])], [array([[14.76987636, 37.87294579]]), array([[19.76987636, 42.87294579]])], [array([[21.71834751, 42.15948548]]), array([[26.71834751, 47.15948548]])], [array([[21.90605067, 45.25721288]]), array([[26.90605067, 50.25721288]])], [array([[23.54271378, 52.44243285]]), array([[28.54271378, 57.44243285]])], [array([[14.63096679, 40.22910451]]), array([[19.63096679, 45.22910451]])], [array([[ 0.237613  , 39.92686911]]), array([[ 5.237613  , 44.92686911]])], [array([[-0.20799552, 39.64988258]]), array([[ 4.79200448, 44.64988258]])], [array([[ 5.04557082, 51.75977961]]), array([[10.04557082, 56.75977961]])], [array([[14.73179248, 37.7511196 ]]), array([[19.73179248, 42.7511196 ]])], [array([[ 0.58725411, 56.8455266 ]]), array([[ 5.58725411, 61.8455266 ]])], [array([[14.9749134 , 41.56586469]]), array([[19.9749134 , 46.56586469]])], [array([[ 5.81744659, 52.37651708]]), array([[10.81744659, 57.37651708]])], [array([[ 4.16745495, 49.12717855]]), array([[ 9.16745495, 54.12717855]])], [array([[26.63057968, 54.43657603]]), array([[31.63057968, 59.43657603]])], [array([[ 5.45558502, 47.37539429]]), array([[10.45558502, 52.37539429]])], [array([[16.47871583, 54.07961799]]), array([[21.47871583, 59.07961799]])], [array([[ 3.04695044, 37.87152404]]), array([[ 8.04695044, 42.87152404]])], [array([[ 0.53064217, 47.22690222]]), array([[ 5.53064217, 52.22690222]])], [array([[16.08355439, 48.87702874]]), array([[21.08355439, 53.87702874]])], [array([[ 7.70350987, 57.27232309]]), array([[12.70350987, 62.27232309]])], [array([[15.31261136, 45.10282345]]), array([[20.31261136, 50.10282345]])], [array([[14.47749835, 52.40668862]]), array([[19.47749835, 57.40668862]])], [array([[17.90775391, 42.79839115]]), array([[22.90775391, 47.79839115]])], [array([[ 0.4237102 , 44.90168396]]), array([[ 5.4237102 , 49.90168396]])], [array([[16.7618077, 41.7034802]]), array([[21.7618077, 46.7034802]])], [array([[20.32991106, 38.83072963]]), array([[25.32991106, 43.83072963]])], [array([[ 6.04913786, 53.59509127]]), array([[11.04913786, 58.59509127]])], [array([[ 4.1095942 , 50.28921762]]), array([[ 9.1095942 , 55.28921762]])], [array([[13.71543896, 55.99615941]]), array([[18.71543896, 60.99615941]])], [array([[ 6.13560634, 38.81922181]]), array([[11.13560634, 43.81922181]])], [array([[19.81691294, 52.94356059]]), array([[24.81691294, 57.94356059]])], [array([[24.82665972, 56.13944138]]), array([[29.82665972, 61.13944138]])], [array([[-1.09540438, 42.18724172]]), array([[ 3.90459562, 47.18724172]])], [array([[16.38657235, 56.48032641]]), array([[21.38657235, 61.48032641]])], [array([[26.05510746, 48.63306376]]), array([[31.05510746, 53.63306376]])], [array([[25.05258414, 50.33132418]]), array([[30.05258414, 55.33132418]])], [array([[ 9.81022371, 47.21981334]]), array([[14.81022371, 52.21981334]])], [array([[16.025004  , 48.49095843]]), array([[21.025004  , 53.49095843]])], [array([[25.35926137, 55.87466871]]), array([[30.35926137, 60.87466871]])], [array([[ 9.95139277, 56.76525057]]), array([[14.95139277, 61.76525057]])], [array([[ 3.54471433, 40.02659039]]), array([[ 8.54471433, 45.02659039]])], [array([[ 2.41729558, 47.61324331]]), array([[ 7.41729558, 52.61324331]])], [array([[-0.87578065, 56.45940422]]), array([[ 4.12421935, 61.45940422]])], [array([[22.48634866, 37.80037961]]), array([[27.48634866, 42.80037961]])], [array([[ 3.60969141, 44.14127149]]), array([[ 8.60969141, 49.14127149]])], [array([[ 2.2989085 , 53.68981384]]), array([[ 7.2989085 , 58.68981384]])], [array([[ 8.49736293, 56.30214965]]), array([[13.49736293, 61.30214965]])], [array([[15.37841122, 55.07663969]]), array([[20.37841122, 60.07663969]])], [array([[22.99729892, 55.60784637]]), array([[27.99729892, 60.60784637]])], [array([[11.83652771, 48.42693632]]), array([[16.83652771, 53.42693632]])], [array([[21.65950414, 43.21437703]]), array([[26.65950414, 48.21437703]])], [array([[12.71735216, 49.48220615]]), array([[17.71735216, 54.48220615]])], [array([[-1.04953501, 49.36962816]]), array([[ 3.95046499, 54.36962816]])], [array([[11.07661412, 53.64721058]]), array([[16.07661412, 58.64721058]])], [array([[ 7.64209929, 55.35777417]]), array([[12.64209929, 60.35777417]])], [array([[15.25785924, 41.18020403]]), array([[20.25785924, 46.18020403]])], [array([[21.34994778, 49.74062354]]), array([[26.34994778, 54.74062354]])], [array([[ 0.06336889, 45.9038736 ]]), array([[ 5.06336889, 50.9038736 ]])], [array([[18.19299626, 55.87203556]]), array([[23.19299626, 60.87203556]])], [array([[-1.48834128, 57.03518298]]), array([[ 3.51165872, 62.03518298]])], [array([[ 9.42082913, 56.97567077]]), array([[14.42082913, 61.97567077]])], [array([[16.03676693, 54.07691616]]), array([[21.03676693, 59.07691616]])], [array([[15.16663364, 50.06152397]]), array([[20.16663364, 55.06152397]])], [array([[ 6.78171217, 49.23666681]]), array([[11.78171217, 54.23666681]])], [array([[20.25063115, 54.66627673]]), array([[25.25063115, 59.66627673]])], [array([[20.39738347, 51.46114497]]), array([[25.39738347, 56.46114497]])], [array([[23.56990347, 43.95361994]]), array([[28.56990347, 48.95361994]])], [array([[17.95287493, 46.51747873]]), array([[22.95287493, 51.51747873]])], [array([[ 9.58097981, 45.716227  ]]), array([[14.58097981, 50.716227  ]])], [array([[10.14290792, 43.84767892]]), array([[15.14290792, 48.84767892]])], [array([[16.53566167, 46.10494542]]), array([[21.53566167, 51.10494542]])], [array([[26.74026026, 51.05601783]]), array([[31.74026026, 56.05601783]])], [array([[ 4.25852676, 46.03402019]]), array([[ 9.25852676, 51.03402019]])], [array([[ 8.45704095, 53.45277608]]), array([[13.45704095, 58.45277608]])], [array([[24.01995037, 55.57683912]]), array([[29.01995037, 60.57683912]])], [array([[17.71887456, 42.90416524]]), array([[22.71887456, 47.90416524]])], [array([[ 5.81863434, 54.59795885]]), array([[10.81863434, 59.59795885]])], [array([[13.80372474, 53.54322168]]), array([[18.80372474, 58.54322168]])], [array([[15.102167  , 52.16285051]]), array([[20.102167  , 57.16285051]])], [array([[13.5513372 , 52.91767821]]), array([[18.5513372 , 57.91767821]])], [array([[14.99688173, 46.81419757]]), array([[19.99688173, 51.81419757]])], [array([[ 8.43797833, 38.86418697]]), array([[13.43797833, 43.86418697]])], [array([[ 9.4598012 , 39.09252155]]), array([[14.4598012 , 44.09252155]])], [array([[27.0016963 , 41.13225703]]), array([[32.0016963 , 46.13225703]])], [array([[22.04390223, 54.9992329 ]]), array([[27.04390223, 59.9992329 ]])], [array([[18.46398432, 48.88988825]]), array([[23.46398432, 53.88988825]])], [array([[ 3.16817167, 46.83760046]]), array([[ 8.16817167, 51.83760046]])], [array([[ 8.50998948, 42.00079916]]), array([[13.50998948, 47.00079916]])], [array([[15.68284419, 43.74539675]]), array([[20.68284419, 48.74539675]])], [array([[25.07286105, 55.6927105 ]]), array([[30.07286105, 60.6927105 ]])], [array([[ 5.95643052, 39.71782601]]), array([[10.95643052, 44.71782601]])], [array([[ 4.09591923, 47.49168341]]), array([[ 9.09591923, 52.49168341]])], [array([[19.62898437, 41.66388877]]), array([[24.62898437, 46.66388877]])], [array([[ 5.69297319, 54.5334375 ]]), array([[10.69297319, 59.5334375 ]])], [array([[10.55961283, 49.83370134]]), array([[15.55961283, 54.83370134]])], [array([[ 5.27631804, 39.53934519]]), array([[10.27631804, 44.53934519]])], [array([[13.45985349, 47.04281974]]), array([[18.45985349, 52.04281974]])], [array([[ 2.92747768, 49.93612463]]), array([[ 7.92747768, 54.93612463]])], [array([[14.27629345, 50.58274694]]), array([[19.27629345, 55.58274694]])], [array([[ 2.69182066, 52.53055634]]), array([[ 7.69182066, 57.53055634]])], [array([[ 4.93942505, 47.88703649]]), array([[ 9.93942505, 52.88703649]])], [array([[21.27358482, 37.94660856]]), array([[26.27358482, 42.94660856]])], [array([[ 7.90651133, 54.95844753]]), array([[12.90651133, 59.95844753]])], [array([[22.99657862, 48.26881185]]), array([[27.99657862, 53.26881185]])], [array([[23.63163995, 56.49611983]]), array([[28.63163995, 61.49611983]])], [array([[22.46580293, 54.58230888]]), array([[27.46580293, 59.58230888]])], [array([[ 1.36355865, 50.52608665]]), array([[ 6.36355865, 55.52608665]])], [array([[18.90199266, 49.70481625]]), array([[23.90199266, 54.70481625]])], [array([[21.68884259, 38.1914244 ]]), array([[26.68884259, 43.1914244 ]])], [array([[20.8369233 , 52.13457201]]), array([[25.8369233 , 57.13457201]])], [array([[ 6.03125341, 42.64138598]]), array([[11.03125341, 47.64138598]])], [array([[16.83679621, 44.40594923]]), array([[21.83679621, 49.40594923]])], [array([[21.60107166, 46.42292464]]), array([[26.60107166, 51.42292464]])], [array([[21.19973303, 57.30943567]]), array([[26.19973303, 62.30943567]])], [array([[ 7.20720185, 40.36011657]]), array([[12.20720185, 45.36011657]])], [array([[24.63794465, 48.33118758]]), array([[29.63794465, 53.33118758]])], [array([[26.76747075, 50.232088  ]]), array([[31.76747075, 55.232088  ]])], [array([[27.32347771, 48.42141608]]), array([[32.32347771, 53.42141608]])], [array([[13.76635208, 40.20855806]]), array([[18.76635208, 45.20855806]])], [array([[ 8.81544996, 38.02437135]]), array([[13.81544996, 43.02437135]])], [array([[ 3.15146021, 52.41274385]]), array([[ 8.15146021, 57.41274385]])], [array([[-0.61840899, 44.83086194]]), array([[ 4.38159101, 49.83086194]])], [array([[23.50804133, 51.35355435]]), array([[28.50804133, 56.35355435]])], [array([[18.53732212, 41.27273602]]), array([[23.53732212, 46.27273602]])], [array([[11.31522414, 49.13154815]]), array([[16.31522414, 54.13154815]])], [array([[27.20279952, 41.5781245 ]]), array([[32.20279952, 46.5781245 ]])], [array([[ 5.68425415, 42.74346168]]), array([[10.68425415, 47.74346168]])], [array([[20.25499999, 46.63950655]]), array([[25.25499999, 51.63950655]])], [array([[ 0.15095371, 47.67032481]]), array([[ 5.15095371, 52.67032481]])], [array([[ 4.64684477, 53.4720849 ]]), array([[ 9.64684477, 58.4720849 ]])], [array([[ 7.12261006, 38.05212024]]), array([[12.12261006, 43.05212024]])], [array([[15.70954103, 54.37680858]]), array([[20.70954103, 59.37680858]])], [array([[ 9.5494676 , 52.49716621]]), array([[14.5494676 , 57.49716621]])], [array([[13.32310287, 48.3190361 ]]), array([[18.32310287, 53.3190361 ]])]], 'counter_examples': []}\n"
     ]
    }
   ],
   "source": [
    "# 2.5 perturbation\n",
    "# get the 1000 intervals by using l infinity\n",
    "perturbation = 2.5\n",
    "orig_interval_list_600 = get_l_infinity_list(orig_point_list_600, perturbation)\n",
    "orig_interval_list_400 = get_l_infinity_list(orig_points_list_400, perturbation)\n",
    "\n",
    "s_time = time.time()\n",
    "results_600 = certify_model_2_with_1000_intervals_plain_interval_propagation(orig_interval_list_600, 0)\n",
    "results_400 = certify_model_2_with_1000_intervals_plain_interval_propagation(orig_interval_list_400, 1)\n",
    "used_time=time.time() - s_time\n",
    "print(used_time)\n",
    "print(results_600)\n",
    "print(results_400)"
   ]
  },
  {
   "cell_type": "code",
   "execution_count": 65,
   "id": "8a54c773-cd65-461a-806c-8d8046d88fd6",
   "metadata": {},
   "outputs": [
    {
     "name": "stdout",
     "output_type": "stream",
     "text": [
      "1.2787723541259766\n",
      "{'sat_num': 87, 'counter_interval_list': [[array([[79.88711713, 64.73883026]]), array([[85.88711713, 70.73883026]])], [array([[81.58877416, 66.08735258]]), array([[87.58877416, 72.08735258]])], [array([[84.27755023, 71.32784358]]), array([[90.27755023, 77.32784358]])], [array([[78.95068154, 70.16118366]]), array([[84.95068154, 76.16118366]])], [array([[77.26896113, 68.63722976]]), array([[83.26896113, 74.63722976]])], [array([[88.7452476 , 73.79653663]]), array([[94.7452476 , 79.79653663]])], [array([[86.95790761, 71.68927687]]), array([[92.95790761, 77.68927687]])], [array([[78.22356275, 71.51300108]]), array([[84.22356275, 77.51300108]])], [array([[82.39516096, 73.13482774]]), array([[88.39516096, 79.13482774]])], [array([[83.71288542, 71.20795216]]), array([[89.71288542, 77.20795216]])], [array([[77.36592169, 70.04573605]]), array([[83.36592169, 76.04573605]])], [array([[82.8605231 , 69.44816866]]), array([[88.8605231 , 75.44816866]])], [array([[77.00683442, 72.23369533]]), array([[83.00683442, 78.23369533]])], [array([[83.40186535, 72.00754892]]), array([[89.40186535, 78.00754892]])], [array([[7.00423187, 0.51166286]]), array([[13.00423187,  6.51166286]])], [array([[12.42996796, -0.53830703]]), array([[18.42996796,  5.46169297]])], [array([[13.89162782,  0.72780364]]), array([[19.89162782,  6.72780364]])], [array([[14.56473324,  3.39058718]]), array([[20.56473324,  9.39058718]])], [array([[8.01334095, 2.35233755]]), array([[14.01334095,  8.35233755]])], [array([[ 1.21943167e+01, -9.49255458e-03]]), array([[18.19431673,  5.99050745]])], [array([[18.59669459,  2.46161308]]), array([[24.59669459,  8.46161308]])], [array([[10.14663582, -0.80472608]]), array([[16.14663582,  5.19527392]])], [array([[13.28372552,  3.39071252]]), array([[19.28372552,  9.39071252]])], [array([[10.63883285,  1.10553813]]), array([[16.63883285,  7.10553813]])], [array([[7.67666626, 2.75072157]]), array([[13.67666626,  8.75072157]])], [array([[17.37642771,  2.94639664]]), array([[23.37642771,  8.94639664]])], [array([[10.81936224,  1.23946763]]), array([[16.81936224,  7.23946763]])], [array([[17.64768753, -0.34985714]]), array([[23.64768753,  5.65014286]])], [array([[7.71657744, 2.39417766]]), array([[13.71657744,  8.39417766]])], [array([[14.83024029,  0.3277333 ]]), array([[20.83024029,  6.3277333 ]])], [array([[10.78637387,  1.07027994]]), array([[16.78637387,  7.07027994]])], [array([[8.84827798, 1.67948203]]), array([[14.84827798,  7.67948203]])], [array([[12.15322485,  3.03695644]]), array([[18.15322485,  9.03695644]])], [array([[16.987332  ,  3.47943109]]), array([[22.987332  ,  9.47943109]])], [array([[11.245601  ,  3.74744629]]), array([[17.245601  ,  9.74744629]])], [array([[7.1062021 , 2.08572457]]), array([[13.1062021 ,  8.08572457]])], [array([[7.58538599, 3.64718617]]), array([[13.58538599,  9.64718617]])], [array([[13.37659881, -0.31432125]]), array([[19.37659881,  5.68567875]])], [array([[9.44200639, 2.77731526]]), array([[15.44200639,  8.77731526]])], [array([[ 7.73556495, -0.86894507]]), array([[13.73556495,  5.13105493]])], [array([[8.04734006, 0.23105534]]), array([[14.04734006,  6.23105534]])], [array([[11.59441266,  0.3959184 ]]), array([[17.59441266,  6.3959184 ]])], [array([[ 9.21695451, -0.39328272]]), array([[15.21695451,  5.60671728]])], [array([[ 8.64841951, -0.46252935]]), array([[14.64841951,  5.53747065]])], [array([[15.35124553,  2.5649449 ]]), array([[21.35124553,  8.5649449 ]])], [array([[9.66304835, 3.83638165]]), array([[15.66304835,  9.83638165]])], [array([[16.33605255,  2.71912927]]), array([[22.33605255,  8.71912927]])], [array([[14.2308908 ,  1.90679464]]), array([[20.2308908 ,  7.90679464]])], [array([[15.87436709,  1.46884857]]), array([[21.87436709,  7.46884857]])], [array([[12.8012816 , -0.90711899]]), array([[18.8012816 ,  5.09288101]])], [array([[9.59081932, 1.43172555]]), array([[15.59081932,  7.43172555]])], [array([[18.74240914,  3.94308077]]), array([[24.74240914,  9.94308077]])], [array([[9.45438887, 0.85042099]]), array([[15.45438887,  6.85042099]])], [array([[16.63165865,  3.02377282]]), array([[22.63165865,  9.02377282]])], [array([[14.15706846,  2.1973044 ]]), array([[20.15706846,  8.1973044 ]])], [array([[16.74198051, -0.67019455]]), array([[22.74198051,  5.32980545]])], [array([[7.5162082 , 0.17181043]]), array([[13.5162082 ,  6.17181043]])], [array([[13.43635967, -0.3683524 ]]), array([[19.43635967,  5.6316476 ]])], [array([[11.99792885,  1.52831083]]), array([[17.99792885,  7.52831083]])], [array([[7.7964178 , 3.73985106]]), array([[13.7964178 ,  9.73985106]])], [array([[13.51926146,  0.66031787]]), array([[19.51926146,  6.66031787]])], [array([[11.84688326,  3.04745346]]), array([[17.84688326,  9.04745346]])], [array([[7.5747312 , 1.96740704]]), array([[13.5747312 ,  7.96740704]])], [array([[18.66405771,  3.46444354]]), array([[24.66405771,  9.46444354]])], [array([[8.99464307, 1.1009684 ]]), array([[14.99464307,  7.1009684 ]])], [array([[7.01487492, 3.88379575]]), array([[13.01487492,  9.88379575]])], [array([[17.56632242,  1.9341667 ]]), array([[23.56632242,  7.9341667 ]])], [array([[14.34708587,  1.13350505]]), array([[20.34708587,  7.13350505]])], [array([[16.33756796,  3.27448971]]), array([[22.33756796,  9.27448971]])], [array([[12.95594316,  1.33440011]]), array([[18.95594316,  7.33440011]])], [array([[16.51337687, -0.4455435 ]]), array([[22.51337687,  5.5544565 ]])], [array([[14.13962108,  1.49792085]]), array([[20.13962108,  7.49792085]])], [array([[16.17724166,  3.25835937]]), array([[22.17724166,  9.25835937]])], [array([[15.64564715, -0.4901637 ]]), array([[21.64564715,  5.5098363 ]])], [array([[12.64885083,  2.10903116]]), array([[18.64885083,  8.10903116]])], [array([[12.34818498,  2.75763909]]), array([[18.34818498,  8.75763909]])], [array([[15.21581817,  1.59675912]]), array([[21.21581817,  7.59675912]])], [array([[19.00141101,  3.36461188]]), array([[25.00141101,  9.36461188]])], [array([[10.65350587,  2.25652166]]), array([[16.65350587,  8.25652166]])], [array([[16.60884055,  0.28534649]]), array([[22.60884055,  6.28534649]])], [array([[18.10918856, -0.28497086]]), array([[24.10918856,  5.71502914]])], [array([[12.93462164,  2.72818596]]), array([[18.93462164,  8.72818596]])], [array([[8.12478853, 0.83271549]]), array([[14.12478853,  6.83271549]])], [array([[16.16611737,  0.31086542]]), array([[22.16611737,  6.31086542]])], [array([[9.10638922, 1.5425812 ]]), array([[15.10638922,  7.5425812 ]])], [array([[14.84252609,  2.99302122]]), array([[20.84252609,  8.99302122]])], [array([[18.00126112, -0.86196994]]), array([[24.00126112,  5.13803006]])]], 'counter_examples': []}\n",
      "{'sat_num': 291, 'counter_interval_list': [[array([[ 7.68588879, 68.8467719 ]]), array([[13.68588879, 74.8467719 ]])], [array([[10.29317395, 73.91121454]]), array([[16.29317395, 79.91121454]])], [array([[ 7.26553795, 70.96202978]]), array([[13.26553795, 76.96202978]])], [array([[ 3.61291795, 67.78109566]]), array([[ 9.61291795, 73.78109566]])], [array([[61.22070899, 77.6633057 ]]), array([[67.22070899, 83.6633057 ]])], [array([[63.26483187, 81.96331309]]), array([[69.26483187, 87.96331309]])], [array([[57.9673032 , 72.87228297]]), array([[63.9673032 , 78.87228297]])], [array([[16.99317235, 69.60057144]]), array([[22.99317235, 75.60057144]])], [array([[11.96745566, 72.31093319]]), array([[17.96745566, 78.31093319]])], [array([[30.44382851, 68.0672509 ]]), array([[36.44382851, 74.0672509 ]])], [array([[35.89176196, 69.9345715 ]]), array([[41.89176196, 75.9345715 ]])], [array([[60.3432539 , 78.73110081]]), array([[66.3432539 , 84.73110081]])], [array([[57.62452641, 69.74949408]]), array([[63.62452641, 75.74949408]])], [array([[24.24667124, 70.30708394]]), array([[30.24667124, 76.30708394]])], [array([[59.21556631, 73.95531719]]), array([[65.21556631, 79.95531719]])], [array([[56.29820202, 79.47344414]]), array([[62.29820202, 85.47344414]])], [array([[47.56220065, 73.97796684]]), array([[53.56220065, 79.97796684]])], [array([[24.93702898, 71.7405396 ]]), array([[30.93702898, 77.7405396 ]])], [array([[57.62304836, 78.47358973]]), array([[63.62304836, 84.47358973]])], [array([[56.47217855, 74.1453952 ]]), array([[62.47217855, 80.1453952 ]])], [array([[57.96331996, 79.46720232]]), array([[63.96331996, 85.46720232]])], [array([[ 9.37447355, 69.74271499]]), array([[15.37447355, 75.74271499]])], [array([[59.55130056, 80.93636323]]), array([[65.55130056, 86.93636323]])], [array([[44.96063407, 69.48541924]]), array([[50.96063407, 75.48541924]])], [array([[-0.68791117, 67.52421974]]), array([[ 5.31208883, 73.52421974]])], [array([[54.76184461, 77.77662129]]), array([[60.76184461, 83.77662129]])], [array([[ 6.1954388 , 72.58367358]]), array([[12.1954388 , 78.58367358]])], [array([[35.02799447, 67.37294579]]), array([[41.02799447, 73.37294579]])], [array([[50.8417564 , 71.65948548]]), array([[56.8417564 , 77.65948548]])], [array([[51.26894291, 74.75721288]]), array([[57.26894291, 80.75721288]])], [array([[54.9937624 , 81.94243285]]), array([[60.9937624 , 87.94243285]])], [array([[34.71185544, 69.72910451]]), array([[40.71185544, 75.72910451]])], [array([[ 1.95456751, 69.42686911]]), array([[ 7.95456751, 75.42686911]])], [array([[ 0.94042398, 69.14988258]]), array([[ 6.94042398, 75.14988258]])], [array([[34.94132082, 67.2511196 ]]), array([[40.94132082, 73.2511196 ]])], [array([[35.49463049, 71.06586469]]), array([[41.49463049, 77.06586469]])], [array([[10.89834575, 78.62717855]]), array([[16.89834575, 84.62717855]])], [array([[62.02131928, 83.93657603]]), array([[68.02131928, 89.93657603]])], [array([[13.8299521 , 76.87539429]]), array([[19.8299521 , 82.87539429]])], [array([[ 8.34823205, 67.37152404]]), array([[14.34823205, 73.37152404]])], [array([[38.01774447, 78.37702874]]), array([[44.01774447, 84.37702874]])], [array([[36.26318447, 74.60282345]]), array([[42.26318447, 80.60282345]])], [array([[39.56135546, 71.2034802 ]]), array([[45.56135546, 77.2034802 ]])], [array([[47.68186655, 68.33072963]]), array([[53.68186655, 74.33072963]])], [array([[15.37758685, 68.31922181]]), array([[21.37758685, 74.31922181]])], [array([[60.71162387, 78.13306376]]), array([[66.71162387, 84.13306376]])], [array([[58.43001908, 79.83132418]]), array([[64.43001908, 85.83132418]])], [array([[37.88449187, 77.99095843]]), array([[43.88449187, 83.99095843]])], [array([[59.12797416, 85.37466871]]), array([[65.12797416, 91.37466871]])], [array([[ 9.481074  , 69.52659039]]), array([[15.481074  , 75.52659039]])], [array([[52.5896211 , 67.30037961]]), array([[58.5896211 , 73.30037961]])], [array([[ 9.62895287, 73.64127149]]), array([[15.62895287, 79.64127149]])], [array([[50.70783702, 72.71437703]]), array([[56.70783702, 78.71437703]])], [array([[36.13857621, 70.68020403]]), array([[42.13857621, 76.68020403]])], [array([[55.05564238, 73.45361994]]), array([[61.05564238, 79.45361994]])], [array([[23.21878163, 75.216227  ]]), array([[29.21878163, 81.216227  ]])], [array([[24.49765251, 73.34767892]]), array([[30.49765251, 79.34767892]])], [array([[39.04667828, 75.60494542]]), array([[45.04667828, 81.60494542]])], [array([[62.27093714, 80.55601783]]), array([[68.27093714, 86.55601783]])], [array([[11.10561264, 75.53402019]]), array([[17.10561264, 81.53402019]])], [array([[35.54462739, 76.31419757]]), array([[41.54462739, 82.31419757]])], [array([[20.61746792, 68.36418697]]), array([[26.61746792, 74.36418697]])], [array([[22.94299584, 68.59252155]]), array([[28.94299584, 74.59252155]])], [array([[62.86592951, 70.63225703]]), array([[68.86592951, 76.63225703]])], [array([[ 8.62411483, 76.33760046]]), array([[14.62411483, 82.33760046]])], [array([[20.78135538, 71.50079916]]), array([[26.78135538, 77.50079916]])], [array([[37.10578334, 73.24539675]]), array([[43.10578334, 79.24539675]])], [array([[58.47616653, 85.1927105 ]]), array([[64.47616653, 91.1927105 ]])], [array([[14.96980739, 69.21782601]]), array([[20.96980739, 75.21782601]])], [array([[10.73554031, 76.99168341]]), array([[16.73554031, 82.99168341]])], [array([[46.08665409, 71.16388877]]), array([[52.08665409, 77.16388877]])], [array([[13.42196519, 69.03934519]]), array([[19.42196519, 75.03934519]])], [array([[32.04656312, 76.54281974]]), array([[38.04656312, 82.54281974]])], [array([[12.65524323, 77.38703649]]), array([[18.65524323, 83.38703649]])], [array([[49.82953786, 67.44660856]]), array([[55.82953786, 73.44660856]])], [array([[53.7508341 , 77.76881185]]), array([[59.7508341 , 83.76881185]])], [array([[50.77460727, 67.6914244 ]]), array([[56.77460727, 73.6914244 ]])], [array([[15.14009396, 72.14138598]]), array([[21.14009396, 78.14138598]])], [array([[39.73201895, 73.90594923]]), array([[45.73201895, 79.90594923]])], [array([[50.57485275, 75.92292464]]), array([[56.57485275, 81.92292464]])], [array([[17.81639041, 69.86011657]]), array([[23.81639041, 75.86011657]])], [array([[57.4863568 , 77.83118758]]), array([[63.4863568 , 83.83118758]])], [array([[62.33286448, 79.732088  ]]), array([[68.33286448, 85.732088  ]])], [array([[63.59825962, 77.92141608]]), array([[69.59825962, 83.92141608]])], [array([[32.74411164, 69.70855806]]), array([[38.74411164, 75.70855806]])], [array([[21.47654128, 67.52437135]]), array([[27.47654128, 73.52437135]])], [array([[54.91485269, 80.85355435]]), array([[60.91485269, 86.85355435]])], [array([[43.60218138, 70.77273602]]), array([[49.60218138, 76.77273602]])], [array([[63.32361271, 71.0781245 ]]), array([[69.32361271, 77.0781245 ]])], [array([[14.35037152, 72.24346168]]), array([[20.35037152, 78.24346168]])], [array([[17.62387118, 67.55212024]]), array([[23.62387118, 73.55212024]])], [array([[10.09363814, 51.40648987]]), array([[16.09363814, 57.40648987]])], [array([[-1.99668313, 43.04665145]]), array([[ 4.00331687, 49.04665145]])], [array([[ 2.25592083, 38.8467719 ]]), array([[ 8.25592083, 44.8467719 ]])], [array([[ 3.40154613, 43.91121454]]), array([[ 9.40154613, 49.91121454]])], [array([[ 9.50625675, 47.77633468]]), array([[15.50625675, 53.77633468]])], [array([[10.15664092, 50.70439001]]), array([[16.15664092, 56.70439001]])], [array([[ 3.92911524, 54.56234873]]), array([[ 9.92911524, 60.56234873]])], [array([[-1.2057598, 50.4093502]]), array([[ 4.7942402, 56.4093502]])], [array([[10.10183927, 48.17379657]]), array([[16.10183927, 54.17379657]])], [array([[ 2.07122122, 40.96202978]]), array([[ 8.07122122, 46.96202978]])], [array([[21.22159249, 56.36523151]]), array([[27.22159249, 62.36523151]])], [array([[ 7.08930117, 50.84645231]]), array([[13.08930117, 56.84645231]])], [array([[23.41528542, 54.89213327]]), array([[29.41528542, 60.89213327]])], [array([[ 0.46628213, 37.78109566]]), array([[ 6.46628213, 43.78109566]])], [array([[ 2.92508217, 54.56285007]]), array([[ 8.92508217, 60.56285007]])], [array([[ 0.85205818, 45.4221525 ]]), array([[ 6.85205818, 51.4221525 ]])], [array([[25.77879637, 47.6633057 ]]), array([[31.77879637, 53.6633057 ]])], [array([[18.0644363 , 43.31031262]]), array([[24.0644363 , 49.31031262]])], [array([[17.9085269 , 53.69251344]]), array([[23.9085269 , 59.69251344]])], [array([[-1.46963996, 52.0028863 ]]), array([[ 4.53036004, 58.0028863 ]])], [array([[26.67697158, 51.96331309]]), array([[32.67697158, 57.96331309]])], [array([[ 6.13287577, 52.78558657]]), array([[12.13287577, 58.78558657]])], [array([[ 0.99355419, 45.95787052]]), array([[ 6.99355419, 51.95787052]])], [array([[24.34926959, 42.87228297]]), array([[30.34926959, 48.87228297]])], [array([[ 6.34548482, 39.60057144]]), array([[12.34548482, 45.60057144]])], [array([[-1.43835822, 50.57671066]]), array([[ 4.56164178, 56.57671066]])], [array([[ 4.13721536, 42.31093319]]), array([[10.13721536, 48.31093319]])], [array([[12.25562162, 38.0672509 ]]), array([[18.25562162, 44.0672509 ]])], [array([[14.64941056, 39.9345715 ]]), array([[20.64941056, 45.9345715 ]])], [array([[15.08986057, 50.9951672 ]]), array([[21.08986057, 56.9951672 ]])], [array([[ 0.96769844, 45.28111976]]), array([[ 6.96769844, 51.28111976]])], [array([[18.13760457, 45.28358539]]), array([[24.13760457, 51.28358539]])], [array([[-0.55134969, 47.71792812]]), array([[ 5.44865031, 53.71792812]])], [array([[17.25004471, 47.29778224]]), array([[23.25004471, 53.29778224]])], [array([[25.39324792, 48.73110081]]), array([[31.39324792, 54.73110081]])], [array([[24.19865554, 39.74949408]]), array([[30.19865554, 45.74949408]])], [array([[ 2.03901407, 53.14782577]]), array([[ 8.03901407, 59.14782577]])], [array([[ 9.53262827, 40.30708394]]), array([[15.53262827, 46.30708394]])], [array([[24.89774883, 43.95531719]]), array([[30.89774883, 49.95531719]])], [array([[19.77355099, 51.51995971]]), array([[25.77355099, 57.51995971]])], [array([[23.61587664, 49.47344414]]), array([[29.61587664, 55.47344414]])], [array([[19.77733059, 43.97796684]]), array([[25.77733059, 49.97796684]])], [array([[ 5.82790886, 54.91772436]]), array([[11.82790886, 60.91772436]])], [array([[10.41464451, 56.29680094]]), array([[16.41464451, 62.29680094]])], [array([[17.23980344, 49.4339144 ]]), array([[23.23980344, 55.4339144 ]])], [array([[ 1.32763322, 55.98978517]]), array([[ 7.32763322, 61.98978517]])], [array([[11.04745187, 48.56779229]]), array([[17.04745187, 54.56779229]])], [array([[ 9.83596728, 41.7405396 ]]), array([[15.83596728, 47.7405396 ]])], [array([[24.1980061 , 48.47358973]]), array([[30.1980061 , 54.47358973]])], [array([[-1.91676052, 49.34289827]]), array([[ 4.08323948, 55.34289827]])], [array([[ 7.47270215, 47.54116205]]), array([[13.47270215, 53.54116205]])], [array([[23.69232088, 44.1453952 ]]), array([[29.69232088, 50.1453952 ]])], [array([[24.34751938, 49.46720232]]), array([[30.34751938, 55.46720232]])], [array([[-1.54118396, 55.58874467]]), array([[ 4.45881604, 61.58874467]])], [array([[18.03601061, 56.94645701]]), array([[24.03601061, 62.94645701]])], [array([[ 2.99787474, 39.74271499]]), array([[ 8.99787474, 45.74271499]])], [array([[25.04526843, 50.93636323]]), array([[31.04526843, 56.93636323]])], [array([[-0.08599499, 52.10926105]]), array([[ 5.91400501, 58.10926105]])], [array([[19.86240947, 55.46049071]]), array([[25.86240947, 61.46049071]])], [array([[18.634218  , 39.48541924]]), array([[24.634218  , 45.48541924]])], [array([[-1.42347612, 37.52421974]]), array([[ 4.57652388, 43.52421974]])], [array([[-1.17911185, 41.92422135]]), array([[ 4.82088815, 47.92422135]])], [array([[22.94081051, 47.77662129]]), array([[28.94081051, 53.77662129]])], [array([[14.03183738, 53.84061785]]), array([[20.03183738, 59.84061785]])], [array([[ 1.60102614, 42.58367358]]), array([[ 7.60102614, 48.58367358]])], [array([[14.98701887, 56.39191497]]), array([[20.98701887, 62.39191497]])], [array([[14.26987636, 37.37294579]]), array([[20.26987636, 43.37294579]])], [array([[21.21834751, 41.65948548]]), array([[27.21834751, 47.65948548]])], [array([[21.40605067, 44.75721288]]), array([[27.40605067, 50.75721288]])], [array([[23.04271378, 51.94243285]]), array([[29.04271378, 57.94243285]])], [array([[14.13096679, 39.72910451]]), array([[20.13096679, 45.72910451]])], [array([[-0.262387  , 39.42686911]]), array([[ 5.737613  , 45.42686911]])], [array([[-0.70799552, 39.14988258]]), array([[ 5.29200448, 45.14988258]])], [array([[ 4.54557082, 51.25977961]]), array([[10.54557082, 57.25977961]])], [array([[14.23179248, 37.2511196 ]]), array([[20.23179248, 43.2511196 ]])], [array([[ 0.08725411, 56.3455266 ]]), array([[ 6.08725411, 62.3455266 ]])], [array([[14.4749134 , 41.06586469]]), array([[20.4749134 , 47.06586469]])], [array([[ 5.31744659, 51.87651708]]), array([[11.31744659, 57.87651708]])], [array([[ 3.66745495, 48.62717855]]), array([[ 9.66745495, 54.62717855]])], [array([[26.13057968, 53.93657603]]), array([[32.13057968, 59.93657603]])], [array([[ 4.95558502, 46.87539429]]), array([[10.95558502, 52.87539429]])], [array([[15.97871583, 53.57961799]]), array([[21.97871583, 59.57961799]])], [array([[ 2.54695044, 37.37152404]]), array([[ 8.54695044, 43.37152404]])], [array([[3.06421679e-02, 4.67269022e+01]]), array([[ 6.03064217, 52.72690222]])], [array([[15.58355439, 48.37702874]]), array([[21.58355439, 54.37702874]])], [array([[ 7.20350987, 56.77232309]]), array([[13.20350987, 62.77232309]])], [array([[14.81261136, 44.60282345]]), array([[20.81261136, 50.60282345]])], [array([[13.97749835, 51.90668862]]), array([[19.97749835, 57.90668862]])], [array([[17.40775391, 42.29839115]]), array([[23.40775391, 48.29839115]])], [array([[-0.0762898 , 44.40168396]]), array([[ 5.9237102 , 50.40168396]])], [array([[16.2618077, 41.2034802]]), array([[22.2618077, 47.2034802]])], [array([[19.82991106, 38.33072963]]), array([[25.82991106, 44.33072963]])], [array([[ 5.54913786, 53.09509127]]), array([[11.54913786, 59.09509127]])], [array([[ 3.6095942 , 49.78921762]]), array([[ 9.6095942 , 55.78921762]])], [array([[13.21543896, 55.49615941]]), array([[19.21543896, 61.49615941]])], [array([[ 5.63560634, 38.31922181]]), array([[11.63560634, 44.31922181]])], [array([[19.31691294, 52.44356059]]), array([[25.31691294, 58.44356059]])], [array([[24.32665972, 55.63944138]]), array([[30.32665972, 61.63944138]])], [array([[-1.59540438, 41.68724172]]), array([[ 4.40459562, 47.68724172]])], [array([[15.88657235, 55.98032641]]), array([[21.88657235, 61.98032641]])], [array([[25.55510746, 48.13306376]]), array([[31.55510746, 54.13306376]])], [array([[24.55258414, 49.83132418]]), array([[30.55258414, 55.83132418]])], [array([[ 9.31022371, 46.71981334]]), array([[15.31022371, 52.71981334]])], [array([[15.525004  , 47.99095843]]), array([[21.525004  , 53.99095843]])], [array([[24.85926137, 55.37466871]]), array([[30.85926137, 61.37466871]])], [array([[ 9.45139277, 56.26525057]]), array([[15.45139277, 62.26525057]])], [array([[ 3.04471433, 39.52659039]]), array([[ 9.04471433, 45.52659039]])], [array([[ 1.91729558, 47.11324331]]), array([[ 7.91729558, 53.11324331]])], [array([[-1.37578065, 55.95940422]]), array([[ 4.62421935, 61.95940422]])], [array([[21.98634866, 37.30037961]]), array([[27.98634866, 43.30037961]])], [array([[ 3.10969141, 43.64127149]]), array([[ 9.10969141, 49.64127149]])], [array([[ 1.7989085 , 53.18981384]]), array([[ 7.7989085 , 59.18981384]])], [array([[ 7.99736293, 55.80214965]]), array([[13.99736293, 61.80214965]])], [array([[14.87841122, 54.57663969]]), array([[20.87841122, 60.57663969]])], [array([[22.49729892, 55.10784637]]), array([[28.49729892, 61.10784637]])], [array([[11.33652771, 47.92693632]]), array([[17.33652771, 53.92693632]])], [array([[21.15950414, 42.71437703]]), array([[27.15950414, 48.71437703]])], [array([[12.21735216, 48.98220615]]), array([[18.21735216, 54.98220615]])], [array([[-1.54953501, 48.86962816]]), array([[ 4.45046499, 54.86962816]])], [array([[10.57661412, 53.14721058]]), array([[16.57661412, 59.14721058]])], [array([[ 7.14209929, 54.85777417]]), array([[13.14209929, 60.85777417]])], [array([[14.75785924, 40.68020403]]), array([[20.75785924, 46.68020403]])], [array([[20.84994778, 49.24062354]]), array([[26.84994778, 55.24062354]])], [array([[-0.43663111, 45.4038736 ]]), array([[ 5.56336889, 51.4038736 ]])], [array([[17.69299626, 55.37203556]]), array([[23.69299626, 61.37203556]])], [array([[-1.98834128, 56.53518298]]), array([[ 4.01165872, 62.53518298]])], [array([[ 8.92082913, 56.47567077]]), array([[14.92082913, 62.47567077]])], [array([[15.53676693, 53.57691616]]), array([[21.53676693, 59.57691616]])], [array([[14.66663364, 49.56152397]]), array([[20.66663364, 55.56152397]])], [array([[ 6.28171217, 48.73666681]]), array([[12.28171217, 54.73666681]])], [array([[19.75063115, 54.16627673]]), array([[25.75063115, 60.16627673]])], [array([[19.89738347, 50.96114497]]), array([[25.89738347, 56.96114497]])], [array([[23.06990347, 43.45361994]]), array([[29.06990347, 49.45361994]])], [array([[17.45287493, 46.01747873]]), array([[23.45287493, 52.01747873]])], [array([[ 9.08097981, 45.216227  ]]), array([[15.08097981, 51.216227  ]])], [array([[ 9.64290792, 43.34767892]]), array([[15.64290792, 49.34767892]])], [array([[16.03566167, 45.60494542]]), array([[22.03566167, 51.60494542]])], [array([[26.24026026, 50.55601783]]), array([[32.24026026, 56.55601783]])], [array([[ 3.75852676, 45.53402019]]), array([[ 9.75852676, 51.53402019]])], [array([[ 7.95704095, 52.95277608]]), array([[13.95704095, 58.95277608]])], [array([[23.51995037, 55.07683912]]), array([[29.51995037, 61.07683912]])], [array([[17.21887456, 42.40416524]]), array([[23.21887456, 48.40416524]])], [array([[ 5.31863434, 54.09795885]]), array([[11.31863434, 60.09795885]])], [array([[13.30372474, 53.04322168]]), array([[19.30372474, 59.04322168]])], [array([[14.602167  , 51.66285051]]), array([[20.602167  , 57.66285051]])], [array([[13.0513372 , 52.41767821]]), array([[19.0513372 , 58.41767821]])], [array([[14.49688173, 46.31419757]]), array([[20.49688173, 52.31419757]])], [array([[ 7.93797833, 38.36418697]]), array([[13.93797833, 44.36418697]])], [array([[ 8.9598012 , 38.59252155]]), array([[14.9598012 , 44.59252155]])], [array([[26.5016963 , 40.63225703]]), array([[32.5016963 , 46.63225703]])], [array([[21.54390223, 54.4992329 ]]), array([[27.54390223, 60.4992329 ]])], [array([[17.96398432, 48.38988825]]), array([[23.96398432, 54.38988825]])], [array([[ 2.66817167, 46.33760046]]), array([[ 8.66817167, 52.33760046]])], [array([[ 8.00998948, 41.50079916]]), array([[14.00998948, 47.50079916]])], [array([[15.18284419, 43.24539675]]), array([[21.18284419, 49.24539675]])], [array([[24.57286105, 55.1927105 ]]), array([[30.57286105, 61.1927105 ]])], [array([[ 5.45643052, 39.21782601]]), array([[11.45643052, 45.21782601]])], [array([[ 3.59591923, 46.99168341]]), array([[ 9.59591923, 52.99168341]])], [array([[19.12898437, 41.16388877]]), array([[25.12898437, 47.16388877]])], [array([[ 5.19297319, 54.0334375 ]]), array([[11.19297319, 60.0334375 ]])], [array([[10.05961283, 49.33370134]]), array([[16.05961283, 55.33370134]])], [array([[ 4.77631804, 39.03934519]]), array([[10.77631804, 45.03934519]])], [array([[12.95985349, 46.54281974]]), array([[18.95985349, 52.54281974]])], [array([[ 2.42747768, 49.43612463]]), array([[ 8.42747768, 55.43612463]])], [array([[13.77629345, 50.08274694]]), array([[19.77629345, 56.08274694]])], [array([[ 2.19182066, 52.03055634]]), array([[ 8.19182066, 58.03055634]])], [array([[ 4.43942505, 47.38703649]]), array([[10.43942505, 53.38703649]])], [array([[20.77358482, 37.44660856]]), array([[26.77358482, 43.44660856]])], [array([[ 7.40651133, 54.45844753]]), array([[13.40651133, 60.45844753]])], [array([[22.49657862, 47.76881185]]), array([[28.49657862, 53.76881185]])], [array([[23.13163995, 55.99611983]]), array([[29.13163995, 61.99611983]])], [array([[21.96580293, 54.08230888]]), array([[27.96580293, 60.08230888]])], [array([[ 0.86355865, 50.02608665]]), array([[ 6.86355865, 56.02608665]])], [array([[18.40199266, 49.20481625]]), array([[24.40199266, 55.20481625]])], [array([[21.18884259, 37.6914244 ]]), array([[27.18884259, 43.6914244 ]])], [array([[20.3369233 , 51.63457201]]), array([[26.3369233 , 57.63457201]])], [array([[ 5.53125341, 42.14138598]]), array([[11.53125341, 48.14138598]])], [array([[16.33679621, 43.90594923]]), array([[22.33679621, 49.90594923]])], [array([[21.10107166, 45.92292464]]), array([[27.10107166, 51.92292464]])], [array([[20.69973303, 56.80943567]]), array([[26.69973303, 62.80943567]])], [array([[ 6.70720185, 39.86011657]]), array([[12.70720185, 45.86011657]])], [array([[24.13794465, 47.83118758]]), array([[30.13794465, 53.83118758]])], [array([[26.26747075, 49.732088  ]]), array([[32.26747075, 55.732088  ]])], [array([[26.82347771, 47.92141608]]), array([[32.82347771, 53.92141608]])], [array([[13.26635208, 39.70855806]]), array([[19.26635208, 45.70855806]])], [array([[ 8.31544996, 37.52437135]]), array([[14.31544996, 43.52437135]])], [array([[ 2.65146021, 51.91274385]]), array([[ 8.65146021, 57.91274385]])], [array([[-1.11840899, 44.33086194]]), array([[ 4.88159101, 50.33086194]])], [array([[23.00804133, 50.85355435]]), array([[29.00804133, 56.85355435]])], [array([[18.03732212, 40.77273602]]), array([[24.03732212, 46.77273602]])], [array([[10.81522414, 48.63154815]]), array([[16.81522414, 54.63154815]])], [array([[26.70279952, 41.0781245 ]]), array([[32.70279952, 47.0781245 ]])], [array([[ 5.18425415, 42.24346168]]), array([[11.18425415, 48.24346168]])], [array([[19.75499999, 46.13950655]]), array([[25.75499999, 52.13950655]])], [array([[-0.34904629, 47.17032481]]), array([[ 5.65095371, 53.17032481]])], [array([[ 4.14684477, 52.9720849 ]]), array([[10.14684477, 58.9720849 ]])], [array([[ 6.62261006, 37.55212024]]), array([[12.62261006, 43.55212024]])], [array([[15.20954103, 53.87680858]]), array([[21.20954103, 59.87680858]])], [array([[ 9.0494676 , 51.99716621]]), array([[15.0494676 , 57.99716621]])], [array([[12.82310287, 47.8190361 ]]), array([[18.82310287, 53.8190361 ]])]], 'counter_examples': []}\n"
     ]
    }
   ],
   "source": [
    "# 3.0 perturbation\n",
    "# get the 1000 intervals by using l infinity\n",
    "perturbation = 3.0\n",
    "orig_interval_list_600 = get_l_infinity_list(orig_point_list_600, perturbation)\n",
    "orig_interval_list_400 = get_l_infinity_list(orig_points_list_400, perturbation)\n",
    "\n",
    "s_time = time.time()\n",
    "results_600 = certify_model_2_with_1000_intervals_plain_interval_propagation(orig_interval_list_600, 0)\n",
    "results_400 = certify_model_2_with_1000_intervals_plain_interval_propagation(orig_interval_list_400, 1)\n",
    "used_time=time.time() - s_time\n",
    "print(used_time)\n",
    "print(results_600)\n",
    "print(results_400)"
   ]
  },
  {
   "cell_type": "code",
   "execution_count": 69,
   "id": "5d23d057-d756-4eb2-98c3-6773816899c2",
   "metadata": {},
   "outputs": [],
   "source": [
    "# prepare the required parameters and load the functions need to be used\n",
    "%run single_layer_interval_propagation.ipynb\n",
    "%run simple_interval_propagation.ipynb\n",
    "%run model_2_functions.ipynb"
   ]
  },
  {
   "cell_type": "code",
   "execution_count": 70,
   "id": "86a2c794-97f5-4e68-84ca-abb6e37b7627",
   "metadata": {},
   "outputs": [
    {
     "name": "stdout",
     "output_type": "stream",
     "text": [
      "45.75382614135742\n",
      "{'sat_num': 1, 'counter_interval_list': [[array([[79.50683442, 74.73369533]]), array([[80.50683442, 75.73369533]])]], 'counter_examples': [None]}\n",
      "{'sat_num': 0, 'counter_interval_list': [], 'counter_examples': []}\n"
     ]
    }
   ],
   "source": [
    "# 0.5 perturbation\n",
    "# get the 1000 intervals by using l infinity\n",
    "perturbation = 0.5\n",
    "orig_interval_list_600 = get_l_infinity_list(orig_point_list_600, perturbation)\n",
    "orig_interval_list_400 = get_l_infinity_list(orig_points_list_400, perturbation)\n",
    "\n",
    "s_time = time.time()\n",
    "results_600 = certify_model_2_with_1000_intervals_plain_interval_propagation_with_counter_example(orig_interval_list_600, 0)\n",
    "results_400 = certify_model_2_with_1000_intervals_plain_interval_propagation_with_counter_example(orig_interval_list_400, 1)\n",
    "used_time=time.time() - s_time\n",
    "print(used_time)\n",
    "print(results_600)\n",
    "print(results_400)"
   ]
  },
  {
   "cell_type": "code",
   "execution_count": 72,
   "id": "beb48650-9e00-407b-8d8f-7b45000ee728",
   "metadata": {},
   "outputs": [
    {
     "name": "stdout",
     "output_type": "stream",
     "text": [
      "50.12611198425293\n",
      "{'sat_num': 5, 'counter_interval_list': [[array([[80.22356275, 73.51300108]]), array([[82.22356275, 75.51300108]])], [array([[79.00683442, 74.23369533]]), array([[81.00683442, 76.23369533]])], [array([[9.58538599, 5.64718617]]), array([[11.58538599,  7.64718617]])], [array([[9.7964178 , 5.73985106]]), array([[11.7964178 ,  7.73985106]])], [array([[9.01487492, 5.88379575]]), array([[11.01487492,  7.88379575]])]], 'counter_examples': [None, None, None, None, None]}\n",
      "{'sat_num': 0, 'counter_interval_list': [], 'counter_examples': []}\n"
     ]
    }
   ],
   "source": [
    "# 1.0 perturbation\n",
    "# get the 1000 intervals by using l infinity\n",
    "perturbation = 1.0\n",
    "orig_interval_list_600 = get_l_infinity_list(orig_point_list_600, perturbation)\n",
    "orig_interval_list_400 = get_l_infinity_list(orig_points_list_400, perturbation)\n",
    "\n",
    "s_time = time.time()\n",
    "results_600 = certify_model_2_with_1000_intervals_plain_interval_propagation_with_counter_example(orig_interval_list_600, 0)\n",
    "results_400 = certify_model_2_with_1000_intervals_plain_interval_propagation_with_counter_example(orig_interval_list_400, 1)\n",
    "used_time=time.time() - s_time\n",
    "print(used_time)\n",
    "print(results_600)\n",
    "print(results_400)"
   ]
  },
  {
   "cell_type": "code",
   "execution_count": 73,
   "id": "82d4e255-5c7b-4cf8-9410-a8442f31d762",
   "metadata": {},
   "outputs": [
    {
     "name": "stdout",
     "output_type": "stream",
     "text": [
      "53.474045515060425\n",
      "{'sat_num': 21, 'counter_interval_list': [[array([[80.45068154, 71.66118366]]), array([[83.45068154, 74.66118366]])], [array([[78.76896113, 70.13722976]]), array([[81.76896113, 73.13722976]])], [array([[79.72356275, 73.01300108]]), array([[82.72356275, 76.01300108]])], [array([[83.89516096, 74.63482774]]), array([[86.89516096, 77.63482774]])], [array([[78.86592169, 71.54573605]]), array([[81.86592169, 74.54573605]])], [array([[78.50683442, 73.73369533]]), array([[81.50683442, 76.73369533]])], [array([[8.50423187, 2.01166286]]), array([[11.50423187,  5.01166286]])], [array([[9.51334095, 3.85233755]]), array([[12.51334095,  6.85233755]])], [array([[9.17666626, 4.25072157]]), array([[12.17666626,  7.25072157]])], [array([[9.21657744, 3.89417766]]), array([[12.21657744,  6.89417766]])], [array([[8.6062021 , 3.58572457]]), array([[11.6062021 ,  6.58572457]])], [array([[9.08538599, 5.14718617]]), array([[12.08538599,  8.14718617]])], [array([[10.94200639,  4.27731526]]), array([[13.94200639,  7.27731526]])], [array([[9.23556495, 0.63105493]]), array([[12.23556495,  3.63105493]])], [array([[9.54734006, 1.73105534]]), array([[12.54734006,  4.73105534]])], [array([[11.16304835,  5.33638165]]), array([[14.16304835,  8.33638165]])], [array([[9.0162082 , 1.67181043]]), array([[12.0162082 ,  4.67181043]])], [array([[9.2964178 , 5.23985106]]), array([[12.2964178 ,  8.23985106]])], [array([[9.0747312 , 3.46740704]]), array([[12.0747312 ,  6.46740704]])], [array([[8.51487492, 5.38379575]]), array([[11.51487492,  8.38379575]])], [array([[9.62478853, 2.33271549]]), array([[12.62478853,  5.33271549]])]], 'counter_examples': [None, None, None, None, None, None, None, None, None, None, None, None, None, None, None, None, None, None, None, None, None]}\n",
      "{'sat_num': 3, 'counter_interval_list': [[array([[59.12452641, 71.24949408]]), array([[62.12452641, 74.24949408]])], [array([[64.36592951, 72.13225703]]), array([[67.36592951, 75.13225703]])], [array([[64.82361271, 72.5781245 ]]), array([[67.82361271, 75.5781245 ]])]], 'counter_examples': [None, None, None]}\n"
     ]
    }
   ],
   "source": [
    "# 1.5 perturbation\n",
    "# get the 1000 intervals by using l infinity\n",
    "perturbation = 1.5\n",
    "orig_interval_list_600 = get_l_infinity_list(orig_point_list_600, perturbation)\n",
    "orig_interval_list_400 = get_l_infinity_list(orig_points_list_400, perturbation)\n",
    "\n",
    "s_time = time.time()\n",
    "results_600 = certify_model_2_with_1000_intervals_plain_interval_propagation_with_counter_example(orig_interval_list_600, 0)\n",
    "results_400 = certify_model_2_with_1000_intervals_plain_interval_propagation_with_counter_example(orig_interval_list_400, 1)\n",
    "used_time=time.time() - s_time\n",
    "print(used_time)\n",
    "print(results_600)\n",
    "print(results_400)"
   ]
  },
  {
   "cell_type": "code",
   "execution_count": 74,
   "id": "fbb7812f-cc55-4306-b0ff-55d717ebf3fa",
   "metadata": {},
   "outputs": [
    {
     "name": "stdout",
     "output_type": "stream",
     "text": [
      "52.02173352241516\n",
      "{'sat_num': 39, 'counter_interval_list': [[array([[79.95068154, 71.16118366]]), array([[83.95068154, 75.16118366]])], [array([[78.26896113, 69.63722976]]), array([[82.26896113, 73.63722976]])], [array([[79.22356275, 72.51300108]]), array([[83.22356275, 76.51300108]])], [array([[83.39516096, 74.13482774]]), array([[87.39516096, 78.13482774]])], [array([[78.36592169, 71.04573605]]), array([[82.36592169, 75.04573605]])], [array([[78.00683442, 73.23369533]]), array([[82.00683442, 77.23369533]])], [array([[84.40186535, 73.00754892]]), array([[88.40186535, 77.00754892]])], [array([[8.00423187, 1.51166286]]), array([[12.00423187,  5.51166286]])], [array([[9.01334095, 3.35233755]]), array([[13.01334095,  7.35233755]])], [array([[11.14663582,  0.19527392]]), array([[15.14663582,  4.19527392]])], [array([[11.63883285,  2.10553813]]), array([[15.63883285,  6.10553813]])], [array([[8.67666626, 3.75072157]]), array([[12.67666626,  7.75072157]])], [array([[11.81936224,  2.23946763]]), array([[15.81936224,  6.23946763]])], [array([[8.71657744, 3.39417766]]), array([[12.71657744,  7.39417766]])], [array([[11.78637387,  2.07027994]]), array([[15.78637387,  6.07027994]])], [array([[9.84827798, 2.67948203]]), array([[13.84827798,  6.67948203]])], [array([[13.15322485,  4.03695644]]), array([[17.15322485,  8.03695644]])], [array([[12.245601  ,  4.74744629]]), array([[16.245601  ,  8.74744629]])], [array([[8.1062021 , 3.08572457]]), array([[12.1062021 ,  7.08572457]])], [array([[8.58538599, 4.64718617]]), array([[12.58538599,  8.64718617]])], [array([[10.44200639,  3.77731526]]), array([[14.44200639,  7.77731526]])], [array([[8.73556495, 0.13105493]]), array([[12.73556495,  4.13105493]])], [array([[9.04734006, 1.23105534]]), array([[13.04734006,  5.23105534]])], [array([[12.59441266,  1.3959184 ]]), array([[16.59441266,  5.3959184 ]])], [array([[10.21695451,  0.60671728]]), array([[14.21695451,  4.60671728]])], [array([[9.64841951, 0.53747065]]), array([[13.64841951,  4.53747065]])], [array([[10.66304835,  4.83638165]]), array([[14.66304835,  8.83638165]])], [array([[10.59081932,  2.43172555]]), array([[14.59081932,  6.43172555]])], [array([[10.45438887,  1.85042099]]), array([[14.45438887,  5.85042099]])], [array([[8.5162082 , 1.17181043]]), array([[12.5162082 ,  5.17181043]])], [array([[12.99792885,  2.52831083]]), array([[16.99792885,  6.52831083]])], [array([[8.7964178 , 4.73985106]]), array([[12.7964178 ,  8.73985106]])], [array([[12.84688326,  4.04745346]]), array([[16.84688326,  8.04745346]])], [array([[8.5747312 , 2.96740704]]), array([[12.5747312 ,  6.96740704]])], [array([[9.99464307, 2.1009684 ]]), array([[13.99464307,  6.1009684 ]])], [array([[8.01487492, 4.88379575]]), array([[12.01487492,  8.88379575]])], [array([[11.65350587,  3.25652166]]), array([[15.65350587,  7.25652166]])], [array([[9.12478853, 1.83271549]]), array([[13.12478853,  5.83271549]])], [array([[10.10638922,  2.5425812 ]]), array([[14.10638922,  6.5425812 ]])]], 'counter_examples': [None, None, None, None, None, None, None, None, None, None, None, None, None, None, None, None, None, None, None, None, None, None, None, None, None, None, None, None, None, None, None, None, None, None, None, None, None, None, None]}\n",
      "{'sat_num': 124, 'counter_interval_list': [[array([[62.22070899, 78.6633057 ]]), array([[66.22070899, 82.6633057 ]])], [array([[58.9673032 , 73.87228297]]), array([[62.9673032 , 77.87228297]])], [array([[58.62452641, 70.74949408]]), array([[62.62452641, 74.74949408]])], [array([[60.21556631, 74.95531719]]), array([[64.21556631, 78.95531719]])], [array([[57.47217855, 75.1453952 ]]), array([[61.47217855, 79.1453952 ]])], [array([[61.71162387, 79.13306376]]), array([[65.71162387, 83.13306376]])], [array([[53.5896211 , 68.30037961]]), array([[57.5896211 , 72.30037961]])], [array([[63.86592951, 71.63225703]]), array([[67.86592951, 75.63225703]])], [array([[50.82953786, 68.44660856]]), array([[54.82953786, 72.44660856]])], [array([[51.77460727, 68.6914244 ]]), array([[55.77460727, 72.6914244 ]])], [array([[63.33286448, 80.732088  ]]), array([[67.33286448, 84.732088  ]])], [array([[64.59825962, 78.92141608]]), array([[68.59825962, 82.92141608]])], [array([[64.32361271, 72.0781245 ]]), array([[68.32361271, 76.0781245 ]])], [array([[-0.99668313, 44.04665145]]), array([[ 3.00331687, 48.04665145]])], [array([[ 3.25592083, 39.8467719 ]]), array([[ 7.25592083, 43.8467719 ]])], [array([[ 4.40154613, 44.91121454]]), array([[ 8.40154613, 48.91121454]])], [array([[10.50625675, 48.77633468]]), array([[14.50625675, 52.77633468]])], [array([[11.10183927, 49.17379657]]), array([[15.10183927, 53.17379657]])], [array([[ 3.07122122, 41.96202978]]), array([[ 7.07122122, 45.96202978]])], [array([[ 1.46628213, 38.78109566]]), array([[ 5.46628213, 42.78109566]])], [array([[ 1.85205818, 46.4221525 ]]), array([[ 5.85205818, 50.4221525 ]])], [array([[19.0644363 , 44.31031262]]), array([[23.0644363 , 48.31031262]])], [array([[ 1.99355419, 46.95787052]]), array([[ 5.99355419, 50.95787052]])], [array([[25.34926959, 43.87228297]]), array([[29.34926959, 47.87228297]])], [array([[ 7.34548482, 40.60057144]]), array([[11.34548482, 44.60057144]])], [array([[ 5.13721536, 43.31093319]]), array([[ 9.13721536, 47.31093319]])], [array([[13.25562162, 39.0672509 ]]), array([[17.25562162, 43.0672509 ]])], [array([[15.64941056, 40.9345715 ]]), array([[19.64941056, 44.9345715 ]])], [array([[ 1.96769844, 46.28111976]]), array([[ 5.96769844, 50.28111976]])], [array([[19.13760457, 46.28358539]]), array([[23.13760457, 50.28358539]])], [array([[18.25004471, 48.29778224]]), array([[22.25004471, 52.29778224]])], [array([[26.39324792, 49.73110081]]), array([[30.39324792, 53.73110081]])], [array([[25.19865554, 40.74949408]]), array([[29.19865554, 44.74949408]])], [array([[10.53262827, 41.30708394]]), array([[14.53262827, 45.30708394]])], [array([[24.61587664, 50.47344414]]), array([[28.61587664, 54.47344414]])], [array([[20.77733059, 44.97796684]]), array([[24.77733059, 48.97796684]])], [array([[12.04745187, 49.56779229]]), array([[16.04745187, 53.56779229]])], [array([[10.83596728, 42.7405396 ]]), array([[14.83596728, 46.7405396 ]])], [array([[25.1980061 , 49.47358973]]), array([[29.1980061 , 53.47358973]])], [array([[ 8.47270215, 48.54116205]]), array([[12.47270215, 52.54116205]])], [array([[24.69232088, 45.1453952 ]]), array([[28.69232088, 49.1453952 ]])], [array([[25.34751938, 50.46720232]]), array([[29.34751938, 54.46720232]])], [array([[ 3.99787474, 40.74271499]]), array([[ 7.99787474, 44.74271499]])], [array([[26.04526843, 51.93636323]]), array([[30.04526843, 55.93636323]])], [array([[19.634218  , 40.48541924]]), array([[23.634218  , 44.48541924]])], [array([[-0.42347612, 38.52421974]]), array([[ 3.57652388, 42.52421974]])], [array([[-0.17911185, 42.92422135]]), array([[ 3.82088815, 46.92422135]])], [array([[23.94081051, 48.77662129]]), array([[27.94081051, 52.77662129]])], [array([[ 2.60102614, 43.58367358]]), array([[ 6.60102614, 47.58367358]])], [array([[15.26987636, 38.37294579]]), array([[19.26987636, 42.37294579]])], [array([[22.21834751, 42.65948548]]), array([[26.21834751, 46.65948548]])], [array([[22.40605067, 45.75721288]]), array([[26.40605067, 49.75721288]])], [array([[15.13096679, 40.72910451]]), array([[19.13096679, 44.72910451]])], [array([[ 0.737613  , 40.42686911]]), array([[ 4.737613  , 44.42686911]])], [array([[ 0.29200448, 40.14988258]]), array([[ 4.29200448, 44.14988258]])], [array([[15.23179248, 38.2511196 ]]), array([[19.23179248, 42.2511196 ]])], [array([[15.4749134 , 42.06586469]]), array([[19.4749134 , 46.06586469]])], [array([[ 4.66745495, 49.62717855]]), array([[ 8.66745495, 53.62717855]])], [array([[27.13057968, 54.93657603]]), array([[31.13057968, 58.93657603]])], [array([[ 5.95558502, 47.87539429]]), array([[ 9.95558502, 51.87539429]])], [array([[ 3.54695044, 38.37152404]]), array([[ 7.54695044, 42.37152404]])], [array([[16.58355439, 49.37702874]]), array([[20.58355439, 53.37702874]])], [array([[15.81261136, 45.60282345]]), array([[19.81261136, 49.60282345]])], [array([[18.40775391, 43.29839115]]), array([[22.40775391, 47.29839115]])], [array([[ 0.9237102 , 45.40168396]]), array([[ 4.9237102 , 49.40168396]])], [array([[17.2618077, 42.2034802]]), array([[21.2618077, 46.2034802]])], [array([[20.82991106, 39.33072963]]), array([[24.82991106, 43.33072963]])], [array([[ 6.63560634, 39.31922181]]), array([[10.63560634, 43.31922181]])], [array([[-0.59540438, 42.68724172]]), array([[ 3.40459562, 46.68724172]])], [array([[25.55258414, 50.83132418]]), array([[29.55258414, 54.83132418]])], [array([[10.31022371, 47.71981334]]), array([[14.31022371, 51.71981334]])], [array([[16.525004  , 48.99095843]]), array([[20.525004  , 52.99095843]])], [array([[ 4.04471433, 40.52659039]]), array([[ 8.04471433, 44.52659039]])], [array([[ 2.91729558, 48.11324331]]), array([[ 6.91729558, 52.11324331]])], [array([[22.98634866, 38.30037961]]), array([[26.98634866, 42.30037961]])], [array([[ 4.10969141, 44.64127149]]), array([[ 8.10969141, 48.64127149]])], [array([[12.33652771, 48.92693632]]), array([[16.33652771, 52.92693632]])], [array([[22.15950414, 43.71437703]]), array([[26.15950414, 47.71437703]])], [array([[13.21735216, 49.98220615]]), array([[17.21735216, 53.98220615]])], [array([[15.75785924, 41.68020403]]), array([[19.75785924, 45.68020403]])], [array([[21.84994778, 50.24062354]]), array([[25.84994778, 54.24062354]])], [array([[ 0.56336889, 46.4038736 ]]), array([[ 4.56336889, 50.4038736 ]])], [array([[ 7.28171217, 49.73666681]]), array([[11.28171217, 53.73666681]])], [array([[24.06990347, 44.45361994]]), array([[28.06990347, 48.45361994]])], [array([[18.45287493, 47.01747873]]), array([[22.45287493, 51.01747873]])], [array([[10.08097981, 46.216227  ]]), array([[14.08097981, 50.216227  ]])], [array([[10.64290792, 44.34767892]]), array([[14.64290792, 48.34767892]])], [array([[17.03566167, 46.60494542]]), array([[21.03566167, 50.60494542]])], [array([[ 4.75852676, 46.53402019]]), array([[ 8.75852676, 50.53402019]])], [array([[18.21887456, 43.40416524]]), array([[22.21887456, 47.40416524]])], [array([[15.49688173, 47.31419757]]), array([[19.49688173, 51.31419757]])], [array([[ 8.93797833, 39.36418697]]), array([[12.93797833, 43.36418697]])], [array([[ 9.9598012 , 39.59252155]]), array([[13.9598012 , 43.59252155]])], [array([[27.5016963 , 41.63225703]]), array([[31.5016963 , 45.63225703]])], [array([[18.96398432, 49.38988825]]), array([[22.96398432, 53.38988825]])], [array([[ 3.66817167, 47.33760046]]), array([[ 7.66817167, 51.33760046]])], [array([[ 9.00998948, 42.50079916]]), array([[13.00998948, 46.50079916]])], [array([[16.18284419, 44.24539675]]), array([[20.18284419, 48.24539675]])], [array([[ 6.45643052, 40.21782601]]), array([[10.45643052, 44.21782601]])], [array([[ 4.59591923, 47.99168341]]), array([[ 8.59591923, 51.99168341]])], [array([[20.12898437, 42.16388877]]), array([[24.12898437, 46.16388877]])], [array([[11.05961283, 50.33370134]]), array([[15.05961283, 54.33370134]])], [array([[ 5.77631804, 40.03934519]]), array([[ 9.77631804, 44.03934519]])], [array([[13.95985349, 47.54281974]]), array([[17.95985349, 51.54281974]])], [array([[ 5.43942505, 48.38703649]]), array([[ 9.43942505, 52.38703649]])], [array([[21.77358482, 38.44660856]]), array([[25.77358482, 42.44660856]])], [array([[23.49657862, 48.76881185]]), array([[27.49657862, 52.76881185]])], [array([[22.18884259, 38.6914244 ]]), array([[26.18884259, 42.6914244 ]])], [array([[ 6.53125341, 43.14138598]]), array([[10.53125341, 47.14138598]])], [array([[17.33679621, 44.90594923]]), array([[21.33679621, 48.90594923]])], [array([[22.10107166, 46.92292464]]), array([[26.10107166, 50.92292464]])], [array([[ 7.70720185, 40.86011657]]), array([[11.70720185, 44.86011657]])], [array([[25.13794465, 48.83118758]]), array([[29.13794465, 52.83118758]])], [array([[14.26635208, 40.70855806]]), array([[18.26635208, 44.70855806]])], [array([[ 9.31544996, 38.52437135]]), array([[13.31544996, 42.52437135]])], [array([[-0.11840899, 45.33086194]]), array([[ 3.88159101, 49.33086194]])], [array([[24.00804133, 51.85355435]]), array([[28.00804133, 55.85355435]])], [array([[19.03732212, 41.77273602]]), array([[23.03732212, 45.77273602]])], [array([[11.81522414, 49.63154815]]), array([[15.81522414, 53.63154815]])], [array([[27.70279952, 42.0781245 ]]), array([[31.70279952, 46.0781245 ]])], [array([[ 6.18425415, 43.24346168]]), array([[10.18425415, 47.24346168]])], [array([[20.75499999, 47.13950655]]), array([[24.75499999, 51.13950655]])], [array([[ 7.62261006, 38.55212024]]), array([[11.62261006, 42.55212024]])], [array([[13.82310287, 48.8190361 ]]), array([[17.82310287, 52.8190361 ]])]], 'counter_examples': [None, None, None, None, None, None, None, None, None, None, None, None, None, None, None, None, None, None, None, None, None, None, None, None, None, None, None, None, None, None, None, None, None, None, None, None, None, None, None, None, None, None, None, None, None, None, None, None, None, None, None, None, None, None, None, None, None, None, None, None, None, None, None, None, None, None, None, None, None, None, None, None, None, None, None, None, None, None, None, None, None, None, None, None, None, None, None, None, None, None, None, None, None, None, None, None, None, None, None, None, None, None, None, None, None, None, None, None, None, None, None, None, None, None, None, None, None, None, None, None, None, None, None, None]}\n"
     ]
    }
   ],
   "source": [
    "# 2.0 perturbation\n",
    "# get the 1000 intervals by using l infinity\n",
    "perturbation = 2.0\n",
    "orig_interval_list_600 = get_l_infinity_list(orig_point_list_600, perturbation)\n",
    "orig_interval_list_400 = get_l_infinity_list(orig_points_list_400, perturbation)\n",
    "\n",
    "s_time = time.time()\n",
    "results_600 = certify_model_2_with_1000_intervals_plain_interval_propagation_with_counter_example(orig_interval_list_600, 0)\n",
    "results_400 = certify_model_2_with_1000_intervals_plain_interval_propagation_with_counter_example(orig_interval_list_400, 1)\n",
    "used_time=time.time() - s_time\n",
    "print(used_time)\n",
    "print(results_600)\n",
    "print(results_400)"
   ]
  },
  {
   "cell_type": "code",
   "execution_count": 75,
   "id": "00d3f365-f0ba-459e-878f-7c4a094a0797",
   "metadata": {},
   "outputs": [
    {
     "name": "stdout",
     "output_type": "stream",
     "text": [
      "47.61380910873413\n",
      "{'sat_num': 63, 'counter_interval_list': [[array([[84.77755023, 71.82784358]]), array([[89.77755023, 76.82784358]])], [array([[79.45068154, 70.66118366]]), array([[84.45068154, 75.66118366]])], [array([[77.76896113, 69.13722976]]), array([[82.76896113, 74.13722976]])], [array([[78.72356275, 72.01300108]]), array([[83.72356275, 77.01300108]])], [array([[82.89516096, 73.63482774]]), array([[87.89516096, 78.63482774]])], [array([[84.21288542, 71.70795216]]), array([[89.21288542, 76.70795216]])], [array([[77.86592169, 70.54573605]]), array([[82.86592169, 75.54573605]])], [array([[83.3605231 , 69.94816866]]), array([[88.3605231 , 74.94816866]])], [array([[77.50683442, 72.73369533]]), array([[82.50683442, 77.73369533]])], [array([[83.90186535, 72.50754892]]), array([[88.90186535, 77.50754892]])], [array([[7.50423187, 1.01166286]]), array([[12.50423187,  6.01166286]])], [array([[12.92996796, -0.03830703]]), array([[17.92996796,  4.96169297]])], [array([[14.39162782,  1.22780364]]), array([[19.39162782,  6.22780364]])], [array([[15.06473324,  3.89058718]]), array([[20.06473324,  8.89058718]])], [array([[8.51334095, 2.85233755]]), array([[13.51334095,  7.85233755]])], [array([[12.69431673,  0.49050745]]), array([[17.69431673,  5.49050745]])], [array([[10.64663582, -0.30472608]]), array([[15.64663582,  4.69527392]])], [array([[13.78372552,  3.89071252]]), array([[18.78372552,  8.89071252]])], [array([[11.13883285,  1.60553813]]), array([[16.13883285,  6.60553813]])], [array([[8.17666626, 3.25072157]]), array([[13.17666626,  8.25072157]])], [array([[11.31936224,  1.73946763]]), array([[16.31936224,  6.73946763]])], [array([[8.21657744, 2.89417766]]), array([[13.21657744,  7.89417766]])], [array([[15.33024029,  0.8277333 ]]), array([[20.33024029,  5.8277333 ]])], [array([[11.28637387,  1.57027994]]), array([[16.28637387,  6.57027994]])], [array([[9.34827798, 2.17948203]]), array([[14.34827798,  7.17948203]])], [array([[12.65322485,  3.53695644]]), array([[17.65322485,  8.53695644]])], [array([[11.745601  ,  4.24744629]]), array([[16.745601  ,  9.24744629]])], [array([[7.6062021 , 2.58572457]]), array([[12.6062021 ,  7.58572457]])], [array([[8.08538599, 4.14718617]]), array([[13.08538599,  9.14718617]])], [array([[13.87659881,  0.18567875]]), array([[18.87659881,  5.18567875]])], [array([[9.94200639, 3.27731526]]), array([[14.94200639,  8.27731526]])], [array([[ 8.23556495, -0.36894507]]), array([[13.23556495,  4.63105493]])], [array([[8.54734006, 0.73105534]]), array([[13.54734006,  5.73105534]])], [array([[12.09441266,  0.8959184 ]]), array([[17.09441266,  5.8959184 ]])], [array([[9.71695451, 0.10671728]]), array([[14.71695451,  5.10671728]])], [array([[9.14841951, 0.03747065]]), array([[14.14841951,  5.03747065]])], [array([[15.85124553,  3.0649449 ]]), array([[20.85124553,  8.0649449 ]])], [array([[10.16304835,  4.33638165]]), array([[15.16304835,  9.33638165]])], [array([[14.7308908 ,  2.40679464]]), array([[19.7308908 ,  7.40679464]])], [array([[13.3012816 , -0.40711899]]), array([[18.3012816 ,  4.59288101]])], [array([[10.09081932,  1.93172555]]), array([[15.09081932,  6.93172555]])], [array([[9.95438887, 1.35042099]]), array([[14.95438887,  6.35042099]])], [array([[14.65706846,  2.6973044 ]]), array([[19.65706846,  7.6973044 ]])], [array([[8.0162082 , 0.67181043]]), array([[13.0162082 ,  5.67181043]])], [array([[13.93635967,  0.1316476 ]]), array([[18.93635967,  5.1316476 ]])], [array([[12.49792885,  2.02831083]]), array([[17.49792885,  7.02831083]])], [array([[8.2964178 , 4.23985106]]), array([[13.2964178 ,  9.23985106]])], [array([[14.01926146,  1.16031787]]), array([[19.01926146,  6.16031787]])], [array([[12.34688326,  3.54745346]]), array([[17.34688326,  8.54745346]])], [array([[8.0747312 , 2.46740704]]), array([[13.0747312 ,  7.46740704]])], [array([[9.49464307, 1.6009684 ]]), array([[14.49464307,  6.6009684 ]])], [array([[7.51487492, 4.38379575]]), array([[12.51487492,  9.38379575]])], [array([[14.84708587,  1.63350505]]), array([[19.84708587,  6.63350505]])], [array([[13.45594316,  1.83440011]]), array([[18.45594316,  6.83440011]])], [array([[14.63962108,  1.99792085]]), array([[19.63962108,  6.99792085]])], [array([[13.14885083,  2.60903116]]), array([[18.14885083,  7.60903116]])], [array([[12.84818498,  3.25763909]]), array([[17.84818498,  8.25763909]])], [array([[15.71581817,  2.09675912]]), array([[20.71581817,  7.09675912]])], [array([[11.15350587,  2.75652166]]), array([[16.15350587,  7.75652166]])], [array([[13.43462164,  3.22818596]]), array([[18.43462164,  8.22818596]])], [array([[8.62478853, 1.33271549]]), array([[13.62478853,  6.33271549]])], [array([[9.60638922, 2.0425812 ]]), array([[14.60638922,  7.0425812 ]])], [array([[15.34252609,  3.49302122]]), array([[20.34252609,  8.49302122]])]], 'counter_examples': [None, None, None, None, None, None, None, None, None, None, None, None, None, None, None, None, None, None, None, None, None, None, None, None, None, None, None, None, None, None, None, None, None, None, None, None, None, None, None, None, None, None, None, None, None, None, None, None, None, None, None, None, None, None, None, None, None, None, None, None, None, None, None]}\n",
      "{'sat_num': 226, 'counter_interval_list': [[array([[61.72070899, 78.1633057 ]]), array([[66.72070899, 83.1633057 ]])], [array([[63.76483187, 82.46331309]]), array([[68.76483187, 87.46331309]])], [array([[58.4673032 , 73.37228297]]), array([[63.4673032 , 78.37228297]])], [array([[60.8432539 , 79.23110081]]), array([[65.8432539 , 84.23110081]])], [array([[58.12452641, 70.24949408]]), array([[63.12452641, 75.24949408]])], [array([[59.71556631, 74.45531719]]), array([[64.71556631, 79.45531719]])], [array([[58.12304836, 78.97358973]]), array([[63.12304836, 83.97358973]])], [array([[56.97217855, 74.6453952 ]]), array([[61.97217855, 79.6453952 ]])], [array([[58.46331996, 79.96720232]]), array([[63.46331996, 84.96720232]])], [array([[60.05130056, 81.43636323]]), array([[65.05130056, 86.43636323]])], [array([[51.3417564 , 72.15948548]]), array([[56.3417564 , 77.15948548]])], [array([[62.52131928, 84.43657603]]), array([[67.52131928, 89.43657603]])], [array([[48.18186655, 68.83072963]]), array([[53.18186655, 73.83072963]])], [array([[61.21162387, 78.63306376]]), array([[66.21162387, 83.63306376]])], [array([[58.93001908, 80.33132418]]), array([[63.93001908, 85.33132418]])], [array([[53.0896211 , 67.80037961]]), array([[58.0896211 , 72.80037961]])], [array([[51.20783702, 73.21437703]]), array([[56.20783702, 78.21437703]])], [array([[55.55564238, 73.95361994]]), array([[60.55564238, 78.95361994]])], [array([[62.77093714, 81.05601783]]), array([[67.77093714, 86.05601783]])], [array([[63.36592951, 71.13225703]]), array([[68.36592951, 76.13225703]])], [array([[50.32953786, 67.94660856]]), array([[55.32953786, 72.94660856]])], [array([[51.27460727, 68.1914244 ]]), array([[56.27460727, 73.1914244 ]])], [array([[57.9863568 , 78.33118758]]), array([[62.9863568 , 83.33118758]])], [array([[62.83286448, 80.232088  ]]), array([[67.83286448, 85.232088  ]])], [array([[64.09825962, 78.42141608]]), array([[69.09825962, 83.42141608]])], [array([[63.82361271, 71.5781245 ]]), array([[68.82361271, 76.5781245 ]])], [array([[10.59363814, 51.90648987]]), array([[15.59363814, 56.90648987]])], [array([[-1.49668313, 43.54665145]]), array([[ 3.50331687, 48.54665145]])], [array([[ 2.75592083, 39.3467719 ]]), array([[ 7.75592083, 44.3467719 ]])], [array([[ 3.90154613, 44.41121454]]), array([[ 8.90154613, 49.41121454]])], [array([[10.00625675, 48.27633468]]), array([[15.00625675, 53.27633468]])], [array([[10.65664092, 51.20439001]]), array([[15.65664092, 56.20439001]])], [array([[ 4.42911524, 55.06234873]]), array([[ 9.42911524, 60.06234873]])], [array([[-0.7057598, 50.9093502]]), array([[ 4.2942402, 55.9093502]])], [array([[10.60183927, 48.67379657]]), array([[15.60183927, 53.67379657]])], [array([[ 2.57122122, 41.46202978]]), array([[ 7.57122122, 46.46202978]])], [array([[21.72159249, 56.86523151]]), array([[26.72159249, 61.86523151]])], [array([[ 7.58930117, 51.34645231]]), array([[12.58930117, 56.34645231]])], [array([[23.91528542, 55.39213327]]), array([[28.91528542, 60.39213327]])], [array([[ 0.96628213, 38.28109566]]), array([[ 5.96628213, 43.28109566]])], [array([[ 3.42508217, 55.06285007]]), array([[ 8.42508217, 60.06285007]])], [array([[ 1.35205818, 45.9221525 ]]), array([[ 6.35205818, 50.9221525 ]])], [array([[26.27879637, 48.1633057 ]]), array([[31.27879637, 53.1633057 ]])], [array([[18.5644363 , 43.81031262]]), array([[23.5644363 , 48.81031262]])], [array([[18.4085269 , 54.19251344]]), array([[23.4085269 , 59.19251344]])], [array([[-0.96963996, 52.5028863 ]]), array([[ 4.03036004, 57.5028863 ]])], [array([[27.17697158, 52.46331309]]), array([[32.17697158, 57.46331309]])], [array([[ 6.63287577, 53.28558657]]), array([[11.63287577, 58.28558657]])], [array([[ 1.49355419, 46.45787052]]), array([[ 6.49355419, 51.45787052]])], [array([[24.84926959, 43.37228297]]), array([[29.84926959, 48.37228297]])], [array([[ 6.84548482, 40.10057144]]), array([[11.84548482, 45.10057144]])], [array([[-0.93835822, 51.07671066]]), array([[ 4.06164178, 56.07671066]])], [array([[ 4.63721536, 42.81093319]]), array([[ 9.63721536, 47.81093319]])], [array([[12.75562162, 38.5672509 ]]), array([[17.75562162, 43.5672509 ]])], [array([[15.14941056, 40.4345715 ]]), array([[20.14941056, 45.4345715 ]])], [array([[15.58986057, 51.4951672 ]]), array([[20.58986057, 56.4951672 ]])], [array([[ 1.46769844, 45.78111976]]), array([[ 6.46769844, 50.78111976]])], [array([[18.63760457, 45.78358539]]), array([[23.63760457, 50.78358539]])], [array([[-0.05134969, 48.21792812]]), array([[ 4.94865031, 53.21792812]])], [array([[17.75004471, 47.79778224]]), array([[22.75004471, 52.79778224]])], [array([[25.89324792, 49.23110081]]), array([[30.89324792, 54.23110081]])], [array([[24.69865554, 40.24949408]]), array([[29.69865554, 45.24949408]])], [array([[ 2.53901407, 53.64782577]]), array([[ 7.53901407, 58.64782577]])], [array([[10.03262827, 40.80708394]]), array([[15.03262827, 45.80708394]])], [array([[25.39774883, 44.45531719]]), array([[30.39774883, 49.45531719]])], [array([[20.27355099, 52.01995971]]), array([[25.27355099, 57.01995971]])], [array([[24.11587664, 49.97344414]]), array([[29.11587664, 54.97344414]])], [array([[20.27733059, 44.47796684]]), array([[25.27733059, 49.47796684]])], [array([[ 6.32790886, 55.41772436]]), array([[11.32790886, 60.41772436]])], [array([[10.91464451, 56.79680094]]), array([[15.91464451, 61.79680094]])], [array([[17.73980344, 49.9339144 ]]), array([[22.73980344, 54.9339144 ]])], [array([[ 1.82763322, 56.48978517]]), array([[ 6.82763322, 61.48978517]])], [array([[11.54745187, 49.06779229]]), array([[16.54745187, 54.06779229]])], [array([[10.33596728, 42.2405396 ]]), array([[15.33596728, 47.2405396 ]])], [array([[24.6980061 , 48.97358973]]), array([[29.6980061 , 53.97358973]])], [array([[-1.41676052, 49.84289827]]), array([[ 3.58323948, 54.84289827]])], [array([[ 7.97270215, 48.04116205]]), array([[12.97270215, 53.04116205]])], [array([[24.19232088, 44.6453952 ]]), array([[29.19232088, 49.6453952 ]])], [array([[24.84751938, 49.96720232]]), array([[29.84751938, 54.96720232]])], [array([[-1.04118396, 56.08874467]]), array([[ 3.95881604, 61.08874467]])], [array([[18.53601061, 57.44645701]]), array([[23.53601061, 62.44645701]])], [array([[ 3.49787474, 40.24271499]]), array([[ 8.49787474, 45.24271499]])], [array([[25.54526843, 51.43636323]]), array([[30.54526843, 56.43636323]])], [array([[ 0.41400501, 52.60926105]]), array([[ 5.41400501, 57.60926105]])], [array([[20.36240947, 55.96049071]]), array([[25.36240947, 60.96049071]])], [array([[19.134218  , 39.98541924]]), array([[24.134218  , 44.98541924]])], [array([[-0.92347612, 38.02421974]]), array([[ 4.07652388, 43.02421974]])], [array([[-0.67911185, 42.42422135]]), array([[ 4.32088815, 47.42422135]])], [array([[23.44081051, 48.27662129]]), array([[28.44081051, 53.27662129]])], [array([[14.53183738, 54.34061785]]), array([[19.53183738, 59.34061785]])], [array([[ 2.10102614, 43.08367358]]), array([[ 7.10102614, 48.08367358]])], [array([[15.48701887, 56.89191497]]), array([[20.48701887, 61.89191497]])], [array([[14.76987636, 37.87294579]]), array([[19.76987636, 42.87294579]])], [array([[21.71834751, 42.15948548]]), array([[26.71834751, 47.15948548]])], [array([[21.90605067, 45.25721288]]), array([[26.90605067, 50.25721288]])], [array([[23.54271378, 52.44243285]]), array([[28.54271378, 57.44243285]])], [array([[14.63096679, 40.22910451]]), array([[19.63096679, 45.22910451]])], [array([[ 0.237613  , 39.92686911]]), array([[ 5.237613  , 44.92686911]])], [array([[-0.20799552, 39.64988258]]), array([[ 4.79200448, 44.64988258]])], [array([[ 5.04557082, 51.75977961]]), array([[10.04557082, 56.75977961]])], [array([[14.73179248, 37.7511196 ]]), array([[19.73179248, 42.7511196 ]])], [array([[ 0.58725411, 56.8455266 ]]), array([[ 5.58725411, 61.8455266 ]])], [array([[14.9749134 , 41.56586469]]), array([[19.9749134 , 46.56586469]])], [array([[ 5.81744659, 52.37651708]]), array([[10.81744659, 57.37651708]])], [array([[ 4.16745495, 49.12717855]]), array([[ 9.16745495, 54.12717855]])], [array([[26.63057968, 54.43657603]]), array([[31.63057968, 59.43657603]])], [array([[ 5.45558502, 47.37539429]]), array([[10.45558502, 52.37539429]])], [array([[16.47871583, 54.07961799]]), array([[21.47871583, 59.07961799]])], [array([[ 3.04695044, 37.87152404]]), array([[ 8.04695044, 42.87152404]])], [array([[ 0.53064217, 47.22690222]]), array([[ 5.53064217, 52.22690222]])], [array([[16.08355439, 48.87702874]]), array([[21.08355439, 53.87702874]])], [array([[ 7.70350987, 57.27232309]]), array([[12.70350987, 62.27232309]])], [array([[15.31261136, 45.10282345]]), array([[20.31261136, 50.10282345]])], [array([[14.47749835, 52.40668862]]), array([[19.47749835, 57.40668862]])], [array([[17.90775391, 42.79839115]]), array([[22.90775391, 47.79839115]])], [array([[ 0.4237102 , 44.90168396]]), array([[ 5.4237102 , 49.90168396]])], [array([[16.7618077, 41.7034802]]), array([[21.7618077, 46.7034802]])], [array([[20.32991106, 38.83072963]]), array([[25.32991106, 43.83072963]])], [array([[ 6.04913786, 53.59509127]]), array([[11.04913786, 58.59509127]])], [array([[ 4.1095942 , 50.28921762]]), array([[ 9.1095942 , 55.28921762]])], [array([[13.71543896, 55.99615941]]), array([[18.71543896, 60.99615941]])], [array([[ 6.13560634, 38.81922181]]), array([[11.13560634, 43.81922181]])], [array([[19.81691294, 52.94356059]]), array([[24.81691294, 57.94356059]])], [array([[24.82665972, 56.13944138]]), array([[29.82665972, 61.13944138]])], [array([[-1.09540438, 42.18724172]]), array([[ 3.90459562, 47.18724172]])], [array([[16.38657235, 56.48032641]]), array([[21.38657235, 61.48032641]])], [array([[26.05510746, 48.63306376]]), array([[31.05510746, 53.63306376]])], [array([[25.05258414, 50.33132418]]), array([[30.05258414, 55.33132418]])], [array([[ 9.81022371, 47.21981334]]), array([[14.81022371, 52.21981334]])], [array([[16.025004  , 48.49095843]]), array([[21.025004  , 53.49095843]])], [array([[25.35926137, 55.87466871]]), array([[30.35926137, 60.87466871]])], [array([[ 9.95139277, 56.76525057]]), array([[14.95139277, 61.76525057]])], [array([[ 3.54471433, 40.02659039]]), array([[ 8.54471433, 45.02659039]])], [array([[ 2.41729558, 47.61324331]]), array([[ 7.41729558, 52.61324331]])], [array([[-0.87578065, 56.45940422]]), array([[ 4.12421935, 61.45940422]])], [array([[22.48634866, 37.80037961]]), array([[27.48634866, 42.80037961]])], [array([[ 3.60969141, 44.14127149]]), array([[ 8.60969141, 49.14127149]])], [array([[ 2.2989085 , 53.68981384]]), array([[ 7.2989085 , 58.68981384]])], [array([[ 8.49736293, 56.30214965]]), array([[13.49736293, 61.30214965]])], [array([[15.37841122, 55.07663969]]), array([[20.37841122, 60.07663969]])], [array([[22.99729892, 55.60784637]]), array([[27.99729892, 60.60784637]])], [array([[11.83652771, 48.42693632]]), array([[16.83652771, 53.42693632]])], [array([[21.65950414, 43.21437703]]), array([[26.65950414, 48.21437703]])], [array([[12.71735216, 49.48220615]]), array([[17.71735216, 54.48220615]])], [array([[-1.04953501, 49.36962816]]), array([[ 3.95046499, 54.36962816]])], [array([[11.07661412, 53.64721058]]), array([[16.07661412, 58.64721058]])], [array([[ 7.64209929, 55.35777417]]), array([[12.64209929, 60.35777417]])], [array([[15.25785924, 41.18020403]]), array([[20.25785924, 46.18020403]])], [array([[21.34994778, 49.74062354]]), array([[26.34994778, 54.74062354]])], [array([[ 0.06336889, 45.9038736 ]]), array([[ 5.06336889, 50.9038736 ]])], [array([[18.19299626, 55.87203556]]), array([[23.19299626, 60.87203556]])], [array([[-1.48834128, 57.03518298]]), array([[ 3.51165872, 62.03518298]])], [array([[ 9.42082913, 56.97567077]]), array([[14.42082913, 61.97567077]])], [array([[16.03676693, 54.07691616]]), array([[21.03676693, 59.07691616]])], [array([[15.16663364, 50.06152397]]), array([[20.16663364, 55.06152397]])], [array([[ 6.78171217, 49.23666681]]), array([[11.78171217, 54.23666681]])], [array([[20.25063115, 54.66627673]]), array([[25.25063115, 59.66627673]])], [array([[20.39738347, 51.46114497]]), array([[25.39738347, 56.46114497]])], [array([[23.56990347, 43.95361994]]), array([[28.56990347, 48.95361994]])], [array([[17.95287493, 46.51747873]]), array([[22.95287493, 51.51747873]])], [array([[ 9.58097981, 45.716227  ]]), array([[14.58097981, 50.716227  ]])], [array([[10.14290792, 43.84767892]]), array([[15.14290792, 48.84767892]])], [array([[16.53566167, 46.10494542]]), array([[21.53566167, 51.10494542]])], [array([[26.74026026, 51.05601783]]), array([[31.74026026, 56.05601783]])], [array([[ 4.25852676, 46.03402019]]), array([[ 9.25852676, 51.03402019]])], [array([[ 8.45704095, 53.45277608]]), array([[13.45704095, 58.45277608]])], [array([[24.01995037, 55.57683912]]), array([[29.01995037, 60.57683912]])], [array([[17.71887456, 42.90416524]]), array([[22.71887456, 47.90416524]])], [array([[ 5.81863434, 54.59795885]]), array([[10.81863434, 59.59795885]])], [array([[13.80372474, 53.54322168]]), array([[18.80372474, 58.54322168]])], [array([[15.102167  , 52.16285051]]), array([[20.102167  , 57.16285051]])], [array([[13.5513372 , 52.91767821]]), array([[18.5513372 , 57.91767821]])], [array([[14.99688173, 46.81419757]]), array([[19.99688173, 51.81419757]])], [array([[ 8.43797833, 38.86418697]]), array([[13.43797833, 43.86418697]])], [array([[ 9.4598012 , 39.09252155]]), array([[14.4598012 , 44.09252155]])], [array([[27.0016963 , 41.13225703]]), array([[32.0016963 , 46.13225703]])], [array([[22.04390223, 54.9992329 ]]), array([[27.04390223, 59.9992329 ]])], [array([[18.46398432, 48.88988825]]), array([[23.46398432, 53.88988825]])], [array([[ 3.16817167, 46.83760046]]), array([[ 8.16817167, 51.83760046]])], [array([[ 8.50998948, 42.00079916]]), array([[13.50998948, 47.00079916]])], [array([[15.68284419, 43.74539675]]), array([[20.68284419, 48.74539675]])], [array([[25.07286105, 55.6927105 ]]), array([[30.07286105, 60.6927105 ]])], [array([[ 5.95643052, 39.71782601]]), array([[10.95643052, 44.71782601]])], [array([[ 4.09591923, 47.49168341]]), array([[ 9.09591923, 52.49168341]])], [array([[19.62898437, 41.66388877]]), array([[24.62898437, 46.66388877]])], [array([[ 5.69297319, 54.5334375 ]]), array([[10.69297319, 59.5334375 ]])], [array([[10.55961283, 49.83370134]]), array([[15.55961283, 54.83370134]])], [array([[ 5.27631804, 39.53934519]]), array([[10.27631804, 44.53934519]])], [array([[13.45985349, 47.04281974]]), array([[18.45985349, 52.04281974]])], [array([[ 2.92747768, 49.93612463]]), array([[ 7.92747768, 54.93612463]])], [array([[14.27629345, 50.58274694]]), array([[19.27629345, 55.58274694]])], [array([[ 2.69182066, 52.53055634]]), array([[ 7.69182066, 57.53055634]])], [array([[ 4.93942505, 47.88703649]]), array([[ 9.93942505, 52.88703649]])], [array([[21.27358482, 37.94660856]]), array([[26.27358482, 42.94660856]])], [array([[ 7.90651133, 54.95844753]]), array([[12.90651133, 59.95844753]])], [array([[22.99657862, 48.26881185]]), array([[27.99657862, 53.26881185]])], [array([[23.63163995, 56.49611983]]), array([[28.63163995, 61.49611983]])], [array([[22.46580293, 54.58230888]]), array([[27.46580293, 59.58230888]])], [array([[ 1.36355865, 50.52608665]]), array([[ 6.36355865, 55.52608665]])], [array([[18.90199266, 49.70481625]]), array([[23.90199266, 54.70481625]])], [array([[21.68884259, 38.1914244 ]]), array([[26.68884259, 43.1914244 ]])], [array([[20.8369233 , 52.13457201]]), array([[25.8369233 , 57.13457201]])], [array([[ 6.03125341, 42.64138598]]), array([[11.03125341, 47.64138598]])], [array([[16.83679621, 44.40594923]]), array([[21.83679621, 49.40594923]])], [array([[21.60107166, 46.42292464]]), array([[26.60107166, 51.42292464]])], [array([[21.19973303, 57.30943567]]), array([[26.19973303, 62.30943567]])], [array([[ 7.20720185, 40.36011657]]), array([[12.20720185, 45.36011657]])], [array([[24.63794465, 48.33118758]]), array([[29.63794465, 53.33118758]])], [array([[26.76747075, 50.232088  ]]), array([[31.76747075, 55.232088  ]])], [array([[27.32347771, 48.42141608]]), array([[32.32347771, 53.42141608]])], [array([[13.76635208, 40.20855806]]), array([[18.76635208, 45.20855806]])], [array([[ 8.81544996, 38.02437135]]), array([[13.81544996, 43.02437135]])], [array([[ 3.15146021, 52.41274385]]), array([[ 8.15146021, 57.41274385]])], [array([[-0.61840899, 44.83086194]]), array([[ 4.38159101, 49.83086194]])], [array([[23.50804133, 51.35355435]]), array([[28.50804133, 56.35355435]])], [array([[18.53732212, 41.27273602]]), array([[23.53732212, 46.27273602]])], [array([[11.31522414, 49.13154815]]), array([[16.31522414, 54.13154815]])], [array([[27.20279952, 41.5781245 ]]), array([[32.20279952, 46.5781245 ]])], [array([[ 5.68425415, 42.74346168]]), array([[10.68425415, 47.74346168]])], [array([[20.25499999, 46.63950655]]), array([[25.25499999, 51.63950655]])], [array([[ 0.15095371, 47.67032481]]), array([[ 5.15095371, 52.67032481]])], [array([[ 4.64684477, 53.4720849 ]]), array([[ 9.64684477, 58.4720849 ]])], [array([[ 7.12261006, 38.05212024]]), array([[12.12261006, 43.05212024]])], [array([[15.70954103, 54.37680858]]), array([[20.70954103, 59.37680858]])], [array([[ 9.5494676 , 52.49716621]]), array([[14.5494676 , 57.49716621]])], [array([[13.32310287, 48.3190361 ]]), array([[18.32310287, 53.3190361 ]])]], 'counter_examples': [None, None, None, None, None, None, None, None, None, None, None, None, None, None, None, None, None, None, None, None, None, None, None, None, None, None, None, None, None, None, None, None, None, None, None, None, None, None, None, None, None, None, None, None, None, None, None, None, None, None, None, None, None, None, None, None, None, None, None, None, None, None, None, None, None, None, None, None, None, None, None, None, None, None, None, None, None, None, None, None, None, None, None, None, None, None, None, None, None, None, None, None, None, None, None, None, None, None, None, None, None, None, None, None, None, None, None, None, None, None, None, None, None, None, None, None, None, None, None, None, None, None, None, None, None, None, None, None, None, None, None, None, None, None, None, None, None, None, None, None, None, None, None, None, None, None, None, None, None, None, None, None, None, None, None, None, None, None, None, None, None, None, None, None, None, None, None, None, None, None, None, None, None, None, None, None, None, None, None, None, None, None, None, None, None, None, None, None, None, None, None, None, None, None, None, None, None, None, None, None, None, None, None, None, None, None, None, None, None, None, None, None, None, None, None, None, None, None, None, None, None, None, None, None, None, None]}\n"
     ]
    }
   ],
   "source": [
    "# 2.5 perturbation\n",
    "# get the 1000 intervals by using l infinity\n",
    "perturbation = 2.5\n",
    "orig_interval_list_600 = get_l_infinity_list(orig_point_list_600, perturbation)\n",
    "orig_interval_list_400 = get_l_infinity_list(orig_points_list_400, perturbation)\n",
    "\n",
    "s_time = time.time()\n",
    "results_600 = certify_model_2_with_1000_intervals_plain_interval_propagation_with_counter_example(orig_interval_list_600, 0)\n",
    "results_400 = certify_model_2_with_1000_intervals_plain_interval_propagation_with_counter_example(orig_interval_list_400, 1)\n",
    "used_time=time.time() - s_time\n",
    "print(used_time)\n",
    "print(results_600)\n",
    "print(results_400)"
   ]
  },
  {
   "cell_type": "code",
   "execution_count": 76,
   "id": "2fbb279d-26af-4010-96df-375438e30db1",
   "metadata": {},
   "outputs": [
    {
     "name": "stdout",
     "output_type": "stream",
     "text": [
      "47.27856230735779\n",
      "{'sat_num': 87, 'counter_interval_list': [[array([[79.88711713, 64.73883026]]), array([[85.88711713, 70.73883026]])], [array([[81.58877416, 66.08735258]]), array([[87.58877416, 72.08735258]])], [array([[84.27755023, 71.32784358]]), array([[90.27755023, 77.32784358]])], [array([[78.95068154, 70.16118366]]), array([[84.95068154, 76.16118366]])], [array([[77.26896113, 68.63722976]]), array([[83.26896113, 74.63722976]])], [array([[88.7452476 , 73.79653663]]), array([[94.7452476 , 79.79653663]])], [array([[86.95790761, 71.68927687]]), array([[92.95790761, 77.68927687]])], [array([[78.22356275, 71.51300108]]), array([[84.22356275, 77.51300108]])], [array([[82.39516096, 73.13482774]]), array([[88.39516096, 79.13482774]])], [array([[83.71288542, 71.20795216]]), array([[89.71288542, 77.20795216]])], [array([[77.36592169, 70.04573605]]), array([[83.36592169, 76.04573605]])], [array([[82.8605231 , 69.44816866]]), array([[88.8605231 , 75.44816866]])], [array([[77.00683442, 72.23369533]]), array([[83.00683442, 78.23369533]])], [array([[83.40186535, 72.00754892]]), array([[89.40186535, 78.00754892]])], [array([[7.00423187, 0.51166286]]), array([[13.00423187,  6.51166286]])], [array([[12.42996796, -0.53830703]]), array([[18.42996796,  5.46169297]])], [array([[13.89162782,  0.72780364]]), array([[19.89162782,  6.72780364]])], [array([[14.56473324,  3.39058718]]), array([[20.56473324,  9.39058718]])], [array([[8.01334095, 2.35233755]]), array([[14.01334095,  8.35233755]])], [array([[ 1.21943167e+01, -9.49255458e-03]]), array([[18.19431673,  5.99050745]])], [array([[18.59669459,  2.46161308]]), array([[24.59669459,  8.46161308]])], [array([[10.14663582, -0.80472608]]), array([[16.14663582,  5.19527392]])], [array([[13.28372552,  3.39071252]]), array([[19.28372552,  9.39071252]])], [array([[10.63883285,  1.10553813]]), array([[16.63883285,  7.10553813]])], [array([[7.67666626, 2.75072157]]), array([[13.67666626,  8.75072157]])], [array([[17.37642771,  2.94639664]]), array([[23.37642771,  8.94639664]])], [array([[10.81936224,  1.23946763]]), array([[16.81936224,  7.23946763]])], [array([[17.64768753, -0.34985714]]), array([[23.64768753,  5.65014286]])], [array([[7.71657744, 2.39417766]]), array([[13.71657744,  8.39417766]])], [array([[14.83024029,  0.3277333 ]]), array([[20.83024029,  6.3277333 ]])], [array([[10.78637387,  1.07027994]]), array([[16.78637387,  7.07027994]])], [array([[8.84827798, 1.67948203]]), array([[14.84827798,  7.67948203]])], [array([[12.15322485,  3.03695644]]), array([[18.15322485,  9.03695644]])], [array([[16.987332  ,  3.47943109]]), array([[22.987332  ,  9.47943109]])], [array([[11.245601  ,  3.74744629]]), array([[17.245601  ,  9.74744629]])], [array([[7.1062021 , 2.08572457]]), array([[13.1062021 ,  8.08572457]])], [array([[7.58538599, 3.64718617]]), array([[13.58538599,  9.64718617]])], [array([[13.37659881, -0.31432125]]), array([[19.37659881,  5.68567875]])], [array([[9.44200639, 2.77731526]]), array([[15.44200639,  8.77731526]])], [array([[ 7.73556495, -0.86894507]]), array([[13.73556495,  5.13105493]])], [array([[8.04734006, 0.23105534]]), array([[14.04734006,  6.23105534]])], [array([[11.59441266,  0.3959184 ]]), array([[17.59441266,  6.3959184 ]])], [array([[ 9.21695451, -0.39328272]]), array([[15.21695451,  5.60671728]])], [array([[ 8.64841951, -0.46252935]]), array([[14.64841951,  5.53747065]])], [array([[15.35124553,  2.5649449 ]]), array([[21.35124553,  8.5649449 ]])], [array([[9.66304835, 3.83638165]]), array([[15.66304835,  9.83638165]])], [array([[16.33605255,  2.71912927]]), array([[22.33605255,  8.71912927]])], [array([[14.2308908 ,  1.90679464]]), array([[20.2308908 ,  7.90679464]])], [array([[15.87436709,  1.46884857]]), array([[21.87436709,  7.46884857]])], [array([[12.8012816 , -0.90711899]]), array([[18.8012816 ,  5.09288101]])], [array([[9.59081932, 1.43172555]]), array([[15.59081932,  7.43172555]])], [array([[18.74240914,  3.94308077]]), array([[24.74240914,  9.94308077]])], [array([[9.45438887, 0.85042099]]), array([[15.45438887,  6.85042099]])], [array([[16.63165865,  3.02377282]]), array([[22.63165865,  9.02377282]])], [array([[14.15706846,  2.1973044 ]]), array([[20.15706846,  8.1973044 ]])], [array([[16.74198051, -0.67019455]]), array([[22.74198051,  5.32980545]])], [array([[7.5162082 , 0.17181043]]), array([[13.5162082 ,  6.17181043]])], [array([[13.43635967, -0.3683524 ]]), array([[19.43635967,  5.6316476 ]])], [array([[11.99792885,  1.52831083]]), array([[17.99792885,  7.52831083]])], [array([[7.7964178 , 3.73985106]]), array([[13.7964178 ,  9.73985106]])], [array([[13.51926146,  0.66031787]]), array([[19.51926146,  6.66031787]])], [array([[11.84688326,  3.04745346]]), array([[17.84688326,  9.04745346]])], [array([[7.5747312 , 1.96740704]]), array([[13.5747312 ,  7.96740704]])], [array([[18.66405771,  3.46444354]]), array([[24.66405771,  9.46444354]])], [array([[8.99464307, 1.1009684 ]]), array([[14.99464307,  7.1009684 ]])], [array([[7.01487492, 3.88379575]]), array([[13.01487492,  9.88379575]])], [array([[17.56632242,  1.9341667 ]]), array([[23.56632242,  7.9341667 ]])], [array([[14.34708587,  1.13350505]]), array([[20.34708587,  7.13350505]])], [array([[16.33756796,  3.27448971]]), array([[22.33756796,  9.27448971]])], [array([[12.95594316,  1.33440011]]), array([[18.95594316,  7.33440011]])], [array([[16.51337687, -0.4455435 ]]), array([[22.51337687,  5.5544565 ]])], [array([[14.13962108,  1.49792085]]), array([[20.13962108,  7.49792085]])], [array([[16.17724166,  3.25835937]]), array([[22.17724166,  9.25835937]])], [array([[15.64564715, -0.4901637 ]]), array([[21.64564715,  5.5098363 ]])], [array([[12.64885083,  2.10903116]]), array([[18.64885083,  8.10903116]])], [array([[12.34818498,  2.75763909]]), array([[18.34818498,  8.75763909]])], [array([[15.21581817,  1.59675912]]), array([[21.21581817,  7.59675912]])], [array([[19.00141101,  3.36461188]]), array([[25.00141101,  9.36461188]])], [array([[10.65350587,  2.25652166]]), array([[16.65350587,  8.25652166]])], [array([[16.60884055,  0.28534649]]), array([[22.60884055,  6.28534649]])], [array([[18.10918856, -0.28497086]]), array([[24.10918856,  5.71502914]])], [array([[12.93462164,  2.72818596]]), array([[18.93462164,  8.72818596]])], [array([[8.12478853, 0.83271549]]), array([[14.12478853,  6.83271549]])], [array([[16.16611737,  0.31086542]]), array([[22.16611737,  6.31086542]])], [array([[9.10638922, 1.5425812 ]]), array([[15.10638922,  7.5425812 ]])], [array([[14.84252609,  2.99302122]]), array([[20.84252609,  8.99302122]])], [array([[18.00126112, -0.86196994]]), array([[24.00126112,  5.13803006]])]], 'counter_examples': [None, None, None, None, None, None, None, None, None, None, None, None, None, None, None, None, None, None, None, None, None, None, None, None, None, None, None, None, None, None, None, None, None, None, None, None, None, None, None, None, None, None, None, None, None, None, None, None, None, None, None, None, None, None, None, None, None, None, None, None, None, None, None, None, None, None, None, None, None, None, None, None, None, None, None, None, None, None, None, None, None, None, None, None, None, None, None]}\n",
      "{'sat_num': 291, 'counter_interval_list': [[array([[ 7.68588879, 68.8467719 ]]), array([[13.68588879, 74.8467719 ]])], [array([[10.29317395, 73.91121454]]), array([[16.29317395, 79.91121454]])], [array([[ 7.26553795, 70.96202978]]), array([[13.26553795, 76.96202978]])], [array([[ 3.61291795, 67.78109566]]), array([[ 9.61291795, 73.78109566]])], [array([[61.22070899, 77.6633057 ]]), array([[67.22070899, 83.6633057 ]])], [array([[63.26483187, 81.96331309]]), array([[69.26483187, 87.96331309]])], [array([[57.9673032 , 72.87228297]]), array([[63.9673032 , 78.87228297]])], [array([[16.99317235, 69.60057144]]), array([[22.99317235, 75.60057144]])], [array([[11.96745566, 72.31093319]]), array([[17.96745566, 78.31093319]])], [array([[30.44382851, 68.0672509 ]]), array([[36.44382851, 74.0672509 ]])], [array([[35.89176196, 69.9345715 ]]), array([[41.89176196, 75.9345715 ]])], [array([[60.3432539 , 78.73110081]]), array([[66.3432539 , 84.73110081]])], [array([[57.62452641, 69.74949408]]), array([[63.62452641, 75.74949408]])], [array([[24.24667124, 70.30708394]]), array([[30.24667124, 76.30708394]])], [array([[59.21556631, 73.95531719]]), array([[65.21556631, 79.95531719]])], [array([[56.29820202, 79.47344414]]), array([[62.29820202, 85.47344414]])], [array([[47.56220065, 73.97796684]]), array([[53.56220065, 79.97796684]])], [array([[24.93702898, 71.7405396 ]]), array([[30.93702898, 77.7405396 ]])], [array([[57.62304836, 78.47358973]]), array([[63.62304836, 84.47358973]])], [array([[56.47217855, 74.1453952 ]]), array([[62.47217855, 80.1453952 ]])], [array([[57.96331996, 79.46720232]]), array([[63.96331996, 85.46720232]])], [array([[ 9.37447355, 69.74271499]]), array([[15.37447355, 75.74271499]])], [array([[59.55130056, 80.93636323]]), array([[65.55130056, 86.93636323]])], [array([[44.96063407, 69.48541924]]), array([[50.96063407, 75.48541924]])], [array([[-0.68791117, 67.52421974]]), array([[ 5.31208883, 73.52421974]])], [array([[54.76184461, 77.77662129]]), array([[60.76184461, 83.77662129]])], [array([[ 6.1954388 , 72.58367358]]), array([[12.1954388 , 78.58367358]])], [array([[35.02799447, 67.37294579]]), array([[41.02799447, 73.37294579]])], [array([[50.8417564 , 71.65948548]]), array([[56.8417564 , 77.65948548]])], [array([[51.26894291, 74.75721288]]), array([[57.26894291, 80.75721288]])], [array([[54.9937624 , 81.94243285]]), array([[60.9937624 , 87.94243285]])], [array([[34.71185544, 69.72910451]]), array([[40.71185544, 75.72910451]])], [array([[ 1.95456751, 69.42686911]]), array([[ 7.95456751, 75.42686911]])], [array([[ 0.94042398, 69.14988258]]), array([[ 6.94042398, 75.14988258]])], [array([[34.94132082, 67.2511196 ]]), array([[40.94132082, 73.2511196 ]])], [array([[35.49463049, 71.06586469]]), array([[41.49463049, 77.06586469]])], [array([[10.89834575, 78.62717855]]), array([[16.89834575, 84.62717855]])], [array([[62.02131928, 83.93657603]]), array([[68.02131928, 89.93657603]])], [array([[13.8299521 , 76.87539429]]), array([[19.8299521 , 82.87539429]])], [array([[ 8.34823205, 67.37152404]]), array([[14.34823205, 73.37152404]])], [array([[38.01774447, 78.37702874]]), array([[44.01774447, 84.37702874]])], [array([[36.26318447, 74.60282345]]), array([[42.26318447, 80.60282345]])], [array([[39.56135546, 71.2034802 ]]), array([[45.56135546, 77.2034802 ]])], [array([[47.68186655, 68.33072963]]), array([[53.68186655, 74.33072963]])], [array([[15.37758685, 68.31922181]]), array([[21.37758685, 74.31922181]])], [array([[60.71162387, 78.13306376]]), array([[66.71162387, 84.13306376]])], [array([[58.43001908, 79.83132418]]), array([[64.43001908, 85.83132418]])], [array([[37.88449187, 77.99095843]]), array([[43.88449187, 83.99095843]])], [array([[59.12797416, 85.37466871]]), array([[65.12797416, 91.37466871]])], [array([[ 9.481074  , 69.52659039]]), array([[15.481074  , 75.52659039]])], [array([[52.5896211 , 67.30037961]]), array([[58.5896211 , 73.30037961]])], [array([[ 9.62895287, 73.64127149]]), array([[15.62895287, 79.64127149]])], [array([[50.70783702, 72.71437703]]), array([[56.70783702, 78.71437703]])], [array([[36.13857621, 70.68020403]]), array([[42.13857621, 76.68020403]])], [array([[55.05564238, 73.45361994]]), array([[61.05564238, 79.45361994]])], [array([[23.21878163, 75.216227  ]]), array([[29.21878163, 81.216227  ]])], [array([[24.49765251, 73.34767892]]), array([[30.49765251, 79.34767892]])], [array([[39.04667828, 75.60494542]]), array([[45.04667828, 81.60494542]])], [array([[62.27093714, 80.55601783]]), array([[68.27093714, 86.55601783]])], [array([[11.10561264, 75.53402019]]), array([[17.10561264, 81.53402019]])], [array([[35.54462739, 76.31419757]]), array([[41.54462739, 82.31419757]])], [array([[20.61746792, 68.36418697]]), array([[26.61746792, 74.36418697]])], [array([[22.94299584, 68.59252155]]), array([[28.94299584, 74.59252155]])], [array([[62.86592951, 70.63225703]]), array([[68.86592951, 76.63225703]])], [array([[ 8.62411483, 76.33760046]]), array([[14.62411483, 82.33760046]])], [array([[20.78135538, 71.50079916]]), array([[26.78135538, 77.50079916]])], [array([[37.10578334, 73.24539675]]), array([[43.10578334, 79.24539675]])], [array([[58.47616653, 85.1927105 ]]), array([[64.47616653, 91.1927105 ]])], [array([[14.96980739, 69.21782601]]), array([[20.96980739, 75.21782601]])], [array([[10.73554031, 76.99168341]]), array([[16.73554031, 82.99168341]])], [array([[46.08665409, 71.16388877]]), array([[52.08665409, 77.16388877]])], [array([[13.42196519, 69.03934519]]), array([[19.42196519, 75.03934519]])], [array([[32.04656312, 76.54281974]]), array([[38.04656312, 82.54281974]])], [array([[12.65524323, 77.38703649]]), array([[18.65524323, 83.38703649]])], [array([[49.82953786, 67.44660856]]), array([[55.82953786, 73.44660856]])], [array([[53.7508341 , 77.76881185]]), array([[59.7508341 , 83.76881185]])], [array([[50.77460727, 67.6914244 ]]), array([[56.77460727, 73.6914244 ]])], [array([[15.14009396, 72.14138598]]), array([[21.14009396, 78.14138598]])], [array([[39.73201895, 73.90594923]]), array([[45.73201895, 79.90594923]])], [array([[50.57485275, 75.92292464]]), array([[56.57485275, 81.92292464]])], [array([[17.81639041, 69.86011657]]), array([[23.81639041, 75.86011657]])], [array([[57.4863568 , 77.83118758]]), array([[63.4863568 , 83.83118758]])], [array([[62.33286448, 79.732088  ]]), array([[68.33286448, 85.732088  ]])], [array([[63.59825962, 77.92141608]]), array([[69.59825962, 83.92141608]])], [array([[32.74411164, 69.70855806]]), array([[38.74411164, 75.70855806]])], [array([[21.47654128, 67.52437135]]), array([[27.47654128, 73.52437135]])], [array([[54.91485269, 80.85355435]]), array([[60.91485269, 86.85355435]])], [array([[43.60218138, 70.77273602]]), array([[49.60218138, 76.77273602]])], [array([[63.32361271, 71.0781245 ]]), array([[69.32361271, 77.0781245 ]])], [array([[14.35037152, 72.24346168]]), array([[20.35037152, 78.24346168]])], [array([[17.62387118, 67.55212024]]), array([[23.62387118, 73.55212024]])], [array([[10.09363814, 51.40648987]]), array([[16.09363814, 57.40648987]])], [array([[-1.99668313, 43.04665145]]), array([[ 4.00331687, 49.04665145]])], [array([[ 2.25592083, 38.8467719 ]]), array([[ 8.25592083, 44.8467719 ]])], [array([[ 3.40154613, 43.91121454]]), array([[ 9.40154613, 49.91121454]])], [array([[ 9.50625675, 47.77633468]]), array([[15.50625675, 53.77633468]])], [array([[10.15664092, 50.70439001]]), array([[16.15664092, 56.70439001]])], [array([[ 3.92911524, 54.56234873]]), array([[ 9.92911524, 60.56234873]])], [array([[-1.2057598, 50.4093502]]), array([[ 4.7942402, 56.4093502]])], [array([[10.10183927, 48.17379657]]), array([[16.10183927, 54.17379657]])], [array([[ 2.07122122, 40.96202978]]), array([[ 8.07122122, 46.96202978]])], [array([[21.22159249, 56.36523151]]), array([[27.22159249, 62.36523151]])], [array([[ 7.08930117, 50.84645231]]), array([[13.08930117, 56.84645231]])], [array([[23.41528542, 54.89213327]]), array([[29.41528542, 60.89213327]])], [array([[ 0.46628213, 37.78109566]]), array([[ 6.46628213, 43.78109566]])], [array([[ 2.92508217, 54.56285007]]), array([[ 8.92508217, 60.56285007]])], [array([[ 0.85205818, 45.4221525 ]]), array([[ 6.85205818, 51.4221525 ]])], [array([[25.77879637, 47.6633057 ]]), array([[31.77879637, 53.6633057 ]])], [array([[18.0644363 , 43.31031262]]), array([[24.0644363 , 49.31031262]])], [array([[17.9085269 , 53.69251344]]), array([[23.9085269 , 59.69251344]])], [array([[-1.46963996, 52.0028863 ]]), array([[ 4.53036004, 58.0028863 ]])], [array([[26.67697158, 51.96331309]]), array([[32.67697158, 57.96331309]])], [array([[ 6.13287577, 52.78558657]]), array([[12.13287577, 58.78558657]])], [array([[ 0.99355419, 45.95787052]]), array([[ 6.99355419, 51.95787052]])], [array([[24.34926959, 42.87228297]]), array([[30.34926959, 48.87228297]])], [array([[ 6.34548482, 39.60057144]]), array([[12.34548482, 45.60057144]])], [array([[-1.43835822, 50.57671066]]), array([[ 4.56164178, 56.57671066]])], [array([[ 4.13721536, 42.31093319]]), array([[10.13721536, 48.31093319]])], [array([[12.25562162, 38.0672509 ]]), array([[18.25562162, 44.0672509 ]])], [array([[14.64941056, 39.9345715 ]]), array([[20.64941056, 45.9345715 ]])], [array([[15.08986057, 50.9951672 ]]), array([[21.08986057, 56.9951672 ]])], [array([[ 0.96769844, 45.28111976]]), array([[ 6.96769844, 51.28111976]])], [array([[18.13760457, 45.28358539]]), array([[24.13760457, 51.28358539]])], [array([[-0.55134969, 47.71792812]]), array([[ 5.44865031, 53.71792812]])], [array([[17.25004471, 47.29778224]]), array([[23.25004471, 53.29778224]])], [array([[25.39324792, 48.73110081]]), array([[31.39324792, 54.73110081]])], [array([[24.19865554, 39.74949408]]), array([[30.19865554, 45.74949408]])], [array([[ 2.03901407, 53.14782577]]), array([[ 8.03901407, 59.14782577]])], [array([[ 9.53262827, 40.30708394]]), array([[15.53262827, 46.30708394]])], [array([[24.89774883, 43.95531719]]), array([[30.89774883, 49.95531719]])], [array([[19.77355099, 51.51995971]]), array([[25.77355099, 57.51995971]])], [array([[23.61587664, 49.47344414]]), array([[29.61587664, 55.47344414]])], [array([[19.77733059, 43.97796684]]), array([[25.77733059, 49.97796684]])], [array([[ 5.82790886, 54.91772436]]), array([[11.82790886, 60.91772436]])], [array([[10.41464451, 56.29680094]]), array([[16.41464451, 62.29680094]])], [array([[17.23980344, 49.4339144 ]]), array([[23.23980344, 55.4339144 ]])], [array([[ 1.32763322, 55.98978517]]), array([[ 7.32763322, 61.98978517]])], [array([[11.04745187, 48.56779229]]), array([[17.04745187, 54.56779229]])], [array([[ 9.83596728, 41.7405396 ]]), array([[15.83596728, 47.7405396 ]])], [array([[24.1980061 , 48.47358973]]), array([[30.1980061 , 54.47358973]])], [array([[-1.91676052, 49.34289827]]), array([[ 4.08323948, 55.34289827]])], [array([[ 7.47270215, 47.54116205]]), array([[13.47270215, 53.54116205]])], [array([[23.69232088, 44.1453952 ]]), array([[29.69232088, 50.1453952 ]])], [array([[24.34751938, 49.46720232]]), array([[30.34751938, 55.46720232]])], [array([[-1.54118396, 55.58874467]]), array([[ 4.45881604, 61.58874467]])], [array([[18.03601061, 56.94645701]]), array([[24.03601061, 62.94645701]])], [array([[ 2.99787474, 39.74271499]]), array([[ 8.99787474, 45.74271499]])], [array([[25.04526843, 50.93636323]]), array([[31.04526843, 56.93636323]])], [array([[-0.08599499, 52.10926105]]), array([[ 5.91400501, 58.10926105]])], [array([[19.86240947, 55.46049071]]), array([[25.86240947, 61.46049071]])], [array([[18.634218  , 39.48541924]]), array([[24.634218  , 45.48541924]])], [array([[-1.42347612, 37.52421974]]), array([[ 4.57652388, 43.52421974]])], [array([[-1.17911185, 41.92422135]]), array([[ 4.82088815, 47.92422135]])], [array([[22.94081051, 47.77662129]]), array([[28.94081051, 53.77662129]])], [array([[14.03183738, 53.84061785]]), array([[20.03183738, 59.84061785]])], [array([[ 1.60102614, 42.58367358]]), array([[ 7.60102614, 48.58367358]])], [array([[14.98701887, 56.39191497]]), array([[20.98701887, 62.39191497]])], [array([[14.26987636, 37.37294579]]), array([[20.26987636, 43.37294579]])], [array([[21.21834751, 41.65948548]]), array([[27.21834751, 47.65948548]])], [array([[21.40605067, 44.75721288]]), array([[27.40605067, 50.75721288]])], [array([[23.04271378, 51.94243285]]), array([[29.04271378, 57.94243285]])], [array([[14.13096679, 39.72910451]]), array([[20.13096679, 45.72910451]])], [array([[-0.262387  , 39.42686911]]), array([[ 5.737613  , 45.42686911]])], [array([[-0.70799552, 39.14988258]]), array([[ 5.29200448, 45.14988258]])], [array([[ 4.54557082, 51.25977961]]), array([[10.54557082, 57.25977961]])], [array([[14.23179248, 37.2511196 ]]), array([[20.23179248, 43.2511196 ]])], [array([[ 0.08725411, 56.3455266 ]]), array([[ 6.08725411, 62.3455266 ]])], [array([[14.4749134 , 41.06586469]]), array([[20.4749134 , 47.06586469]])], [array([[ 5.31744659, 51.87651708]]), array([[11.31744659, 57.87651708]])], [array([[ 3.66745495, 48.62717855]]), array([[ 9.66745495, 54.62717855]])], [array([[26.13057968, 53.93657603]]), array([[32.13057968, 59.93657603]])], [array([[ 4.95558502, 46.87539429]]), array([[10.95558502, 52.87539429]])], [array([[15.97871583, 53.57961799]]), array([[21.97871583, 59.57961799]])], [array([[ 2.54695044, 37.37152404]]), array([[ 8.54695044, 43.37152404]])], [array([[3.06421679e-02, 4.67269022e+01]]), array([[ 6.03064217, 52.72690222]])], [array([[15.58355439, 48.37702874]]), array([[21.58355439, 54.37702874]])], [array([[ 7.20350987, 56.77232309]]), array([[13.20350987, 62.77232309]])], [array([[14.81261136, 44.60282345]]), array([[20.81261136, 50.60282345]])], [array([[13.97749835, 51.90668862]]), array([[19.97749835, 57.90668862]])], [array([[17.40775391, 42.29839115]]), array([[23.40775391, 48.29839115]])], [array([[-0.0762898 , 44.40168396]]), array([[ 5.9237102 , 50.40168396]])], [array([[16.2618077, 41.2034802]]), array([[22.2618077, 47.2034802]])], [array([[19.82991106, 38.33072963]]), array([[25.82991106, 44.33072963]])], [array([[ 5.54913786, 53.09509127]]), array([[11.54913786, 59.09509127]])], [array([[ 3.6095942 , 49.78921762]]), array([[ 9.6095942 , 55.78921762]])], [array([[13.21543896, 55.49615941]]), array([[19.21543896, 61.49615941]])], [array([[ 5.63560634, 38.31922181]]), array([[11.63560634, 44.31922181]])], [array([[19.31691294, 52.44356059]]), array([[25.31691294, 58.44356059]])], [array([[24.32665972, 55.63944138]]), array([[30.32665972, 61.63944138]])], [array([[-1.59540438, 41.68724172]]), array([[ 4.40459562, 47.68724172]])], [array([[15.88657235, 55.98032641]]), array([[21.88657235, 61.98032641]])], [array([[25.55510746, 48.13306376]]), array([[31.55510746, 54.13306376]])], [array([[24.55258414, 49.83132418]]), array([[30.55258414, 55.83132418]])], [array([[ 9.31022371, 46.71981334]]), array([[15.31022371, 52.71981334]])], [array([[15.525004  , 47.99095843]]), array([[21.525004  , 53.99095843]])], [array([[24.85926137, 55.37466871]]), array([[30.85926137, 61.37466871]])], [array([[ 9.45139277, 56.26525057]]), array([[15.45139277, 62.26525057]])], [array([[ 3.04471433, 39.52659039]]), array([[ 9.04471433, 45.52659039]])], [array([[ 1.91729558, 47.11324331]]), array([[ 7.91729558, 53.11324331]])], [array([[-1.37578065, 55.95940422]]), array([[ 4.62421935, 61.95940422]])], [array([[21.98634866, 37.30037961]]), array([[27.98634866, 43.30037961]])], [array([[ 3.10969141, 43.64127149]]), array([[ 9.10969141, 49.64127149]])], [array([[ 1.7989085 , 53.18981384]]), array([[ 7.7989085 , 59.18981384]])], [array([[ 7.99736293, 55.80214965]]), array([[13.99736293, 61.80214965]])], [array([[14.87841122, 54.57663969]]), array([[20.87841122, 60.57663969]])], [array([[22.49729892, 55.10784637]]), array([[28.49729892, 61.10784637]])], [array([[11.33652771, 47.92693632]]), array([[17.33652771, 53.92693632]])], [array([[21.15950414, 42.71437703]]), array([[27.15950414, 48.71437703]])], [array([[12.21735216, 48.98220615]]), array([[18.21735216, 54.98220615]])], [array([[-1.54953501, 48.86962816]]), array([[ 4.45046499, 54.86962816]])], [array([[10.57661412, 53.14721058]]), array([[16.57661412, 59.14721058]])], [array([[ 7.14209929, 54.85777417]]), array([[13.14209929, 60.85777417]])], [array([[14.75785924, 40.68020403]]), array([[20.75785924, 46.68020403]])], [array([[20.84994778, 49.24062354]]), array([[26.84994778, 55.24062354]])], [array([[-0.43663111, 45.4038736 ]]), array([[ 5.56336889, 51.4038736 ]])], [array([[17.69299626, 55.37203556]]), array([[23.69299626, 61.37203556]])], [array([[-1.98834128, 56.53518298]]), array([[ 4.01165872, 62.53518298]])], [array([[ 8.92082913, 56.47567077]]), array([[14.92082913, 62.47567077]])], [array([[15.53676693, 53.57691616]]), array([[21.53676693, 59.57691616]])], [array([[14.66663364, 49.56152397]]), array([[20.66663364, 55.56152397]])], [array([[ 6.28171217, 48.73666681]]), array([[12.28171217, 54.73666681]])], [array([[19.75063115, 54.16627673]]), array([[25.75063115, 60.16627673]])], [array([[19.89738347, 50.96114497]]), array([[25.89738347, 56.96114497]])], [array([[23.06990347, 43.45361994]]), array([[29.06990347, 49.45361994]])], [array([[17.45287493, 46.01747873]]), array([[23.45287493, 52.01747873]])], [array([[ 9.08097981, 45.216227  ]]), array([[15.08097981, 51.216227  ]])], [array([[ 9.64290792, 43.34767892]]), array([[15.64290792, 49.34767892]])], [array([[16.03566167, 45.60494542]]), array([[22.03566167, 51.60494542]])], [array([[26.24026026, 50.55601783]]), array([[32.24026026, 56.55601783]])], [array([[ 3.75852676, 45.53402019]]), array([[ 9.75852676, 51.53402019]])], [array([[ 7.95704095, 52.95277608]]), array([[13.95704095, 58.95277608]])], [array([[23.51995037, 55.07683912]]), array([[29.51995037, 61.07683912]])], [array([[17.21887456, 42.40416524]]), array([[23.21887456, 48.40416524]])], [array([[ 5.31863434, 54.09795885]]), array([[11.31863434, 60.09795885]])], [array([[13.30372474, 53.04322168]]), array([[19.30372474, 59.04322168]])], [array([[14.602167  , 51.66285051]]), array([[20.602167  , 57.66285051]])], [array([[13.0513372 , 52.41767821]]), array([[19.0513372 , 58.41767821]])], [array([[14.49688173, 46.31419757]]), array([[20.49688173, 52.31419757]])], [array([[ 7.93797833, 38.36418697]]), array([[13.93797833, 44.36418697]])], [array([[ 8.9598012 , 38.59252155]]), array([[14.9598012 , 44.59252155]])], [array([[26.5016963 , 40.63225703]]), array([[32.5016963 , 46.63225703]])], [array([[21.54390223, 54.4992329 ]]), array([[27.54390223, 60.4992329 ]])], [array([[17.96398432, 48.38988825]]), array([[23.96398432, 54.38988825]])], [array([[ 2.66817167, 46.33760046]]), array([[ 8.66817167, 52.33760046]])], [array([[ 8.00998948, 41.50079916]]), array([[14.00998948, 47.50079916]])], [array([[15.18284419, 43.24539675]]), array([[21.18284419, 49.24539675]])], [array([[24.57286105, 55.1927105 ]]), array([[30.57286105, 61.1927105 ]])], [array([[ 5.45643052, 39.21782601]]), array([[11.45643052, 45.21782601]])], [array([[ 3.59591923, 46.99168341]]), array([[ 9.59591923, 52.99168341]])], [array([[19.12898437, 41.16388877]]), array([[25.12898437, 47.16388877]])], [array([[ 5.19297319, 54.0334375 ]]), array([[11.19297319, 60.0334375 ]])], [array([[10.05961283, 49.33370134]]), array([[16.05961283, 55.33370134]])], [array([[ 4.77631804, 39.03934519]]), array([[10.77631804, 45.03934519]])], [array([[12.95985349, 46.54281974]]), array([[18.95985349, 52.54281974]])], [array([[ 2.42747768, 49.43612463]]), array([[ 8.42747768, 55.43612463]])], [array([[13.77629345, 50.08274694]]), array([[19.77629345, 56.08274694]])], [array([[ 2.19182066, 52.03055634]]), array([[ 8.19182066, 58.03055634]])], [array([[ 4.43942505, 47.38703649]]), array([[10.43942505, 53.38703649]])], [array([[20.77358482, 37.44660856]]), array([[26.77358482, 43.44660856]])], [array([[ 7.40651133, 54.45844753]]), array([[13.40651133, 60.45844753]])], [array([[22.49657862, 47.76881185]]), array([[28.49657862, 53.76881185]])], [array([[23.13163995, 55.99611983]]), array([[29.13163995, 61.99611983]])], [array([[21.96580293, 54.08230888]]), array([[27.96580293, 60.08230888]])], [array([[ 0.86355865, 50.02608665]]), array([[ 6.86355865, 56.02608665]])], [array([[18.40199266, 49.20481625]]), array([[24.40199266, 55.20481625]])], [array([[21.18884259, 37.6914244 ]]), array([[27.18884259, 43.6914244 ]])], [array([[20.3369233 , 51.63457201]]), array([[26.3369233 , 57.63457201]])], [array([[ 5.53125341, 42.14138598]]), array([[11.53125341, 48.14138598]])], [array([[16.33679621, 43.90594923]]), array([[22.33679621, 49.90594923]])], [array([[21.10107166, 45.92292464]]), array([[27.10107166, 51.92292464]])], [array([[20.69973303, 56.80943567]]), array([[26.69973303, 62.80943567]])], [array([[ 6.70720185, 39.86011657]]), array([[12.70720185, 45.86011657]])], [array([[24.13794465, 47.83118758]]), array([[30.13794465, 53.83118758]])], [array([[26.26747075, 49.732088  ]]), array([[32.26747075, 55.732088  ]])], [array([[26.82347771, 47.92141608]]), array([[32.82347771, 53.92141608]])], [array([[13.26635208, 39.70855806]]), array([[19.26635208, 45.70855806]])], [array([[ 8.31544996, 37.52437135]]), array([[14.31544996, 43.52437135]])], [array([[ 2.65146021, 51.91274385]]), array([[ 8.65146021, 57.91274385]])], [array([[-1.11840899, 44.33086194]]), array([[ 4.88159101, 50.33086194]])], [array([[23.00804133, 50.85355435]]), array([[29.00804133, 56.85355435]])], [array([[18.03732212, 40.77273602]]), array([[24.03732212, 46.77273602]])], [array([[10.81522414, 48.63154815]]), array([[16.81522414, 54.63154815]])], [array([[26.70279952, 41.0781245 ]]), array([[32.70279952, 47.0781245 ]])], [array([[ 5.18425415, 42.24346168]]), array([[11.18425415, 48.24346168]])], [array([[19.75499999, 46.13950655]]), array([[25.75499999, 52.13950655]])], [array([[-0.34904629, 47.17032481]]), array([[ 5.65095371, 53.17032481]])], [array([[ 4.14684477, 52.9720849 ]]), array([[10.14684477, 58.9720849 ]])], [array([[ 6.62261006, 37.55212024]]), array([[12.62261006, 43.55212024]])], [array([[15.20954103, 53.87680858]]), array([[21.20954103, 59.87680858]])], [array([[ 9.0494676 , 51.99716621]]), array([[15.0494676 , 57.99716621]])], [array([[12.82310287, 47.8190361 ]]), array([[18.82310287, 53.8190361 ]])]], 'counter_examples': [None, None, None, None, None, None, None, None, None, None, None, None, None, None, None, None, None, None, None, None, None, None, None, None, None, None, None, None, None, None, None, None, None, None, None, None, None, None, None, None, None, None, None, None, None, None, None, None, None, None, None, None, None, None, None, None, None, None, None, None, None, None, None, None, None, None, None, None, None, None, None, None, None, None, None, None, None, None, None, None, None, None, None, None, None, None, None, None, None, None, None, None, None, None, None, None, None, None, None, None, None, None, None, None, None, None, None, None, None, None, None, None, None, None, None, None, None, None, None, None, None, None, None, None, None, None, None, None, None, None, None, None, None, None, None, None, None, None, None, None, None, None, None, None, None, None, None, None, None, None, None, None, None, None, None, None, None, None, None, None, None, None, None, None, None, None, None, None, None, None, None, None, None, None, None, None, None, None, None, None, None, None, None, None, None, None, None, None, None, None, None, None, None, None, None, None, None, None, None, None, None, None, None, None, None, None, None, None, None, None, None, None, None, None, None, None, None, None, None, None, None, None, None, None, None, None, None, None, None, None, None, None, None, None, None, None, None, None, None, None, None, None, None, None, None, None, None, None, None, None, None, None, None, None, None, None, None, None, None, None, None, None, None, None, None, None, None, None, None, None, None, None, None, None, None, None, None, None, None, None, None, None, None, None, None, None, None, None, None, None, None]}\n"
     ]
    }
   ],
   "source": [
    "# 3.0 perturbation\n",
    "# get the 1000 intervals by using l infinity\n",
    "perturbation = 3.0\n",
    "orig_interval_list_600 = get_l_infinity_list(orig_point_list_600, perturbation)\n",
    "orig_interval_list_400 = get_l_infinity_list(orig_points_list_400, perturbation)\n",
    "\n",
    "s_time = time.time()\n",
    "results_600 = certify_model_2_with_1000_intervals_plain_interval_propagation_with_counter_example(orig_interval_list_600, 0)\n",
    "results_400 = certify_model_2_with_1000_intervals_plain_interval_propagation_with_counter_example(orig_interval_list_400, 1)\n",
    "used_time=time.time() - s_time\n",
    "print(used_time)\n",
    "print(results_600)\n",
    "print(results_400)"
   ]
  },
  {
   "cell_type": "code",
   "execution_count": null,
   "id": "2246ee0f-ffc0-4c5d-a78f-fdf9aac2e880",
   "metadata": {},
   "outputs": [],
   "source": []
  }
 ],
 "metadata": {
  "kernelspec": {
   "display_name": "Python [conda env:root] *",
   "language": "python",
   "name": "conda-root-py"
  },
  "language_info": {
   "codemirror_mode": {
    "name": "ipython",
    "version": 3
   },
   "file_extension": ".py",
   "mimetype": "text/x-python",
   "name": "python",
   "nbconvert_exporter": "python",
   "pygments_lexer": "ipython3",
   "version": "3.8.8"
  }
 },
 "nbformat": 4,
 "nbformat_minor": 5
}
