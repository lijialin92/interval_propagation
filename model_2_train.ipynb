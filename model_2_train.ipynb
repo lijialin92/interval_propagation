{
 "cells": [
  {
   "cell_type": "code",
   "execution_count": 1,
   "id": "f93803dd-dba9-4115-b104-4677d5b5afe1",
   "metadata": {},
   "outputs": [],
   "source": [
    "import numpy as np\n",
    "import keras\n",
    "from keras.layers import Dense\n",
    "from keras.models import Sequential\n",
    "from matplotlib import pyplot as plt\n",
    "import time"
   ]
  },
  {
   "cell_type": "code",
   "execution_count": 2,
   "id": "cb27efed-b492-4a3f-97e5-5e9ee8fd1494",
   "metadata": {},
   "outputs": [
    {
     "name": "stderr",
     "output_type": "stream",
     "text": [
      "2021-12-07 20:51:26.145605: I tensorflow/compiler/jit/xla_cpu_device.cc:41] Not creating XLA devices, tf_xla_enable_xla_devices not set\n",
      "2021-12-07 20:51:26.146009: I tensorflow/core/platform/cpu_feature_guard.cc:142] This TensorFlow binary is optimized with oneAPI Deep Neural Network Library (oneDNN) to use the following CPU instructions in performance-critical operations:  SSE4.1 SSE4.2 AVX AVX2 FMA\n",
      "To enable them in other operations, rebuild TensorFlow with the appropriate compiler flags.\n",
      "2021-12-07 20:51:26.147415: I tensorflow/core/common_runtime/process_util.cc:146] Creating new thread pool with default inter op setting: 2. Tune using inter_op_parallelism_threads for best performance.\n",
      "2021-12-07 20:51:26.213713: I tensorflow/compiler/mlir/mlir_graph_optimization_pass.cc:116] None of the MLIR optimization passes are enabled (registered 2)\n",
      "2021-12-07 20:51:26.232140: I tensorflow/core/platform/profile_utils/cpu_utils.cc:112] CPU Frequency: 3193925000 Hz\n"
     ]
    },
    {
     "data": {
      "image/png": "[encoded data removed]",
      "text/plain": [
       "<Figure size 432x288 with 1 Axes>"
      ]
     },
     "metadata": {
      "needs_background": "light"
     },
     "output_type": "display_data"
    },
    {
     "name": "stdout",
     "output_type": "stream",
     "text": [
      "Accuracy: 97.00\n"
     ]
    }
   ],
   "source": [
    "# generate a simple model for test. \n",
    "# the model is a 3 layers neural network, the 1st layer is 12 neurons, relu is the activation function\n",
    "# the second layer is 8 neurons, relu is the activation functioin\n",
    "# the third layer is 1 neurons, sigmoid is the activation function \n",
    "# prepare the data set X is a numpy array strore the x1 and x2, Y store the classes for X. x2>=x1 is class 1, x2<x1 is class 2\n",
    "np.random.seed(0)\n",
    "X = np.random.uniform(0. , 100., [700,2])\n",
    "Y = np.zeros((700, 1))\n",
    "\n",
    "for row in range(700):\n",
    "    if X[row][0] <= X[row][1]:\n",
    "        Y[row] = 1\n",
    "    else:\n",
    "        Y[row] = 0\n",
    "# divide into train and test data set\n",
    "X_train = X[:600]\n",
    "X_test = X[600:]\n",
    "Y_train = Y[:600]\n",
    "Y_test = Y[600:]\n",
    "\n",
    "model = Sequential()\n",
    "\n",
    "model.add(Dense(units=12, activation=\"relu\", input_dim=2))\n",
    "model.add(Dense(units=8, activation=\"relu\"))\n",
    "model.add(Dense(units=1, activation=\"sigmoid\"))\n",
    "\n",
    "# plot the losses\n",
    "model.compile(optimizer=\"adam\", loss=\"binary_crossentropy\", metrics=[\"accuracy\"])\n",
    "history=model.fit(X_train, Y_train, batch_size=100,epochs=10, verbose=0, validation_split=.1)\n",
    "loss, accuracy = model.evaluate(X_test, Y_test, verbose=0)\n",
    "plt.plot(history.history['accuracy'])\n",
    "plt.plot(history.history[\"val_accuracy\"])\n",
    "plt.title('model accuracy')\n",
    "plt.ylabel('accuracy')\n",
    "plt.xlabel('epoch')\n",
    "plt.legend(['training', 'validation'], loc='best')\n",
    "plt.show()\n",
    "print('Accuracy: %.2f' % (accuracy*100))"
   ]
  },
  {
   "cell_type": "code",
   "execution_count": 19,
   "id": "49205e3b-32e6-4364-b77b-f5146474e903",
   "metadata": {},
   "outputs": [],
   "source": [
    "# save model\n",
    "model.save(\"x1_smaller_than_x2.h5\")"
   ]
  },
  {
   "cell_type": "code",
   "execution_count": null,
   "id": "83370775-938d-4446-9a4c-654da2c246db",
   "metadata": {},
   "outputs": [],
   "source": [
    "# check the output is the probability that x1 is less than x2\n",
    "np.random.seed(2)\n",
    "xx = np.random.uniform(0., 100., [10,2])\n",
    "yy = model_2.predict(xx)\n",
    "print(xx)\n",
    "print(yy)"
   ]
  },
  {
   "cell_type": "code",
   "execution_count": 4,
   "id": "8492f435-1ec6-4a58-a475-2d98863a1063",
   "metadata": {},
   "outputs": [
    {
     "name": "stdout",
     "output_type": "stream",
     "text": [
      "[[ 6.    6.23]\n",
      " [ 2.    2.2 ]\n",
      " [20.   20.  ]\n",
      " [ 1.    1.  ]\n",
      " [45.   45.1 ]\n",
      " [36.   36.44]\n",
      " [90.    8.  ]]\n",
      "[[5.2072203e-01]\n",
      " [5.0731868e-01]\n",
      " [5.4876983e-01]\n",
      " [4.9318632e-01]\n",
      " [6.2515146e-01]\n",
      " [6.1822349e-01]\n",
      " [5.7270846e-08]]\n"
     ]
    }
   ],
   "source": [
    "# try to find out that when x1 is really close to x2 then the output is really near to 0.5\n",
    "np.random.seed(2)\n",
    "xx2 = np.ones((7,2))\n",
    "xx2[0] = [6.,6.23]\n",
    "xx2[1] = [2.,2.2]\n",
    "xx2[2] = [20.,20.]\n",
    "xx2[4] = [45.,45.1]\n",
    "xx2[5] = [36.,36.44]\n",
    "xx2[6] = [90., 8.]\n",
    "print(xx2)\n",
    "\n",
    "yy2 = model.predict(xx2)\n",
    "print(yy2)"
   ]
  },
  {
   "cell_type": "code",
   "execution_count": null,
   "id": "0a45035d-a64f-4c24-b230-50ee4319ec5e",
   "metadata": {},
   "outputs": [],
   "source": []
  }
 ],
 "metadata": {
  "kernelspec": {
   "display_name": "Python [conda env:root] *",
   "language": "python",
   "name": "conda-root-py"
  },
  "language_info": {
   "codemirror_mode": {
    "name": "ipython",
    "version": 3
   },
   "file_extension": ".py",
   "mimetype": "text/x-python",
   "name": "python",
   "nbconvert_exporter": "python",
   "pygments_lexer": "ipython3",
   "version": "3.8.8"
  }
 },
 "nbformat": 4,
 "nbformat_minor": 5
}
