{
 "cells": [
  {
   "cell_type": "code",
   "execution_count": 8,
   "id": "9229ec44-4ca5-446f-b8a4-aef21cadc420",
   "metadata": {},
   "outputs": [],
   "source": [
    "import time\n",
    "%run model_3_functions.ipynb\n",
    "import keras\n",
    "import matplotlib\n",
    "import matplotlib.pyplot as plt"
   ]
  },
  {
   "cell_type": "code",
   "execution_count": null,
   "id": "3addcae8-57b9-467a-a740-9c741491a7bd",
   "metadata": {},
   "outputs": [],
   "source": [
    "# load the model \n",
    "model_3 = keras.models.load_model(\"model_3.h5\")"
   ]
  },
  {
   "cell_type": "code",
   "execution_count": 7,
   "id": "bb506df2-67c8-4a89-9bbe-bb983a219a13",
   "metadata": {},
   "outputs": [
    {
     "name": "stdout",
     "output_type": "stream",
     "text": [
      "****************************FIFO list without finding counter example, the run time for split is 1.*********************************************************\n",
      "now searching fifo-todo list.in total 123 intervals in the fifo-todo-list.\n",
      "satisfication: 0\n",
      "number of safe intervals: 0\n",
      "number of unsafe intervals: 15\n",
      "number of counter examples: 15\n",
      "number of uncertain intervals: 108\n",
      "coverage: 0.1328125\n",
      "certification used time: 14.362181901931763\n"
     ]
    }
   ],
   "source": [
    "# plot the coverage area\n",
    "run_time = 1\n",
    "\n",
    "# generate the input interval\n",
    "input_interval_min = np.array([[10., 10.]])\n",
    "input_interval_max = np.array([[50., 50.]])\n",
    "input_interval = [input_interval_min, input_interval_max]\n",
    "\n",
    "print(\"****************************FIFO list without finding counter example, the run time for split is \" + str(run_time) + \".*********************************************************\")\n",
    "start_time = time.time()\n",
    "res_plot_test = model_3_certification_with_single_input_interval_fifo(input_interval, run_time)\n",
    "used_time = time.time() - start_time\n",
    "coverage = model_3_calculate_coverage(res_plot_test)\n",
    "print(\"satisfication: \" + str(res_plot_test[\"sat\"]))\n",
    "print(\"number of safe intervals: \" + str(len(res_plot_test[\"safety_intervals\"])))\n",
    "print(\"number of unsafe intervals: \" + str(len(res_plot_test[\"counter_intervals\"])))\n",
    "print(\"number of counter examples: \" + str(len(res_plot_test[\"counter_examples\"])))\n",
    "print(\"number of uncertain intervals: \" + str(len(res_plot_test[\"uncertain_intervals\"])))\n",
    "print(\"coverage: \" + str(coverage))\n",
    "print(\"certification used time: \" + str(used_time))"
   ]
  },
  {
   "cell_type": "code",
   "execution_count": 24,
   "id": "cc7584cb-8ac4-4004-8d2b-446a5782697c",
   "metadata": {},
   "outputs": [
    {
     "data": {
      "image/png": "[encoded data removed]",
      "text/plain": [
       "<Figure size 432x288 with 1 Axes>"
      ]
     },
     "metadata": {
      "needs_background": "light"
     },
     "output_type": "display_data"
    }
   ],
   "source": [
    "# plot the rectangle, safe in black, unsafe in red, uncertain in silver.\n",
    "res_plot_test[\"safety_intervals\"]\n",
    "\n",
    "%matplotlib inline\n",
    "fig = plt.figure()\n",
    "ax = fig.add_subplot(111, aspect='equal')\n",
    "plt.xlim([0, 61])\n",
    "plt.ylim([0, 61])\n",
    "# plot safe intervals as black rectangles\n",
    "for safe_interval in res_plot_test[\"safety_intervals\"]:\n",
    "    width = safe_interval[1][0][0] - safe_interval[0][0][0]\n",
    "    height = safe_interval[1][0][1] - safe_interval[0][0][1]\n",
    "    ax.add_patch(matplotlib.patches.Rectangle((safe_interval[0][0][0], safe_interval[0][0][1]), width, height, color='black'))\n",
    "# plot unsafe intervals as red rectangles   \n",
    "for unsafe_interval in res_plot_test[\"counter_intervals\"]:\n",
    "    width = unsafe_interval[1][0][0] - unsafe_interval[0][0][0]\n",
    "    height = unsafe_interval[1][0][1] - unsafe_interval[0][0][1]\n",
    "    ax.add_patch(matplotlib.patches.Rectangle((unsafe_interval[0][0][0], unsafe_interval[0][0][1]), width, height, color='red'))\n",
    "# uncertain intervals are white rectangles, that remain in the empty\n",
    "for uncertain_interval in res_plot_test[\"uncertain_intervals\"]:\n",
    "    width = uncertain_interval[1][0][0] - uncertain_interval[0][0][0]\n",
    "    height = uncertain_interval[1][0][1] - uncertain_interval[0][0][1]\n",
    "    ax.add_patch(matplotlib.patches.Rectangle((uncertain_interval[0][0][0], uncertain_interval[0][0][1]), width, height, color='blue'))"
   ]
  },
  {
   "cell_type": "code",
   "execution_count": null,
   "id": "174fcac7-caad-4ce7-83d8-eb4db0dc5909",
   "metadata": {},
   "outputs": [],
   "source": []
  }
 ],
 "metadata": {
  "kernelspec": {
   "display_name": "Python [conda env:root] *",
   "language": "python",
   "name": "conda-root-py"
  },
  "language_info": {
   "codemirror_mode": {
    "name": "ipython",
    "version": 3
   },
   "file_extension": ".py",
   "mimetype": "text/x-python",
   "name": "python",
   "nbconvert_exporter": "python",
   "pygments_lexer": "ipython3",
   "version": "3.8.8"
  }
 },
 "nbformat": 4,
 "nbformat_minor": 5
}
