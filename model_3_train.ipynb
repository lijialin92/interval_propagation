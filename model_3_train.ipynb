{
 "cells": [
  {
   "cell_type": "code",
   "execution_count": 2,
   "id": "0034a0e6-538a-4973-bded-81c32cc4f392",
   "metadata": {},
   "outputs": [],
   "source": [
    "import numpy as np\n",
    "import keras\n",
    "from keras.layers import Dense\n",
    "from keras.models import Sequential\n",
    "from matplotlib import pyplot as plt\n",
    "import time"
   ]
  },
  {
   "cell_type": "code",
   "execution_count": null,
   "id": "600bf877-726f-462b-a10f-71ba513c75da",
   "metadata": {},
   "outputs": [],
   "source": [
    "np.random.seed(0)\n",
    "X = np.random.uniform(0. , 100., [70000,2])\n",
    "Y = np.zeros([70000, 1])\n",
    "for row in range(70000):\n",
    "    if 10<=X[row][0] <= 50. and 10<=X[row][1] <= 50.:\n",
    "        Y[row] = 1\n",
    "        \n",
    "X_train = X[:60000]\n",
    "X_test = X[60000:]\n",
    "Y_train = Y[:60000]\n",
    "Y_test = Y[60000:]\n",
    "print(X[200:220])\n",
    "print(Y[200:220])"
   ]
  },
  {
   "cell_type": "code",
   "execution_count": 70,
   "id": "7779f33f-7eb6-4770-b763-c7ca45e17484",
   "metadata": {},
   "outputs": [
    {
     "data": {
      "image/png": "[encoded data removed]",
      "text/plain": [
       "<Figure size 432x288 with 1 Axes>"
      ]
     },
     "metadata": {
      "needs_background": "light"
     },
     "output_type": "display_data"
    },
    {
     "name": "stdout",
     "output_type": "stream",
     "text": [
      "Accuracy: 98.23\n"
     ]
    }
   ],
   "source": [
    "# set and train the NN model \n",
    "model = Sequential()\n",
    "\n",
    "model.add(Dense(units=32, activation=\"relu\", input_dim=2))\n",
    "model.add(Dense(units=16, activation=\"relu\"))\n",
    "model.add(Dense(units=8, activation=\"relu\"))\n",
    "model.add(Dense(units=4, activation=\"relu\"))\n",
    "model.add(Dense(units=1, activation=\"sigmoid\"))\n",
    "\n",
    "# plot the losses\n",
    "model.compile(optimizer=\"adam\", loss=\"binary_crossentropy\", metrics=[\"accuracy\"])\n",
    "history=model.fit(X_train, Y_train, batch_size=50,epochs=5, verbose=0, validation_split=.1)\n",
    "loss, accuracy = model.evaluate(X_test, Y_test, verbose=0)\n",
    "plt.plot(history.history['accuracy'])\n",
    "plt.plot(history.history[\"val_accuracy\"])\n",
    "plt.title('model accuracy')\n",
    "plt.ylabel('accuracy')\n",
    "plt.xlabel('epoch')\n",
    "plt.legend(['training', 'validation'], loc='best')\n",
    "plt.show()\n",
    "print('Accuracy: %.2f' % (accuracy*100))"
   ]
  },
  {
   "cell_type": "code",
   "execution_count": 63,
   "id": "785a80f9-b6ad-42c1-9a08-31dc559005e9",
   "metadata": {},
   "outputs": [
    {
     "name": "stdout",
     "output_type": "stream",
     "text": [
      "[[ 7.75974477 79.6110911 ]\n",
      " [48.53481579 83.48183753]\n",
      " [52.3450622  28.310392  ]\n",
      " [40.5462916  73.12657739]\n",
      " [39.02769445 49.80137262]\n",
      " [12.50156043 42.46682073]\n",
      " [ 1.55420275 67.11297526]]\n",
      "[[6.2156069e-10 1.0000000e+00]\n",
      " [1.4622390e-07 9.9999988e-01]\n",
      " [3.0591184e-01 6.9408816e-01]\n",
      " [3.0342026e-05 9.9996960e-01]\n",
      " [7.7182782e-01 2.2817224e-01]\n",
      " [9.6021104e-01 3.9788950e-02]\n",
      " [2.5513296e-12 1.0000000e+00]]\n"
     ]
    }
   ],
   "source": [
    "test = np.random.uniform(0. , 100., [7,2])\n",
    "predictions = model.predict(test)\n",
    "print(test)\n",
    "print(predictions)"
   ]
  },
  {
   "cell_type": "code",
   "execution_count": 71,
   "id": "2104025a-83ac-4c1f-a38b-bec78291d18f",
   "metadata": {},
   "outputs": [],
   "source": [
    "# save model\n",
    "model.save(\"model_3.h5\")"
   ]
  },
  {
   "cell_type": "code",
   "execution_count": 4,
   "id": "117b3722-9654-498b-ab37-79a77a230d65",
   "metadata": {},
   "outputs": [],
   "source": [
    "# load the model \n",
    "model_3 = keras.models.load_model(\"model_3.h5\")"
   ]
  },
  {
   "cell_type": "code",
   "execution_count": 78,
   "id": "3c55b3e7-5488-4491-858d-89d04c818161",
   "metadata": {},
   "outputs": [
    {
     "name": "stdout",
     "output_type": "stream",
     "text": [
      "[[0.58945627]]\n",
      "[[0.99980635]]\n"
     ]
    }
   ],
   "source": [
    "%run simple_interval_propagation.ipynb\n",
    "input_min = np.array([20., 20.])\n",
    "input_max = np.array([21., 21.])\n",
    "oumin, oumax=simple_interval_propagation_model(model_3, input_min, input_max)\n",
    "print(oumin)\n",
    "print(oumax)"
   ]
  },
  {
   "cell_type": "code",
   "execution_count": null,
   "id": "15ac447e-ab2d-4cc7-b8ea-e0854540ef02",
   "metadata": {},
   "outputs": [],
   "source": []
  }
 ],
 "metadata": {
  "kernelspec": {
   "display_name": "Python [conda env:root] *",
   "language": "python",
   "name": "conda-root-py"
  },
  "language_info": {
   "codemirror_mode": {
    "name": "ipython",
    "version": 3
   },
   "file_extension": ".py",
   "mimetype": "text/x-python",
   "name": "python",
   "nbconvert_exporter": "python",
   "pygments_lexer": "ipython3",
   "version": "3.8.8"
  }
 },
 "nbformat": 4,
 "nbformat_minor": 5
}
