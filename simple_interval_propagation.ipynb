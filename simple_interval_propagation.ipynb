{
 "cells": [
  {
   "cell_type": "code",
   "execution_count": 53,
   "id": "026fb8be-8c35-4ed8-be80-51b15dde84c8",
   "metadata": {},
   "outputs": [],
   "source": [
    "# need to use the functions in single_layer_interval_propagation\n",
    "%run single_layer_interval_propagation.ipynb"
   ]
  },
  {
   "cell_type": "code",
   "execution_count": 54,
   "id": "78f26672-eb41-4564-81e3-38d03be25f9f",
   "metadata": {},
   "outputs": [],
   "source": [
    "# description: compute the output interval for simple interval propagation\n",
    "# the input parameters layers: contains layer, layer is also a list datatype. in layer there are w and b. the datatype of layers is list, layer is list, layers[i][0] = w is ndarray, layers[i][1] is ndarray\n",
    "# the input parameters activation_functions: str list, contains the activation functions defined in each layer.\n",
    "# the input parameters input_min and input_max: minimum and maximum value vectors to define the input interval\n",
    "# return output_min and output_max: the output interval of nn_model\n",
    "def simple_interval_propagation(layers, activation_functions, input_min, input_max):\n",
    "    min_vec_run = input_min\n",
    "    max_vec_run = input_max\n",
    "    i = 0\n",
    "    for layer in layers:\n",
    "        min_vec_run, max_vec_run = get_min_max_for_single_layer(layer[0], layer[1], activation_functions[i], min_vec_run, max_vec_run)\n",
    "        i = i+1\n",
    "    output_min = min_vec_run\n",
    "    output_max = max_vec_run\n",
    "    return output_min, output_max"
   ]
  },
  {
   "cell_type": "code",
   "execution_count": null,
   "id": "874accf0-613b-455f-9a60-f8c98ff4dc7e",
   "metadata": {},
   "outputs": [],
   "source": [
    "# description: compute the output interval for simple interval propagation\n",
    "# input parameter nn_model: a keras model\n",
    "# input parameter input_min and input_max: minimum and maximum value vectors to define the input interval/region\n",
    "# return output_min and output_max: the output interval/region of nn_model\n",
    "def simple_interval_propagation_model(nn_model, input_min, input_max):\n",
    "    # get layers(ws and bs) from nn_model \n",
    "    layers=[]\n",
    "    for layer in nn_model.layers:\n",
    "        layers.append(layer.get_weights())\n",
    "        \n",
    "    # get activation_functions from nn_model\n",
    "    activation_functions=[]\n",
    "    for layer in nn_model.layers:\n",
    "        activation_functions.append(layer.get_config()[\"activation\"])\n",
    "    \n",
    "    output_min, output_max = simple_interval_propagation(layers, activation_functions, input_min, input_max)\n",
    "    \n",
    "    return output_min, output_max"
   ]
  },
  {
   "cell_type": "code",
   "execution_count": 55,
   "id": "0dd64b7f-7417-4e5b-a2fb-6d12feffc431",
   "metadata": {},
   "outputs": [],
   "source": [
    "# description: split the input interval/region into two evenly spaced intervals/regions\n",
    "# input parameters min_vec and max_vec: minimum and maximum value vectors to define the input interval/region\n",
    "# return interval1 and interval2: two evenly spaced intervals\n",
    "def split_2(min_vec, max_vec):\n",
    "    # check every elements in min_vec is smaller than max_vec\n",
    "    assert(np.all(min_vec<=max_vec))\n",
    "    \n",
    "    num_dim = min_vec.shape[1]\n",
    "    min_vec = min_vec.reshape((1, num_dim))\n",
    "    max_vec = max_vec.reshape((1, num_dim))\n",
    "    # the index of the largest gap\n",
    "    dif_vec = max_vec - min_vec\n",
    "    dif_max_index = dif_vec.argmax()\n",
    "    # get the mid value of the larfest gap\n",
    "    event_space = np.linspace(min_vec[0][dif_max_index], max_vec[0][dif_max_index], 3)\n",
    "    mid = event_space[1]  \n",
    "    # get the new max_vec1 for region1 and min_vec2 for region2\n",
    "    # region1\n",
    "    min_vec1 = min_vec.copy()\n",
    "    max_vec1 = max_vec.copy()\n",
    "    max_vec1[0][dif_max_index] = mid\n",
    "    #region2\n",
    "    min_vec2 = min_vec.copy()\n",
    "    max_vec2 = max_vec.copy()\n",
    "    min_vec2[0][dif_max_index] = mid\n",
    "    \n",
    "    interval1 = [min_vec1, max_vec1]\n",
    "    interval2 = [min_vec2, max_vec2]\n",
    "    return interval1, interval2"
   ]
  },
  {
   "cell_type": "code",
   "execution_count": 5,
   "id": "6dc42a91-96d5-4cab-ace6-877dee2ecd2c",
   "metadata": {},
   "outputs": [],
   "source": [
    "# description: find the center point of a interval/region\n",
    "# input parameter region: it is a region, its type is a list contains two np.ndarray, one array is min, another one is max\n",
    "# return center_point: is a numpy array represents the center point of the input region\n",
    "def find_center_point(region):\n",
    "    min_vec = region[0]\n",
    "    max_vec = region[1]\n",
    "    num_dims = min_vec.shape[1]\n",
    "    assert(min_vec.shape == (1, num_dims))\n",
    "    assert(max_vec.shape == (1, num_dims))\n",
    "    assert(np.all(min_vec <= max_vec))\n",
    "    \n",
    "    center_point = np.zeros((1,num_dims))\n",
    "    for dim in range(num_dims):\n",
    "        center_point[0][dim] = np.linspace(min_vec[0][dim], max_vec[0][dim], 3)[1]\n",
    "    assert(center_point.shape == min_vec.shape)\n",
    "    return center_point"
   ]
  },
  {
   "cell_type": "code",
   "execution_count": 1,
   "id": "3f5f8ec7-2387-4d6d-9d45-488d24f9a76f",
   "metadata": {},
   "outputs": [],
   "source": [
    "# description: find all the counter examples in the waiting list \n",
    "# input parameter nn model: a keras model\n",
    "# input parameter all_regions: a list that contains all the regions that are still in the waiting list\n",
    "# return counter_example_list: a list that contains all the counter examples(counter points)\n",
    "def find_counter_examples_in_all_regions_in_list_model_1(nn_model, all_regions):\n",
    "    counter_example_list = []\n",
    "    for region in all_regions:\n",
    "        region_center_point = find_center_point(region)\n",
    "        predict_prob = nn_model.predict(region_center_point)\n",
    "        if predict_prob.argmax() != 5:\n",
    "            counter_example_list.append(region_center_point)\n",
    "    return counter_example_list"
   ]
  },
  {
   "cell_type": "code",
   "execution_count": 57,
   "id": "804ceb93-9f45-488f-bb20-477411d3c46d",
   "metadata": {},
   "outputs": [],
   "source": []
  },
  {
   "cell_type": "code",
   "execution_count": 1,
   "id": "eda231cb-ed9e-4b8d-87fb-b0e3a7d182ef",
   "metadata": {},
   "outputs": [],
   "source": [
    "# description: increase the brightness(values) of non zero pixels\n",
    "# input parameters min_vec: the original image in shape of (n, 1)\n",
    "# input parameters add_num: the value of brightness to be increased\n",
    "# return max_vec: the image that have had its brightness increased, this vector will be used as the maximum value of input interval\n",
    "def mnist_get_max(min_vec, add_num):\n",
    "    assert(add_num >= 0)\n",
    "    max_vec = min_vec.copy()\n",
    "    temp_num = 255 - add_num\n",
    "    num_pixels = min_vec.shape[1]\n",
    "    \n",
    "    for row in range(min_vec.shape[1]):\n",
    "        if min_vec[0][row] == 0:\n",
    "            max_vec[0][row] = 0\n",
    "        elif min_vec[0][row] >= temp_num:\n",
    "            max_vec[0][row] = 255\n",
    "        else:\n",
    "            max_vec[0][row] = min_vec[0][row] + add_num\n",
    "    return max_vec"
   ]
  },
  {
   "cell_type": "code",
   "execution_count": 2,
   "id": "b33ab41b-02d1-4e4b-8378-7f9b248595e9",
   "metadata": {},
   "outputs": [],
   "source": [
    "# description: check specification of model 1 for the output interval. For lable 5, its minimum prob value should larger than the other maximum prob values\n",
    "# input parameter output_min, output_max: minimum and maximum value vectors to define the output interval, after the simple interval propagation\n",
    "# return true if \n",
    "def check_specification_model_1(output_min, output_max):\n",
    "    assert(np.all(output_min <= output_max))\n",
    "    min_vec = output_min.copy()\n",
    "    max_vec = output_max.copy()\n",
    "    num_dim = output_min.shape[1]\n",
    "    min_vec.reshape((1, num_dim))\n",
    "    max_vec.reshape((1, num_dim))\n",
    "    \n",
    "    # set output_max[6]=0, than all the values in output_max should smaller than output_min[6]\n",
    "    max_vec[0][5] = 0\n",
    "    return np.all(min_vec[0][5] > max_vec)"
   ]
  },
  {
   "cell_type": "code",
   "execution_count": null,
   "id": "dcc280fd-4c42-4969-bc5b-5041925eb3be",
   "metadata": {},
   "outputs": [],
   "source": [
    "# description: check is any counter example inside the TODOlist. find one counter example directly return.\n",
    "# input parameter nn_model the keras model\n",
    "# input parameter all_regions is a list, in the list, the smaller values should on the top/back of the TODO list\n",
    "# return a point\n",
    "def if_any_counter_example_model_1_small_first(nn_model, all_regions):\n",
    "    counter_example = []\n",
    "    for region in reversed(all_regions):\n",
    "        region_center_point = find_center_point(region)\n",
    "        predict_prob = nn_model.predict(region_center_point)\n",
    "        if predict_prob.argmax() != 5:\n",
    "            counter_example.append(region_center_point)\n",
    "            break\n",
    "    return counter_example"
   ]
  },
  {
   "cell_type": "code",
   "execution_count": null,
   "id": "7375a41d-a4d7-4dec-9fa1-be86308f09ae",
   "metadata": {},
   "outputs": [],
   "source": [
    "# description: check is any counter example inside the TODOlist. find one counter example directly return.\n",
    "# input parameter nn_model the keras model\n",
    "# input parameter all_regions is a list, in the list, the smaller values should on the top/back of the TODO list\n",
    "# return a point\n",
    "def if_any_counter_example_model_1_large_first(nn_model, all_regions):\n",
    "    counter_example = []\n",
    "    for region in all_regions:\n",
    "        region_center_point = find_center_point(region)\n",
    "        predict_prob = nn_model.predict(region_center_point)\n",
    "        if predict_prob.argmax() != 5:\n",
    "            counter_example.append(region_center_point)\n",
    "            break\n",
    "    return counter_example"
   ]
  },
  {
   "cell_type": "code",
   "execution_count": null,
   "id": "2bdab496-3c91-44f6-ab09-bd532558d635",
   "metadata": {},
   "outputs": [],
   "source": [
    "# description: get a list of intervals that generate by using l infinity norm. the maximum perturbation of l_infinity_interval_list is smaller than\n",
    "# the input parameters point_list: a list contains all the points\n",
    "# the input parameters max_perturbation: the maximum perturbation of l infinity norm, to generate the interval\n",
    "# return output_l_infinity_interval_list: a list of all intervals that are performed l infinity norm\n",
    "def get_l_infinity_list(orig_list, max_perturbation):\n",
    "    assert(max_perturbation >= 0)\n",
    "    l_infinity_intervals = []\n",
    "    for element in orig_list:\n",
    "        interval_min = element - max_perturbation\n",
    "        interval_max = element + max_perturbation\n",
    "        input_interval = [interval_min, interval_max]\n",
    "        l_infinity_intervals.append(input_interval)\n",
    "    assert(len(orig_list) == len(l_infinity_intervals))\n",
    "    return l_infinity_intervals"
   ]
  },
  {
   "cell_type": "code",
   "execution_count": null,
   "id": "bc8cc150-997c-4425-9e97-72aaa1e4ebc0",
   "metadata": {},
   "outputs": [],
   "source": []
  }
 ],
 "metadata": {
  "kernelspec": {
   "display_name": "Python [conda env:root] *",
   "language": "python",
   "name": "conda-root-py"
  },
  "language_info": {
   "codemirror_mode": {
    "name": "ipython",
    "version": 3
   },
   "file_extension": ".py",
   "mimetype": "text/x-python",
   "name": "python",
   "nbconvert_exporter": "python",
   "pygments_lexer": "ipython3",
   "version": "3.8.8"
  }
 },
 "nbformat": 4,
 "nbformat_minor": 5
}
