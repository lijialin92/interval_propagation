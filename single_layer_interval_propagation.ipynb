{
 "cells": [
  {
   "cell_type": "code",
   "execution_count": 2,
   "id": "9b2782c1-4ebf-4637-993e-b324951cb082",
   "metadata": {},
   "outputs": [],
   "source": [
    "# give one min vector, max vector\n",
    "# give the parameters of NN model. The w, b, and the activation function like \"sigmoid\" or \"relu\".\n",
    "# output the min vector and the max vector\n",
    "import numpy as np\n",
    "from scipy.special import softmax"
   ]
  },
  {
   "cell_type": "code",
   "execution_count": 2,
   "id": "be0f2716-c9b1-4aac-bbe8-6ca1d0c8b3cf",
   "metadata": {},
   "outputs": [],
   "source": [
    "# get minimux and maximum output value for one node\n",
    "# the input parameter w_single is one row of w.T(all weights for one node) in shape of (1,n), min_vec is the minimum value vector in shape of (n,1), max_vec is the maximum value vector in shape of (n,1)\n",
    "# return two float value, min_node is the minimum value of the node(only with linear forward propagation), max_node is the maximum value of the node(only with the linear propagation)\n",
    "def get_min_max_for_single_node(w_single, min_vec, max_vec):\n",
    "    # check all the values in min_vec is smaller than max_vec\n",
    "    assert(np.all(min_vec <= max_vec))\n",
    "    n = len(w_single)\n",
    "    min_temp = np.zeros(n)\n",
    "    max_temp = np.zeros(n)\n",
    "    # convert input parameters to desired shape \n",
    "    w_single = w_single.reshape((1, -1))\n",
    "    min_vec = min_vec.reshape((1, -1))\n",
    "    max_vec = max_vec.reshape((1, -1))\n",
    "    # print(w_single.shape)\n",
    "    # print(min_vec.shape)\n",
    "    # print(max_vec.shape)\n",
    "    # n = len(w_single)\n",
    "    # v1 = w_single[0][0] * min_vec[0][0]\n",
    "    # print(type(w_single[0][0]))\n",
    "    # print((type(min_vec[0][0])))\n",
    "    # print(type(v1))\n",
    "    for i in range(n):\n",
    "        v1 = w_single[0][i] * min_vec[0][i]\n",
    "        v2 = w_single[0][i] * max_vec[0][i]\n",
    "        if v1 >= v2:\n",
    "            min_temp[i] = v2\n",
    "            max_temp[i] = v1\n",
    "        else:\n",
    "            min_temp[i] = v1\n",
    "            max_temp[i] = v2\n",
    "        \n",
    "    min_node = np.sum(min_temp)\n",
    "    max_node = np.sum(max_temp)\n",
    "    return min_node, max_node"
   ]
  },
  {
   "cell_type": "code",
   "execution_count": 2,
   "id": "698a46ec-fafe-4daf-b8de-cda89783eff4",
   "metadata": {},
   "outputs": [],
   "source": [
    "# get minimux and maximum output vectors for one layer(only with linear propagation)\n",
    "# the input parameter w is the weights for one single linear layer in shape of (nl-1, nl)(nl-1 is the number of nodes of previous layer, nl is the number of the node of present layer), min_vec is the minimum value vector in shape of (nl,1), max_vec is the maximum value vector in shape of (nl,1)\n",
    "# return two vectors, min_vec_linear is the minimum value of nodes in this layer(only with linear forward propagation), max_vec_linear(nl, 1) is the maximum value of nodes in this layer of(only with the linear propagation)\n",
    "def get_min_max_for_single_layer_linear(w, b, min_vec, max_vec):\n",
    "    # check all the values in min_vec is smaller than max_vec\n",
    "    assert(np.all(min_vec <= max_vec))\n",
    "    \n",
    "    num_nodes_prev = w.shape[0] # number of nodes of previous layer\n",
    "    num_nodes = w.shape[1] # number of nodes of present layer\n",
    "    \n",
    "    b = b.reshape(1, num_nodes)\n",
    "    # check the shape of input parameters\n",
    "    assert(b.shape == (1, num_nodes))\n",
    "    # convert input parameters to desired shape \n",
    "    wT = np.transpose(w)\n",
    "    assert(wT.shape == (num_nodes, num_nodes_prev))\n",
    "    min_vec = min_vec.reshape((1, -1))\n",
    "    max_vec = max_vec.reshape((1, -1))\n",
    "    assert(min_vec.shape == (1, num_nodes_prev))\n",
    "    assert(max_vec.shape == (1, num_nodes_prev))\n",
    "    \n",
    "    # initialize the minimum and maximum value vectors\n",
    "    min_vec_linear = np.zeros((1, num_nodes))\n",
    "    max_vec_linear = np.zeros((1, num_nodes))\n",
    "    \n",
    "    for row in range(num_nodes):\n",
    "        min_vec_linear[0][row], max_vec_linear[0][row] = get_min_max_for_single_node(wT[row], min_vec, max_vec)\n",
    "    min_vec_linear = min_vec_linear + b\n",
    "    max_vec_linear = max_vec_linear + b\n",
    "    return min_vec_linear, max_vec_linear"
   ]
  },
  {
   "cell_type": "code",
   "execution_count": 2,
   "id": "5521fbec-20f5-46e5-972c-0ce8ca868493",
   "metadata": {},
   "outputs": [],
   "source": [
    "def my_base_function_sigmoid(x):\n",
    "    z = 1/(1 + np.exp(-x))\n",
    "    return z\n",
    "\n",
    "def get_min_max_for_single_layer_activation(min_vec, max_vec, activation):\n",
    "    # check all the values in min_vec is smaller than max_vec\n",
    "    assert(np.all(min_vec <= max_vec))\n",
    "    \n",
    "    # check the shape of input parameters\n",
    "    assert(min_vec.shape == max_vec.shape)\n",
    "    num_nodes = min_vec.shape[0]\n",
    "    if activation == \"sigmoid\":\n",
    "        min_vec_activation = my_base_function_sigmoid(min_vec)\n",
    "        max_vec_activation = my_base_function_sigmoid(max_vec)\n",
    "    if activation == \"relu\":\n",
    "        min_vec_activation = np.maximum(0, min_vec)\n",
    "        max_vec_activation = np.maximum(0, max_vec)\n",
    "    if activation == \"none\":\n",
    "        min_vec_activation = min_vec\n",
    "        max_vec_activation = max_vec\n",
    "    if activation == \"softmax\":\n",
    "        min_vec_activation = softmax(min_vec)\n",
    "        max_vec_activation = softmax(max_vec)\n",
    "    return min_vec_activation, max_vec_activation"
   ]
  },
  {
   "cell_type": "code",
   "execution_count": 7,
   "id": "f518fda4-1948-4938-9a69-a2dc29cddf75",
   "metadata": {},
   "outputs": [],
   "source": [
    "def get_min_max_for_single_layer(w, b, activation, min_prev, max_prev):\n",
    "    assert(np.all(min_prev <= max_prev))\n",
    "    # first linear then activation\n",
    "    min_linear, max_linear = get_min_max_for_single_layer_linear(w, b, min_prev, max_prev)\n",
    "    min_new, max_new = get_min_max_for_single_layer_activation(min_linear, max_linear, activation)\n",
    "    return min_new, max_new"
   ]
  }
 ],
 "metadata": {
  "kernelspec": {
   "display_name": "Python [conda env:root] *",
   "language": "python",
   "name": "conda-root-py"
  },
  "language_info": {
   "codemirror_mode": {
    "name": "ipython",
    "version": 3
   },
   "file_extension": ".py",
   "mimetype": "text/x-python",
   "name": "python",
   "nbconvert_exporter": "python",
   "pygments_lexer": "ipython3",
   "version": "3.8.8"
  }
 },
 "nbformat": 4,
 "nbformat_minor": 5
}
