{
 "cells": [
  {
   "cell_type": "code",
   "execution_count": 45,
   "id": "f46143d3-f909-4e06-967a-e6a50004c7ce",
   "metadata": {},
   "outputs": [],
   "source": [
    "%run single_layer_interval_propagation.ipynb"
   ]
  },
  {
   "cell_type": "code",
   "execution_count": 46,
   "id": "390e2a11-df8c-473f-ba4e-523140656bce",
   "metadata": {},
   "outputs": [
    {
     "name": "stdout",
     "output_type": "stream",
     "text": [
      "[[0.]\n",
      " [0.]]\n",
      "[[5.]\n",
      " [5.]]\n",
      "[[1. 2.]\n",
      " [3. 4.]]\n",
      "[[0.]\n",
      " [0.]]\n",
      "[[0.]\n",
      " [0.]]\n",
      "[[20.]\n",
      " [30.]]\n"
     ]
    }
   ],
   "source": [
    "# test case1 for get_min_max_for_single_layer(w, b, activation, min_prev, max_prev)\n",
    "min_vec = np.array([[0.], [0.]])\n",
    "max_vec = np.array([[5.], [5.]])\n",
    "w = np.array([[1., 2.], [3., 4.]])\n",
    "b = np.array([[0.],[0.]])\n",
    "activation_function = \"relu\"\n",
    "print(min_vec)\n",
    "print(max_vec)\n",
    "print(w)\n",
    "print(b)\n",
    "min_vec_new, max_vec_new = get_min_max_for_single_layer(w, b, activation_function, min_vec, max_vec)\n",
    "print(min_vec_new)\n",
    "print(max_vec_new)"
   ]
  },
  {
   "cell_type": "code",
   "execution_count": 47,
   "id": "542f03b6-60a6-405e-aa42-82cd0cb37117",
   "metadata": {},
   "outputs": [
    {
     "name": "stdout",
     "output_type": "stream",
     "text": [
      "[[0.]\n",
      " [0.]]\n",
      "[[18.]\n",
      " [28.]]\n"
     ]
    }
   ],
   "source": [
    "# test case2 for get_min_max_for_single_layer(w, b, activation, min_prev, max_prev)\n",
    "min_vec = np.array([[0.], [0.]])\n",
    "max_vec = np.array([[5.], [5.]])\n",
    "w = np.array([[1., 2.], [3., 4.]])\n",
    "b = np.array([[-2],[-2]])\n",
    "activation_function = \"relu\"\n",
    "min_vec_new, max_vec_new = get_min_max_for_single_layer(w, b, activation_function, min_vec, max_vec)\n",
    "print(min_vec_new)\n",
    "print(max_vec_new)"
   ]
  },
  {
   "cell_type": "code",
   "execution_count": 48,
   "id": "956d7a5d-70a5-4584-964f-9380b7145686",
   "metadata": {},
   "outputs": [
    {
     "name": "stdout",
     "output_type": "stream",
     "text": [
      "[[0.]\n",
      " [0.]\n",
      " [0.]]\n",
      "[[5.]\n",
      " [5.]\n",
      " [5.]]\n"
     ]
    }
   ],
   "source": [
    "# test case3 for get_min_max_for_single_layer(w, b, activation, min_prev, max_prev)\n",
    "min_vec = np.array([[-1.], [-2.]])\n",
    "max_vec = np.array([[1.], [2.]])\n",
    "w = np.array([[1., -1., -1.], [2., 2., -2.]])\n",
    "b = np.array([[0.],[0.], [0.]])\n",
    "activation_function = \"relu\"\n",
    "min_vec_new, max_vec_new = get_min_max_for_single_layer(w, b, activation_function, min_vec, max_vec)\n",
    "print(min_vec_new)\n",
    "print(max_vec_new)"
   ]
  },
  {
   "cell_type": "code",
   "execution_count": 49,
   "id": "5198041f-1242-4b67-b7d3-2228d9281fef",
   "metadata": {},
   "outputs": [
    {
     "name": "stdout",
     "output_type": "stream",
     "text": [
      "[[0.]\n",
      " [0.]\n",
      " [0.]\n",
      " [0.]]\n",
      "[[1.01]\n",
      " [0.52]\n",
      " [0.03]\n",
      " [0.04]]\n"
     ]
    }
   ],
   "source": [
    "# test case4 for get_min_max_for_single_layer(w, b, activation, min_prev, max_prev)\n",
    "min_vec = np.array([[-1.], [0.]])\n",
    "max_vec = np.array([[0.], [2.]])\n",
    "w = np.array([[-1., -0.5, 0.2, 0.01], [-0.5, -0.7, -0.2, -0.1]])\n",
    "b = np.array([[0.01], [0.02], [0.03], [0.04]])\n",
    "activation_function = \"relu\"\n",
    "min_vec_new, max_vec_new = get_min_max_for_single_layer(w, b, activation_function, min_vec, max_vec)\n",
    "print(min_vec_new)\n",
    "print(max_vec_new)"
   ]
  },
  {
   "cell_type": "code",
   "execution_count": 50,
   "id": "b271a24f-05ba-4b03-98c9-62568fc7181d",
   "metadata": {},
   "outputs": [
    {
     "name": "stdout",
     "output_type": "stream",
     "text": [
      "[[0.5       ]\n",
      " [0.11920292]]\n",
      "[[0.73105858]\n",
      " [0.5       ]]\n"
     ]
    }
   ],
   "source": [
    "# test case5 for get_min_max_for_single_layer(w, b, activation, min_prev, max_prev)\n",
    "min_vec = np.array([[0.], [-2.]])\n",
    "max_vec = np.array([[2.], [0.]])\n",
    "w = np.array([[0.3, -0.4], [-0.2, 0.6]])\n",
    "b = np.array([[0.],[0.]])\n",
    "activation_function = \"sigmoid\"\n",
    "min_vec_new, max_vec_new = get_min_max_for_single_layer(w, b, activation_function, min_vec, max_vec)\n",
    "print(min_vec_new)\n",
    "print(max_vec_new)"
   ]
  },
  {
   "cell_type": "code",
   "execution_count": 51,
   "id": "ee086baf-993b-4753-8717-635e7fa76eac",
   "metadata": {},
   "outputs": [
    {
     "name": "stdout",
     "output_type": "stream",
     "text": [
      "[[0.10065209]\n",
      " [0.34978145]\n",
      " [0.03324631]\n",
      " [0.22443599]]\n",
      "[[0.57688526]\n",
      " [0.94158544]\n",
      " [0.71707529]\n",
      " [0.98129349]]\n"
     ]
    }
   ],
   "source": [
    "# test case6 for get_min_max_for_single_layer(w, b, activation, min_prev, max_prev)\n",
    "min_vec = np.array([[-3.], [0.]])\n",
    "max_vec = np.array([[2.], [4.]])\n",
    "w = np.array([[-0.1, 0.2, -0.3, 0.4], [-0.5, 0.6, -0.7, 0.8]])\n",
    "b = np.array([[0.01], [-0.02], [0.03], [-0.04]])\n",
    "activation_function = \"sigmoid\"\n",
    "min_vec_new, max_vec_new = get_min_max_for_single_layer(w, b, activation_function, min_vec, max_vec)\n",
    "print(min_vec_new)\n",
    "print(max_vec_new)"
   ]
  },
  {
   "cell_type": "code",
   "execution_count": 2,
   "id": "38b4fde1-932a-4cc0-8678-34eef89820a1",
   "metadata": {},
   "outputs": [
    {
     "name": "stdout",
     "output_type": "stream",
     "text": [
      "the first 5 x_train values: [[0 0 0 ... 0 0 0]\n",
      " [0 0 0 ... 0 0 0]\n",
      " [0 0 0 ... 0 0 0]\n",
      " [0 0 0 ... 0 0 0]\n",
      " [0 0 0 ... 0 0 0]]\n",
      "the first 5 y_train values: [[0. 0. 0. 0. 0. 1. 0. 0. 0. 0.]\n",
      " [1. 0. 0. 0. 0. 0. 0. 0. 0. 0.]\n",
      " [0. 0. 0. 0. 1. 0. 0. 0. 0. 0.]\n",
      " [0. 1. 0. 0. 0. 0. 0. 0. 0. 0.]\n",
      " [0. 0. 0. 0. 0. 0. 0. 0. 0. 1.]]\n",
      "Model: \"sequential_1\"\n",
      "_________________________________________________________________\n",
      "Layer (type)                 Output Shape              Param #   \n",
      "=================================================================\n",
      "dense_2 (Dense)              (None, 32)                25120     \n",
      "_________________________________________________________________\n",
      "dense_3 (Dense)              (None, 10)                330       \n",
      "=================================================================\n",
      "Total params: 25,450\n",
      "Trainable params: 25,450\n",
      "Non-trainable params: 0\n",
      "_________________________________________________________________\n"
     ]
    },
    {
     "data": {
      "image/png": "[encoded data removed]",
      "text/plain": [
       "<Figure size 432x288 with 1 Axes>"
      ]
     },
     "metadata": {
      "needs_background": "light"
     },
     "output_type": "display_data"
    }
   ],
   "source": [
    "# test case7 for get_min_max_for_single_layer(w, b, activation, min_prev, max_prev)\n",
    "from keras.datasets import mnist\n",
    "(x_train, y_train), (x_test, y_test) = mnist.load_data()\n",
    "\n",
    "# print the shape of x_train, y_train, x_test, y_test\n",
    "# print(\"X training data shape: \" + str(x_train.shape))\n",
    "# print(\"Y training data shape: \" + str(y_train.shape))\n",
    "# print(\"X test data shape:\" + str(x_test.shape))\n",
    "# print(\"Y test data shape:\" + str(y_test.shape))\n",
    "# print(\"the first 5 y_train values: \" + str(y_train[:5]))\n",
    "# print(\"the first 5 y_test values: \" + str(y_test[:5]))\n",
    "\n",
    "# flatten\n",
    "x_train = x_train.reshape(x_train.shape[0], -1)\n",
    "x_test = x_test.reshape(x_test.shape[0], -1)\n",
    "\n",
    "# modification of y\n",
    "import keras\n",
    "num_classes = 10\n",
    "y_train = keras.utils.to_categorical(y_train, num_classes)\n",
    "y_test = keras.utils.to_categorical(y_test, num_classes)\n",
    "print(\"the first 5 x_train values: \" + str(x_train[:5]))\n",
    "print(\"the first 5 y_train values: \" + str(y_train[:5]))\n",
    "\n",
    "from keras.layers import Dense\n",
    "from keras.models import Sequential\n",
    "\n",
    "image_size = x_train.shape[1]\n",
    "\n",
    "# set the model\n",
    "model = Sequential()\n",
    "\n",
    "model.add(Dense(units=32, activation=\"sigmoid\", input_shape=(image_size,)))\n",
    "model.add(Dense(units=num_classes, activation=\"sigmoid\"))\n",
    "model.summary()\n",
    "\n",
    "# plot the losses\n",
    "from matplotlib import pyplot as plt\n",
    "model.compile(optimizer=\"sgd\", loss=\"categorical_crossentropy\", metrics=[\"accuracy\"])\n",
    "history=model.fit(x_train, y_train, batch_size=1000,epochs=50, verbose=0, validation_split=.1)\n",
    "loss, accuracy = model.evaluate(x_test, y_test, verbose=0)\n",
    "plt.plot(history.history['accuracy'])\n",
    "plt.plot(history.history[\"val_accuracy\"])\n",
    "plt.title('model accuracy')\n",
    "plt.ylabel('accuracy')\n",
    "plt.xlabel('epoch')\n",
    "plt.legend(['training', 'validation'], loc='best')\n",
    "plt.show()"
   ]
  },
  {
   "cell_type": "code",
   "execution_count": null,
   "id": "23ba5ca0-2079-44d6-a412-b039a00384fc",
   "metadata": {},
   "outputs": [
    {
     "name": "stdout",
     "output_type": "stream",
     "text": [
      "<class 'tensorflow.python.keras.layers.core.Dense'>\n",
      "<class 'tensorflow.python.keras.layers.core.Dense'>\n"
     ]
    },
    {
     "ename": "NameError",
     "evalue": "name 'get_min_max_for_single_layer' is not defined",
     "output_type": "error",
     "traceback": [
      "\u001b[0;31m---------------------------------------------------------------------------\u001b[0m",
      "\u001b[0;31mNameError\u001b[0m                                 Traceback (most recent call last)",
      "\u001b[0;32m/tmp/ipykernel_4799/1598345055.py\u001b[0m in \u001b[0;36m<module>\u001b[0;34m\u001b[0m\n\u001b[1;32m     26\u001b[0m \u001b[0mactivation_function\u001b[0m \u001b[0;34m=\u001b[0m \u001b[0;34m\"sigmoid\"\u001b[0m\u001b[0;34m\u001b[0m\u001b[0;34m\u001b[0m\u001b[0m\n\u001b[1;32m     27\u001b[0m \u001b[0;34m\u001b[0m\u001b[0m\n\u001b[0;32m---> 28\u001b[0;31m \u001b[0mmin_vec_new\u001b[0m\u001b[0;34m,\u001b[0m \u001b[0mmax_vec_new\u001b[0m \u001b[0;34m=\u001b[0m \u001b[0mget_min_max_for_single_layer\u001b[0m\u001b[0;34m(\u001b[0m\u001b[0mw\u001b[0m\u001b[0;34m,\u001b[0m \u001b[0mb\u001b[0m\u001b[0;34m,\u001b[0m \u001b[0mactivation_function\u001b[0m\u001b[0;34m,\u001b[0m \u001b[0mmin_vec\u001b[0m\u001b[0;34m,\u001b[0m \u001b[0mmax_vec\u001b[0m\u001b[0;34m)\u001b[0m\u001b[0;34m\u001b[0m\u001b[0;34m\u001b[0m\u001b[0m\n\u001b[0m\u001b[1;32m     29\u001b[0m \u001b[0;34m\u001b[0m\u001b[0m\n\u001b[1;32m     30\u001b[0m \u001b[0;31m# print(min_vec_new)\u001b[0m\u001b[0;34m\u001b[0m\u001b[0;34m\u001b[0m\u001b[0;34m\u001b[0m\u001b[0m\n",
      "\u001b[0;31mNameError\u001b[0m: name 'get_min_max_for_single_layer' is not defined"
     ]
    }
   ],
   "source": [
    "# get the parameters of the layer of the model\n",
    "layers=[]\n",
    "for layer in model.layers:\n",
    "    layers.append(layer.get_weights())\n",
    "# print(\"layer type is: \" + str(type(layers)))\n",
    "# print(\"w1 shape is: \" + str(layers[0][0].shape))\n",
    "# print(\"b1 shape is: \" + str(layers[0][1].shape))\n",
    "# print(\"w2 shape is: \" + str(layers[1][0].shape))\n",
    "# print(\"b2 shape is: \" + str(layers[1][1].shape))\n",
    "# print(\"w type is:\" + str(type(layers[0][0])))\n",
    "# print(layers[1][0].shape)\n",
    "# print(type(layers[0][0]))\n",
    "\n",
    "\n",
    "# test case7-1 for get_min_max_for_single_layer(w, b, activation, min_prev, max_prev)\n",
    "min_vec = x_train[0]\n",
    "max_vec = min_vec.copy()\n",
    "for i in range(len(min_vec)):\n",
    "    if max_vec[i] <= 250:\n",
    "        max_vec[i] = min_vec[i] + 5\n",
    "    else:\n",
    "        max_vec[i] = 255\n",
    "w = layers[0][0]\n",
    "b = layers[0][1]\n",
    "activation_function = \"sigmoid\"\n",
    "\n",
    "min_vec_new, max_vec_new = get_min_max_for_single_layer(w, b, activation_function, min_vec, max_vec)\n",
    "\n",
    "# print(min_vec_new)\n",
    "# print(max_vec_new)"
   ]
  },
  {
   "cell_type": "code",
   "execution_count": null,
   "id": "ea47cb46-834e-464c-b733-a3b53bb13db1",
   "metadata": {},
   "outputs": [],
   "source": []
  },
  {
   "cell_type": "code",
   "execution_count": 53,
   "id": "993a9074-3ef1-4376-9a50-9cc236e71b08",
   "metadata": {},
   "outputs": [
    {
     "name": "stdout",
     "output_type": "stream",
     "text": [
      "[[0.16946784]\n",
      " [0.09570028]\n",
      " [0.11091658]\n",
      " [0.64102191]\n",
      " [0.00700692]\n",
      " [0.73844952]\n",
      " [0.10243362]\n",
      " [0.14053226]\n",
      " [0.12961275]\n",
      " [0.06684382]]\n",
      "[[0.92220993]\n",
      " [0.70592347]\n",
      " [0.89471693]\n",
      " [0.9912971 ]\n",
      " [0.27309706]\n",
      " [0.9942521 ]\n",
      " [0.88361284]\n",
      " [0.88985082]\n",
      " [0.78446984]\n",
      " [0.7443358 ]]\n"
     ]
    }
   ],
   "source": [
    "# test case7-2 for continue check the second layer of test case 7\n",
    "min_vec = min_vec_new\n",
    "max_vec = max_vec_new\n",
    "\n",
    "w = layers[1][0]\n",
    "b = layers[1][1]\n",
    "activation_function = \"sigmoid\"\n",
    "\n",
    "min_vec_new, max_vec_new = get_min_max_for_single_layer(w, b, activation_function, min_vec, max_vec)\n",
    "\n",
    "print(min_vec_new)\n",
    "print(max_vec_new)"
   ]
  },
  {
   "cell_type": "code",
   "execution_count": 54,
   "id": "b6e3d4ce-79a7-4056-8cc7-7ff7c0c02ce7",
   "metadata": {},
   "outputs": [
    {
     "name": "stdout",
     "output_type": "stream",
     "text": [
      "the first y_train values: [0. 0. 0. 0. 0. 1. 0. 0. 0. 0.]\n"
     ]
    }
   ],
   "source": [
    "# small conclusion for test case7(mnist model)\n",
    "print(\"the first y_train values: \" + str(y_train[0]))"
   ]
  },
  {
   "cell_type": "code",
   "execution_count": null,
   "id": "82f78213-3bc3-450c-9d66-158b5b214a7c",
   "metadata": {},
   "outputs": [],
   "source": []
  }
 ],
 "metadata": {
  "kernelspec": {
   "display_name": "Python [conda env:root] *",
   "language": "python",
   "name": "conda-root-py"
  },
  "language_info": {
   "codemirror_mode": {
    "name": "ipython",
    "version": 3
   },
   "file_extension": ".py",
   "mimetype": "text/x-python",
   "name": "python",
   "nbconvert_exporter": "python",
   "pygments_lexer": "ipython3",
   "version": "3.8.8"
  }
 },
 "nbformat": 4,
 "nbformat_minor": 5
}
