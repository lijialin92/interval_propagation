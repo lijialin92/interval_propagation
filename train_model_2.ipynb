{
 "cells": [
  {
   "cell_type": "code",
   "execution_count": 1,
   "id": "f93803dd-dba9-4115-b104-4677d5b5afe1",
   "metadata": {},
   "outputs": [],
   "source": [
    "import numpy as np\n",
    "import keras\n",
    "from keras.layers import Dense\n",
    "from keras.models import Sequential\n",
    "from matplotlib import pyplot as plt\n",
    "import time"
   ]
  },
  {
   "cell_type": "code",
   "execution_count": 18,
   "id": "cb27efed-b492-4a3f-97e5-5e9ee8fd1494",
   "metadata": {},
   "outputs": [
    {
     "data": {
      "image/png": "[encoded data removed]",
      "text/plain": [
       "<Figure size 432x288 with 1 Axes>"
      ]
     },
     "metadata": {
      "needs_background": "light"
     },
     "output_type": "display_data"
    },
    {
     "name": "stdout",
     "output_type": "stream",
     "text": [
      "Accuracy: 98.00\n"
     ]
    }
   ],
   "source": [
    "# generate a simple model for test. \n",
    "# the model is a 3 layers neural network, the 1st layer is 12 neurons, relu is the activation function\n",
    "# the second layer is 8 neurons, relu is the activation functioin\n",
    "# the third layer is 1 neurons, sigmoid is the activation function \n",
    "# prepare the data set X is a numpy array strore the x1 and x2, Y store the classes for X. x2>=x1 is class 1, x2<x1 is class 2\n",
    "np.random.seed(0)\n",
    "X = np.random.uniform(0. , 100., [700,2])\n",
    "Y = np.zeros((700, 1))\n",
    "\n",
    "for row in range(700):\n",
    "    if X[row][0] <= X[row][1]:\n",
    "        Y[row] = 1\n",
    "    else:\n",
    "        Y[row] = 0\n",
    "# divide into train and test data set\n",
    "X_train = X[:600]\n",
    "X_test = X[600:]\n",
    "Y_train = Y[:600]\n",
    "Y_test = Y[600:]\n",
    "\n",
    "model = Sequential()\n",
    "\n",
    "model.add(Dense(units=12, activation=\"relu\", input_dim=2))\n",
    "model.add(Dense(units=8, activation=\"relu\"))\n",
    "model.add(Dense(units=1, activation=\"sigmoid\"))\n",
    "\n",
    "# plot the losses\n",
    "model.compile(optimizer=\"adam\", loss=\"binary_crossentropy\", metrics=[\"accuracy\"])\n",
    "history=model.fit(X_train, Y_train, batch_size=100,epochs=10, verbose=0, validation_split=.1)\n",
    "loss, accuracy = model.evaluate(X_test, Y_test, verbose=0)\n",
    "plt.plot(history.history['accuracy'])\n",
    "plt.plot(history.history[\"val_accuracy\"])\n",
    "plt.title('model accuracy')\n",
    "plt.ylabel('accuracy')\n",
    "plt.xlabel('epoch')\n",
    "plt.legend(['training', 'validation'], loc='best')\n",
    "plt.show()\n",
    "print('Accuracy: %.2f' % (accuracy*100))"
   ]
  },
  {
   "cell_type": "code",
   "execution_count": 19,
   "id": "49205e3b-32e6-4364-b77b-f5146474e903",
   "metadata": {},
   "outputs": [],
   "source": [
    "# save model\n",
    "model.save(\"x1_smaller_than_x2.h5\")"
   ]
  },
  {
   "cell_type": "code",
   "execution_count": null,
   "id": "83370775-938d-4446-9a4c-654da2c246db",
   "metadata": {},
   "outputs": [],
   "source": [
    "# check the output is the probability that x1 is less than x2\n",
    "np.random.seed(2)\n",
    "xx = np.random.uniform(0., 100., [10,2])\n",
    "yy = model_2.predict(xx)\n",
    "print(xx)\n",
    "print(yy)"
   ]
  },
  {
   "cell_type": "code",
   "execution_count": null,
   "id": "8492f435-1ec6-4a58-a475-2d98863a1063",
   "metadata": {},
   "outputs": [],
   "source": [
    "# try to find out that when x1 is really close to x2 then the output is really near to 0.5\n",
    "np.random.seed(2)\n",
    "xx2 = np.ones((7,2))\n",
    "xx2[0] = [6.,6.23]\n",
    "xx2[1] = [2.,2.2]\n",
    "xx2[2] = [20.,20.]\n",
    "xx2[4] = [45.,45.1]\n",
    "xx2[5] = [36.,36.44]\n",
    "xx2[6] = [90., 8.]\n",
    "print(xx2)\n",
    "\n",
    "yy2 = model_2.predict(xx2)\n",
    "print(yy2)"
   ]
  }
 ],
 "metadata": {
  "kernelspec": {
   "display_name": "Python [conda env:root] *",
   "language": "python",
   "name": "conda-root-py"
  },
  "language_info": {
   "codemirror_mode": {
    "name": "ipython",
    "version": 3
   },
   "file_extension": ".py",
   "mimetype": "text/x-python",
   "name": "python",
   "nbconvert_exporter": "python",
   "pygments_lexer": "ipython3",
   "version": "3.8.8"
  }
 },
 "nbformat": 4,
 "nbformat_minor": 5
}
